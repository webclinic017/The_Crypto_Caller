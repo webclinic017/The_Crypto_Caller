{
 "cells": [
  {
   "cell_type": "code",
   "execution_count": 1,
   "metadata": {},
   "outputs": [
    {
     "ename": "ModuleNotFoundError",
     "evalue": "No module named 'shap'",
     "output_type": "error",
     "traceback": [
      "\u001b[1;31m---------------------------------------------------------------------------\u001b[0m",
      "\u001b[1;31mModuleNotFoundError\u001b[0m                       Traceback (most recent call last)",
      "\u001b[1;32m<ipython-input-1-b7e6865a4944>\u001b[0m in \u001b[0;36m<module>\u001b[1;34m\u001b[0m\n\u001b[0;32m     10\u001b[0m \u001b[1;32mimport\u001b[0m \u001b[0mkeras\u001b[0m\u001b[1;33m\u001b[0m\u001b[1;33m\u001b[0m\u001b[0m\n\u001b[0;32m     11\u001b[0m \u001b[1;32mimport\u001b[0m \u001b[0mtime\u001b[0m\u001b[1;33m\u001b[0m\u001b[1;33m\u001b[0m\u001b[0m\n\u001b[1;32m---> 12\u001b[1;33m \u001b[1;32mimport\u001b[0m \u001b[0mshap\u001b[0m\u001b[1;33m\u001b[0m\u001b[1;33m\u001b[0m\u001b[0m\n\u001b[0m\u001b[0;32m     13\u001b[0m \u001b[1;32mimport\u001b[0m \u001b[0mtensorflow\u001b[0m \u001b[1;32mas\u001b[0m \u001b[0mtf\u001b[0m\u001b[1;33m\u001b[0m\u001b[1;33m\u001b[0m\u001b[0m\n\u001b[0;32m     14\u001b[0m \u001b[1;33m\u001b[0m\u001b[0m\n",
      "\u001b[1;31mModuleNotFoundError\u001b[0m: No module named 'shap'"
     ]
    }
   ],
   "source": [
    "# Import the required libraries and dependencies\n",
    "import os\n",
    "import requests\n",
    "import json\n",
    "import pandas as pd\n",
    "import alpaca_trade_api as tradeapi\n",
    "import numpy as np\n",
    "import itertools\n",
    "import sklearn\n",
    "import keras\n",
    "import time\n",
    "import shap\n",
    "import tensorflow as tf\n",
    "\n",
    "from pathlib import Path\n",
    "from keras.models import Sequential\n",
    "from keras.layers import Dense, Dropout, CuDNNLSTM, Conv1D\n",
    "from matplotlib import pyplot as plt\n",
    "from sklearn import preprocessing\n",
    "\n",
    "from sklearn.model_selection import train_test_split\n",
    "import matplotlib.pyplot as plt\n",
    "import matplotlib.ticker as mticker\n",
    "from mplfinance.original_flavor import candlestick_ohlc\n",
    "\n",
    "\n",
    "print('Numpy version: ' + np.__version__)\n",
    "print('Pandas version: ' + pd.__version__)\n",
    "print('Sklearn version: ' + sklearn.__version__)\n",
    "print('Keras version: ' + keras.__version__)\n",
    "\n",
    "%matplotlib inline"
   ]
  },
  {
   "cell_type": "code",
   "execution_count": 2,
   "metadata": {},
   "outputs": [],
   "source": [
    "# Class Object to measure time\n",
    "class MeasureTime:\n",
    "    def __init__(self):\n",
    "        self.start = time.time()\n",
    "    def kill(self):\n",
    "        print ('Time elapsed: ' + time.strftime(\"%H:%M:%S\", time.gmtime(time.time()-self.start)))\n",
    "        del self\n"
   ]
  },
  {
   "cell_type": "markdown",
   "metadata": {},
   "source": [
    "#### Download BTC data and create BTC dataframe."
   ]
  },
  {
   "cell_type": "code",
   "execution_count": 3,
   "metadata": {},
   "outputs": [
    {
     "data": {
      "text/html": [
       "<div>\n",
       "<style scoped>\n",
       "    .dataframe tbody tr th:only-of-type {\n",
       "        vertical-align: middle;\n",
       "    }\n",
       "\n",
       "    .dataframe tbody tr th {\n",
       "        vertical-align: top;\n",
       "    }\n",
       "\n",
       "    .dataframe thead th {\n",
       "        text-align: right;\n",
       "    }\n",
       "</style>\n",
       "<table border=\"1\" class=\"dataframe\">\n",
       "  <thead>\n",
       "    <tr style=\"text-align: right;\">\n",
       "      <th></th>\n",
       "      <th>Open</th>\n",
       "      <th>High</th>\n",
       "      <th>Low</th>\n",
       "      <th>Close</th>\n",
       "    </tr>\n",
       "    <tr>\n",
       "      <th>Date</th>\n",
       "      <th></th>\n",
       "      <th></th>\n",
       "      <th></th>\n",
       "      <th></th>\n",
       "    </tr>\n",
       "  </thead>\n",
       "  <tbody>\n",
       "    <tr>\n",
       "      <th>2021-11-12</th>\n",
       "      <td>64863.980469</td>\n",
       "      <td>65460.816406</td>\n",
       "      <td>62333.914062</td>\n",
       "      <td>64155.941406</td>\n",
       "    </tr>\n",
       "    <tr>\n",
       "      <th>2021-11-13</th>\n",
       "      <td>64158.121094</td>\n",
       "      <td>64915.675781</td>\n",
       "      <td>63303.734375</td>\n",
       "      <td>64469.527344</td>\n",
       "    </tr>\n",
       "    <tr>\n",
       "      <th>2021-11-14</th>\n",
       "      <td>64455.371094</td>\n",
       "      <td>65495.179688</td>\n",
       "      <td>63647.808594</td>\n",
       "      <td>65466.839844</td>\n",
       "    </tr>\n",
       "    <tr>\n",
       "      <th>2021-11-15</th>\n",
       "      <td>65521.289062</td>\n",
       "      <td>66281.570312</td>\n",
       "      <td>63548.144531</td>\n",
       "      <td>63557.871094</td>\n",
       "    </tr>\n",
       "    <tr>\n",
       "      <th>2021-11-16</th>\n",
       "      <td>63190.082031</td>\n",
       "      <td>63190.082031</td>\n",
       "      <td>59083.867188</td>\n",
       "      <td>60715.683594</td>\n",
       "    </tr>\n",
       "  </tbody>\n",
       "</table>\n",
       "</div>"
      ],
      "text/plain": [
       "                    Open          High           Low         Close\n",
       "Date                                                              \n",
       "2021-11-12  64863.980469  65460.816406  62333.914062  64155.941406\n",
       "2021-11-13  64158.121094  64915.675781  63303.734375  64469.527344\n",
       "2021-11-14  64455.371094  65495.179688  63647.808594  65466.839844\n",
       "2021-11-15  65521.289062  66281.570312  63548.144531  63557.871094\n",
       "2021-11-16  63190.082031  63190.082031  59083.867188  60715.683594"
      ]
     },
     "execution_count": 3,
     "metadata": {},
     "output_type": "execute_result"
    }
   ],
   "source": [
    "# Load the data into a Pandas DataFrame\n",
    "BTC_df = pd.read_csv(\n",
    "    Path('../Resources/BTC_data.csv'),\n",
    "    index_col=\"Date\")\n",
    "BTC_df.drop(['Adj Close','Volume'], axis=1, inplace=True)\n",
    "BTC_df.tail()"
   ]
  },
  {
   "cell_type": "markdown",
   "metadata": {},
   "source": [
    "# Visualize the actual OHLC candlestick chart.\n",
    "by using matplotlib library with finnance extension called mpl_finance"
   ]
  },
  {
   "cell_type": "code",
   "execution_count": 4,
   "metadata": {},
   "outputs": [
    {
     "name": "stderr",
     "output_type": "stream",
     "text": [
      "Creating an ndarray from ragged nested sequences (which is a list-or-tuple of lists-or-tuples-or ndarrays with different lengths or shapes) is deprecated. If you meant to do this, you must specify 'dtype=object' when creating the ndarray\n"
     ]
    },
    {
     "data": {
      "image/png": "[encoded data removed]",
      "text/plain": [
       "<Figure size 432x288 with 1 Axes>"
      ]
     },
     "metadata": {
      "needs_background": "light"
     },
     "output_type": "display_data"
    }
   ],
   "source": [
    "# Plot OHLC candlestick data in to chart\n",
    "def graph_data_ohlc(dataset):\n",
    "    fig = plt.figure()\n",
    "    ax1 = plt.subplot2grid((1,1), (0,0))\n",
    "    closep=dataset[:,[3]]\n",
    "    highp=dataset[:,[1]]\n",
    "    lowp=dataset[:,[2]]\n",
    "    openp=dataset[:,[0]]\n",
    "    date=range(len(closep))\n",
    "\n",
    "    x = 0\n",
    "    y = len(date)\n",
    "    ohlc = []\n",
    "    while x < y:\n",
    "        append_me = date[x], openp[x], highp[x], lowp[x], closep[x]\n",
    "        ohlc.append(append_me)\n",
    "        x+=1\n",
    "    candlestick_ohlc(ax1, ohlc, width=0.4, colorup='#77d879', colordown='#db3f3f')\n",
    "    for label in ax1.xaxis.get_ticklabels():\n",
    "        label.set_rotation(45)\n",
    "    ax1.xaxis.set_major_locator(mticker.MaxNLocator(10))\n",
    "    ax1.grid(True)\n",
    "    plt.xlabel('Candle')\n",
    "    plt.ylabel('Price')\n",
    "    plt.title('Candlestick sample representation')\n",
    "\n",
    "    plt.subplots_adjust(left=0.09, bottom=0.20, right=0.94, top=0.90, wspace=0.2, hspace=0)\n",
    "    plt.show()\n",
    "\n",
    "# Visualize 1000 candlesticks on the OHLC chart in one time\n",
    "graph_data_ohlc(BTC_df.tail(1000).values)\n"
   ]
  },
  {
   "cell_type": "markdown",
   "metadata": {},
   "source": [
    "#### Converting data to time series format."
   ]
  },
  {
   "cell_type": "code",
   "execution_count": 5,
   "metadata": {},
   "outputs": [
    {
     "name": "stdout",
     "output_type": "stream",
     "text": [
      "Time elapsed: 00:00:00\n"
     ]
    },
    {
     "data": {
      "text/plain": [
       "(2611, 3, 4)"
      ]
     },
     "execution_count": 5,
     "metadata": {},
     "output_type": "execute_result"
    }
   ],
   "source": [
    "# Custom generator function to create 3d arrays of candles sequence\n",
    "def my_generator(data,lookback):\n",
    "    final_output = []\n",
    "    counter = 0\n",
    "    first_row = 0\n",
    "    arr = np.empty((1,lookback,4), int)\n",
    "    for a in range(len(data)-lookback):\n",
    "        temp_list = []\n",
    "        for candle in data[first_row:first_row+lookback]:\n",
    "            temp_list.append(candle)\n",
    "        temp_list2 = np.asarray(temp_list)\n",
    "        templist3 = [temp_list2]\n",
    "        templist4 = np.asarray(templist3)\n",
    "        arr = np.append(arr, templist4, axis=0)\n",
    "        first_row=first_row+1\n",
    "    return arr\n",
    "\n",
    "cell_timer = MeasureTime()\n",
    "three_dim_sequence = np.asarray(my_generator(BTC_df.values[1:],3))\n",
    "cell_timer.kill()\n",
    "\n",
    "# Check the shape of 3 dimension array\n",
    "three_dim_sequence.shape"
   ]
  },
  {
   "cell_type": "code",
   "execution_count": 6,
   "metadata": {},
   "outputs": [
    {
     "name": "stdout",
     "output_type": "stream",
     "text": [
      "Step 1\n"
     ]
    },
    {
     "data": {
      "image/png": "[encoded data removed]",
      "text/plain": [
       "<Figure size 432x288 with 1 Axes>"
      ]
     },
     "metadata": {
      "needs_background": "light"
     },
     "output_type": "display_data"
    },
    {
     "name": "stdout",
     "output_type": "stream",
     "text": [
      "Step 2\n"
     ]
    },
    {
     "data": {
      "image/png": "[encoded data removed]",
      "text/plain": [
       "<Figure size 432x288 with 1 Axes>"
      ]
     },
     "metadata": {
      "needs_background": "light"
     },
     "output_type": "display_data"
    },
    {
     "name": "stdout",
     "output_type": "stream",
     "text": [
      "Step 3\n"
     ]
    },
    {
     "data": {
      "image/png": "[encoded data removed]",
      "text/plain": [
       "<Figure size 432x288 with 1 Axes>"
      ]
     },
     "metadata": {
      "needs_background": "light"
     },
     "output_type": "display_data"
    },
    {
     "name": "stdout",
     "output_type": "stream",
     "text": [
      "Step 4\n"
     ]
    },
    {
     "data": {
      "image/png": "[encoded data removed]",
      "text/plain": [
       "<Figure size 432x288 with 1 Axes>"
      ]
     },
     "metadata": {
      "needs_background": "light"
     },
     "output_type": "display_data"
    },
    {
     "name": "stdout",
     "output_type": "stream",
     "text": [
      "Step 5\n"
     ]
    },
    {
     "data": {
      "image/png": "[encoded data removed]",
      "text/plain": [
       "<Figure size 432x288 with 1 Axes>"
      ]
     },
     "metadata": {
      "needs_background": "light"
     },
     "output_type": "display_data"
    }
   ],
   "source": [
    "# Visualize the step by step sequency of price movements on the OHLC chart\n",
    "counter=0\n",
    "for candle in three_dim_sequence[1000:1005]:\n",
    "    counter=counter+1\n",
    "    print('Step ' + str(counter))\n",
    "    graph_data_ohlc(candle)\n"
   ]
  },
  {
   "cell_type": "markdown",
   "metadata": {},
   "source": [
    "#### Convert the price data in to actual candlestick parameters"
   ]
  },
  {
   "cell_type": "code",
   "execution_count": 7,
   "metadata": {},
   "outputs": [],
   "source": [
    "# Convert OHLC data in to candlestick parameters data\n",
    "def ohlc_to_candlestick(conversion_array):\n",
    "    candlestick_data = [0,0,0,0]\n",
    "\n",
    "    if conversion_array[3]>conversion_array[0]:\n",
    "        candle_type=1\n",
    "        wicks_up=conversion_array[1]-conversion_array[3]\n",
    "        wicks_down=conversion_array[2]-conversion_array[0]\n",
    "        body_size=conversion_array[3]-conversion_array[0]\n",
    "\n",
    "    else:\n",
    "        candle_type=0\n",
    "        wicks_up=conversion_array[1]-conversion_array[0]\n",
    "        wicks_down=conversion_array[2]-conversion_array[3]\n",
    "        body_size=conversion_array[1]-conversion_array[3]\n",
    "\n",
    "\n",
    "    if wicks_up < 0:wicks_up=wicks_up*(-1)\n",
    "    if wicks_down < 0:wicks_down=wicks_down*(-1)\n",
    "    if body_size < 0:body_size=body_size*(-1)\n",
    "    candlestick_data[0]=candle_type\n",
    "    candlestick_data[1]=round(round(wicks_up,5)*10000,2)\n",
    "    candlestick_data[2]=round(round(wicks_down,5)*10000,2)\n",
    "    candlestick_data[3]=round(round(body_size,5)*10000,2)\n",
    "\n",
    "    return candlestick_data\n"
   ]
  },
  {
   "cell_type": "markdown",
   "metadata": {},
   "source": [
    "#### Apply this function in to generator function to get sequences with candlestick data instead of OHLC data"
   ]
  },
  {
   "cell_type": "code",
   "execution_count": 8,
   "metadata": {},
   "outputs": [
    {
     "data": {
      "text/plain": [
       "array([], shape=(0, 3, 4), dtype=float64)"
      ]
     },
     "execution_count": 8,
     "metadata": {},
     "output_type": "execute_result"
    }
   ],
   "source": [
    "# Generator function to get sequences with candlestick data instead of OHLC data\n",
    "def my_generator_candle(data,lookback):\n",
    "    first_row = 0\n",
    "    arr = np.empty((1,lookback,4), int)\n",
    "    for a in range(len(data)-lookback):\n",
    "        temp_list = []\n",
    "        for candle in data[first_row:first_row+lookback]:\n",
    "            converted_data = ohlc_to_candlestick(candle)\n",
    "            temp_list.append(converted_data)\n",
    "        temp_list2 = np.asarray(temp_list)\n",
    "        templist3 = [temp_list2]\n",
    "        templist4 = np.asarray(templist3)\n",
    "        arr = np.append(arr, templist4, axis=0)\n",
    "        first_row=first_row+1\n",
    "    return arr\n",
    "\n",
    "# Get data in form of sequences made from last 3 candles\n",
    "three_dim_sequence_candle=my_generator_candle(BTC_df.values[1:],3)\n",
    "\n",
    "# Check conversion data\n",
    "three_dim_sequence_candle[5000:5005]\n",
    "\n"
   ]
  },
  {
   "cell_type": "markdown",
   "metadata": {},
   "source": [
    "# Generate forecasting data"
   ]
  },
  {
   "cell_type": "code",
   "execution_count": 9,
   "metadata": {},
   "outputs": [],
   "source": [
    "# Update of the generator to return one more array with 1 or 0 (Bullish or Bearish)\n",
    "def my_generator_candle_X_Y(data,lookback,MinMax = False):\n",
    "    if MinMax==True:scaler = preprocessing.MinMaxScaler()\n",
    "    first_row = 0\n",
    "    arr = np.empty((0,lookback,4))\n",
    "    arr3 = np.empty((0,lookback,4))\n",
    "    Y_list = []\n",
    "    for a in range(len(data)-lookback):\n",
    "        temp_list = []\n",
    "        temp_list_raw = []\n",
    "        for candle in data[first_row:first_row+lookback]:\n",
    "            converted_data = ohlc_to_candlestick(candle)\n",
    "            temp_list.append(converted_data)\n",
    "            temp_list_raw.append(candle)\n",
    "        temp_list3 = [np.asarray(temp_list)]\n",
    "        templist4 = np.asarray(temp_list3)\n",
    "\n",
    "        if MinMax==True:\n",
    "            templist99 = scaler.fit_transform(templist4[0])\n",
    "            arr = np.append(arr, [templist99], axis=0)\n",
    "        else:\n",
    "            arr = np.append(arr, templist4, axis=0)\n",
    "\n",
    "        temp_list7 = [np.asarray(temp_list_raw)]\n",
    "        templist8 = np.asarray(temp_list7)\n",
    "        arr3 = np.append(arr3, templist8, axis=0)\n",
    "\n",
    "        converted_data_prediction = ohlc_to_candlestick(data[first_row+lookback])\n",
    "        Prediction = converted_data_prediction[0]\n",
    "        Y_list.append(Prediction)\n",
    "\n",
    "        first_row=first_row+1\n",
    "\n",
    "    arr2 = np.asarray(Y_list)\n",
    "\n",
    "    return arr,arr2,arr3\n"
   ]
  },
  {
   "cell_type": "markdown",
   "metadata": {},
   "source": [
    "#### Define data set\n",
    "* X = Input dataset on which our neural network will make predictions\n",
    "* Y = Prediction dataset (results of the correct predictions)"
   ]
  },
  {
   "cell_type": "code",
   "execution_count": 10,
   "metadata": {},
   "outputs": [
    {
     "name": "stdout",
     "output_type": "stream",
     "text": [
      "Time elapsed: 00:00:00\n",
      "Shape of X (2611, 3, 4)\n",
      "Shape of Y (2611,)\n",
      "Shape of X raw ohlc (2611, 3, 4)\n"
     ]
    },
    {
     "data": {
      "text/plain": [
       "array([[1.00000e+00, 3.50000e+04, 2.52499e+04, 8.77200e+04],\n",
       "       [0.00000e+00, 1.32800e+04, 3.23300e+04, 1.30480e+05],\n",
       "       [1.00000e+00, 2.78900e+04, 5.08200e+04, 1.07901e+04]])"
      ]
     },
     "metadata": {},
     "output_type": "display_data"
    },
    {
     "data": {
      "text/plain": [
       "0"
      ]
     },
     "metadata": {},
     "output_type": "display_data"
    },
    {
     "data": {
      "text/plain": [
       "array([[319.15200806, 331.42401123, 316.62701416, 327.92401123],\n",
       "       [327.58300781, 328.91101074, 312.63000488, 315.86300659],\n",
       "       [316.16000366, 320.02801514, 311.07800293, 317.23901367]])"
      ]
     },
     "metadata": {},
     "output_type": "display_data"
    }
   ],
   "source": [
    "# Define X, Y variables\n",
    "cell_timer = MeasureTime()\n",
    "X,Y, X_raw = my_generator_candle_X_Y(BTC_df.values,3,MinMax=False)\n",
    "cell_timer.kill()\n",
    "\n",
    "\n",
    "# Exploring the generated dataset\n",
    "print('Shape of X ' + str(X.shape))\n",
    "print('Shape of Y ' + str(Y.shape))\n",
    "print('Shape of X raw ohlc ' + str(X_raw.shape))\n",
    "\n",
    "display(X[100])\n",
    "display(Y[100])\n",
    "display(X_raw[100])\n"
   ]
  },
  {
   "cell_type": "code",
   "execution_count": 11,
   "metadata": {},
   "outputs": [
    {
     "name": "stdout",
     "output_type": "stream",
     "text": [
      "Bull: 1415 percent: 54.19%\n",
      "Bear: 1196 percent: 45.81%\n",
      "Total: 2611\n"
     ]
    }
   ],
   "source": [
    "# Bullish and bearish predictions count\n",
    "unique, counts = np.unique(Y, return_counts=True)\n",
    "predictions_type = dict(zip(unique, counts))\n",
    "print('Bull: ' + str((predictions_type[1])) + ' percent: ' + str(round((predictions_type[1]*100)/len(Y),2)) + '%')\n",
    "print('Bear: ' + str((predictions_type[0])) + ' percent: ' + str(round((predictions_type[0]*100)/len(Y),2)) + '%')\n",
    "print('Total: ' + str(len(Y)))"
   ]
  },
  {
   "cell_type": "code",
   "execution_count": 12,
   "metadata": {},
   "outputs": [
    {
     "name": "stdout",
     "output_type": "stream",
     "text": [
      "Correct prediction would be Bullish ---^\n"
     ]
    },
    {
     "data": {
      "image/png": "[encoded data removed]",
      "text/plain": [
       "<Figure size 432x288 with 1 Axes>"
      ]
     },
     "metadata": {
      "needs_background": "light"
     },
     "output_type": "display_data"
    },
    {
     "name": "stdout",
     "output_type": "stream",
     "text": [
      "Correct prediction would be Bullish ---^\n"
     ]
    },
    {
     "data": {
      "image/png": "[encoded data removed]",
      "text/plain": [
       "<Figure size 432x288 with 1 Axes>"
      ]
     },
     "metadata": {
      "needs_background": "light"
     },
     "output_type": "display_data"
    },
    {
     "name": "stdout",
     "output_type": "stream",
     "text": [
      "Correct prediction would be Bearish ---v\n"
     ]
    },
    {
     "data": {
      "image/png": "[encoded data removed]",
      "text/plain": [
       "<Figure size 432x288 with 1 Axes>"
      ]
     },
     "metadata": {
      "needs_background": "light"
     },
     "output_type": "display_data"
    },
    {
     "name": "stdout",
     "output_type": "stream",
     "text": [
      "Correct prediction would be Bullish ---^\n"
     ]
    },
    {
     "data": {
      "image/png": "[encoded data removed]",
      "text/plain": [
       "<Figure size 432x288 with 1 Axes>"
      ]
     },
     "metadata": {
      "needs_background": "light"
     },
     "output_type": "display_data"
    },
    {
     "name": "stdout",
     "output_type": "stream",
     "text": [
      "Correct prediction would be Bullish ---^\n"
     ]
    },
    {
     "data": {
      "image/png": "[encoded data removed]",
      "text/plain": [
       "<Figure size 432x288 with 1 Axes>"
      ]
     },
     "metadata": {
      "needs_background": "light"
     },
     "output_type": "display_data"
    }
   ],
   "source": [
    "# Visualize the candle sequence\n",
    "for a in range(5):\n",
    "    b=a+1000\n",
    "    if Y[b] == 1:print('Correct prediction would be Bullish ---^')\n",
    "    if Y[b] == 0:print('Correct prediction would be Bearish ---v')\n",
    "    graph_data_ohlc(X_raw[b])\n"
   ]
  },
  {
   "cell_type": "markdown",
   "metadata": {},
   "source": [
    "## Build Deep Learning model "
   ]
  },
  {
   "cell_type": "markdown",
   "metadata": {},
   "source": [
    "#### Defining the model using LSTM network ( Long-Term Short-Term)"
   ]
  },
  {
   "cell_type": "code",
   "execution_count": 13,
   "metadata": {},
   "outputs": [],
   "source": [
    "# Defining the model\n",
    "from keras import layers\n",
    "from tensorflow.keras.optimizers import RMSprop,Adam\n",
    "\n",
    "\n",
    "model = Sequential()\n",
    "model.add(layers.CuDNNLSTM(units = 12,return_sequences=True, input_shape = (None, X.shape[-1])))\n",
    "model.add(layers.CuDNNLSTM(units = 24))\n",
    "model.add(layers.Dense(units = 1,activation='sigmoid'))\n"
   ]
  },
  {
   "cell_type": "code",
   "execution_count": 14,
   "metadata": {},
   "outputs": [
    {
     "name": "stdout",
     "output_type": "stream",
     "text": [
      "Model: \"sequential\"\n",
      "_________________________________________________________________\n",
      " Layer (type)                Output Shape              Param #   \n",
      "=================================================================\n",
      " cu_dnnlstm (CuDNNLSTM)      (None, None, 12)          864       \n",
      "                                                                 \n",
      " cu_dnnlstm_1 (CuDNNLSTM)    (None, 24)                3648      \n",
      "                                                                 \n",
      " dense (Dense)               (None, 1)                 25        \n",
      "                                                                 \n",
      "=================================================================\n",
      "Total params: 4,537\n",
      "Trainable params: 4,537\n",
      "Non-trainable params: 0\n",
      "_________________________________________________________________\n"
     ]
    }
   ],
   "source": [
    "# Complile the model\n",
    "model.compile(optimizer='rmsprop', loss='binary_crossentropy', metrics=['acc'])\n",
    "model.summary()"
   ]
  },
  {
   "cell_type": "markdown",
   "metadata": {},
   "source": [
    "#### Train the deep learning model\n",
    "Split data for 3 parts:\n",
    "* Traning dataset\n",
    "* Validation dataset\n",
    "* Test dataset\n"
   ]
  },
  {
   "cell_type": "code",
   "execution_count": 16,
   "metadata": {},
   "outputs": [
    {
     "name": "stdout",
     "output_type": "stream",
     "text": [
      "Time elapsed: 00:00:00\n",
      "Epoch 1/13\n"
     ]
    },
    {
     "ename": "InvalidArgumentError",
     "evalue": "No OpKernel was registered to support Op 'CudnnRNNV2' used by {{node sequential/cu_dnnlstm/CudnnRNNV2}} with these attrs: [seed=0, dropout=0, T=DT_FLOAT, input_mode=\"linear_input\", direction=\"unidirectional\", rnn_mode=\"lstm\", seed2=0, is_training=true]\nRegistered devices: [CPU]\nRegistered kernels:\n  device='GPU'; T in [DT_HALF]\n  device='GPU'; T in [DT_FLOAT]\n  device='GPU'; T in [DT_DOUBLE]\n\n\t [[sequential/cu_dnnlstm/CudnnRNNV2]] [Op:__inference_train_function_2527]",
     "output_type": "error",
     "traceback": [
      "\u001b[1;31m---------------------------------------------------------------------------\u001b[0m",
      "\u001b[1;31mInvalidArgumentError\u001b[0m                      Traceback (most recent call last)",
      "\u001b[1;32m<ipython-input-16-f04e27df6d26>\u001b[0m in \u001b[0;36m<module>\u001b[1;34m\u001b[0m\n\u001b[0;32m     10\u001b[0m \u001b[1;31m# Train model 13 times with 500 training dataset\u001b[0m\u001b[1;33m\u001b[0m\u001b[1;33m\u001b[0m\u001b[1;33m\u001b[0m\u001b[0m\n\u001b[0;32m     11\u001b[0m \u001b[0mcell_timer\u001b[0m \u001b[1;33m=\u001b[0m \u001b[0mMeasureTime\u001b[0m\u001b[1;33m(\u001b[0m\u001b[1;33m)\u001b[0m\u001b[1;33m\u001b[0m\u001b[1;33m\u001b[0m\u001b[0m\n\u001b[1;32m---> 12\u001b[1;33m \u001b[0mhistory\u001b[0m \u001b[1;33m=\u001b[0m \u001b[0mmodel\u001b[0m\u001b[1;33m.\u001b[0m\u001b[0mfit\u001b[0m\u001b[1;33m(\u001b[0m\u001b[0mX_train\u001b[0m\u001b[1;33m,\u001b[0m \u001b[0mY_train\u001b[0m\u001b[1;33m,\u001b[0m\u001b[0mbatch_size\u001b[0m\u001b[1;33m=\u001b[0m\u001b[1;36m500\u001b[0m\u001b[1;33m,\u001b[0m \u001b[0mepochs\u001b[0m\u001b[1;33m=\u001b[0m\u001b[1;36m13\u001b[0m\u001b[1;33m,\u001b[0m\u001b[0mvalidation_data\u001b[0m\u001b[1;33m=\u001b[0m\u001b[1;33m(\u001b[0m\u001b[0mX_val\u001b[0m\u001b[1;33m,\u001b[0m \u001b[0mY_val\u001b[0m\u001b[1;33m)\u001b[0m\u001b[1;33m)\u001b[0m\u001b[1;33m\u001b[0m\u001b[1;33m\u001b[0m\u001b[0m\n\u001b[0m\u001b[0;32m     13\u001b[0m \u001b[0mcell_timer\u001b[0m\u001b[1;33m.\u001b[0m\u001b[0mkill\u001b[0m\u001b[1;33m(\u001b[0m\u001b[1;33m)\u001b[0m\u001b[1;33m\u001b[0m\u001b[1;33m\u001b[0m\u001b[0m\n\u001b[0;32m     14\u001b[0m \u001b[1;33m\u001b[0m\u001b[0m\n",
      "\u001b[1;32mC:\\Anaconda3\\envs\\dev\\lib\\site-packages\\keras\\utils\\traceback_utils.py\u001b[0m in \u001b[0;36merror_handler\u001b[1;34m(*args, **kwargs)\u001b[0m\n\u001b[0;32m     65\u001b[0m     \u001b[1;32mexcept\u001b[0m \u001b[0mException\u001b[0m \u001b[1;32mas\u001b[0m \u001b[0me\u001b[0m\u001b[1;33m:\u001b[0m  \u001b[1;31m# pylint: disable=broad-except\u001b[0m\u001b[1;33m\u001b[0m\u001b[1;33m\u001b[0m\u001b[0m\n\u001b[0;32m     66\u001b[0m       \u001b[0mfiltered_tb\u001b[0m \u001b[1;33m=\u001b[0m \u001b[0m_process_traceback_frames\u001b[0m\u001b[1;33m(\u001b[0m\u001b[0me\u001b[0m\u001b[1;33m.\u001b[0m\u001b[0m__traceback__\u001b[0m\u001b[1;33m)\u001b[0m\u001b[1;33m\u001b[0m\u001b[1;33m\u001b[0m\u001b[0m\n\u001b[1;32m---> 67\u001b[1;33m       \u001b[1;32mraise\u001b[0m \u001b[0me\u001b[0m\u001b[1;33m.\u001b[0m\u001b[0mwith_traceback\u001b[0m\u001b[1;33m(\u001b[0m\u001b[0mfiltered_tb\u001b[0m\u001b[1;33m)\u001b[0m \u001b[1;32mfrom\u001b[0m \u001b[1;32mNone\u001b[0m\u001b[1;33m\u001b[0m\u001b[1;33m\u001b[0m\u001b[0m\n\u001b[0m\u001b[0;32m     68\u001b[0m     \u001b[1;32mfinally\u001b[0m\u001b[1;33m:\u001b[0m\u001b[1;33m\u001b[0m\u001b[1;33m\u001b[0m\u001b[0m\n\u001b[0;32m     69\u001b[0m       \u001b[1;32mdel\u001b[0m \u001b[0mfiltered_tb\u001b[0m\u001b[1;33m\u001b[0m\u001b[1;33m\u001b[0m\u001b[0m\n",
      "\u001b[1;32m~\\AppData\\Roaming\\Python\\Python37\\site-packages\\tensorflow\\python\\eager\\execute.py\u001b[0m in \u001b[0;36mquick_execute\u001b[1;34m(op_name, num_outputs, inputs, attrs, ctx, name)\u001b[0m\n\u001b[0;32m     57\u001b[0m     \u001b[0mctx\u001b[0m\u001b[1;33m.\u001b[0m\u001b[0mensure_initialized\u001b[0m\u001b[1;33m(\u001b[0m\u001b[1;33m)\u001b[0m\u001b[1;33m\u001b[0m\u001b[1;33m\u001b[0m\u001b[0m\n\u001b[0;32m     58\u001b[0m     tensors = pywrap_tfe.TFE_Py_Execute(ctx._handle, device_name, op_name,\n\u001b[1;32m---> 59\u001b[1;33m                                         inputs, attrs, num_outputs)\n\u001b[0m\u001b[0;32m     60\u001b[0m   \u001b[1;32mexcept\u001b[0m \u001b[0mcore\u001b[0m\u001b[1;33m.\u001b[0m\u001b[0m_NotOkStatusException\u001b[0m \u001b[1;32mas\u001b[0m \u001b[0me\u001b[0m\u001b[1;33m:\u001b[0m\u001b[1;33m\u001b[0m\u001b[1;33m\u001b[0m\u001b[0m\n\u001b[0;32m     61\u001b[0m     \u001b[1;32mif\u001b[0m \u001b[0mname\u001b[0m \u001b[1;32mis\u001b[0m \u001b[1;32mnot\u001b[0m \u001b[1;32mNone\u001b[0m\u001b[1;33m:\u001b[0m\u001b[1;33m\u001b[0m\u001b[1;33m\u001b[0m\u001b[0m\n",
      "\u001b[1;31mInvalidArgumentError\u001b[0m: No OpKernel was registered to support Op 'CudnnRNNV2' used by {{node sequential/cu_dnnlstm/CudnnRNNV2}} with these attrs: [seed=0, dropout=0, T=DT_FLOAT, input_mode=\"linear_input\", direction=\"unidirectional\", rnn_mode=\"lstm\", seed2=0, is_training=true]\nRegistered devices: [CPU]\nRegistered kernels:\n  device='GPU'; T in [DT_HALF]\n  device='GPU'; T in [DT_FLOAT]\n  device='GPU'; T in [DT_DOUBLE]\n\n\t [[sequential/cu_dnnlstm/CudnnRNNV2]] [Op:__inference_train_function_2527]"
     ]
    }
   ],
   "source": [
    "# Split data\n",
    "cell_timer = MeasureTime()\n",
    "X_train, X_val_and_test, Y_train, Y_val_and_test = train_test_split(X, Y, test_size=0.5)\n",
    "X_val, X_test, Y_val, Y_test = train_test_split(X_val_and_test, Y_val_and_test, test_size=0.5)\n",
    "\n",
    "X_train_raw, X_val_and_test_raw= train_test_split(X_raw, test_size=0.5)\n",
    "X_val_raw, X_test_raw = train_test_split(X_val_and_test_raw, test_size=0.5)\n",
    "cell_timer.kill()\n",
    "\n",
    "# Train model 13 times with 500 training dataset\n",
    "cell_timer = MeasureTime()\n",
    "history = model.fit(X_train, Y_train,batch_size=500, epochs=13,validation_data=(X_val, Y_val))\n",
    "cell_timer.kill()\n",
    "\n"
   ]
  },
  {
   "cell_type": "markdown",
   "metadata": {},
   "source": [
    "#### model training loss and validation loss"
   ]
  },
  {
   "cell_type": "code",
   "execution_count": 16,
   "metadata": {},
   "outputs": [
    {
     "ename": "NameError",
     "evalue": "name 'history' is not defined",
     "output_type": "error",
     "traceback": [
      "\u001b[1;31m---------------------------------------------------------------------------\u001b[0m",
      "\u001b[1;31mNameError\u001b[0m                                 Traceback (most recent call last)",
      "\u001b[1;32m<ipython-input-16-b77db3db4546>\u001b[0m in \u001b[0;36m<module>\u001b[1;34m\u001b[0m\n\u001b[0;32m      1\u001b[0m \u001b[1;31m# Chart 1 - Model Loss\u001b[0m\u001b[1;33m\u001b[0m\u001b[1;33m\u001b[0m\u001b[1;33m\u001b[0m\u001b[0m\n\u001b[0;32m      2\u001b[0m \u001b[1;31m#plt.subplot(331)\u001b[0m\u001b[1;33m\u001b[0m\u001b[1;33m\u001b[0m\u001b[1;33m\u001b[0m\u001b[0m\n\u001b[1;32m----> 3\u001b[1;33m \u001b[0mplt\u001b[0m\u001b[1;33m.\u001b[0m\u001b[0mplot\u001b[0m\u001b[1;33m(\u001b[0m\u001b[0mhistory\u001b[0m\u001b[1;33m.\u001b[0m\u001b[0mhistory\u001b[0m\u001b[1;33m[\u001b[0m\u001b[1;34m'loss'\u001b[0m\u001b[1;33m]\u001b[0m\u001b[1;33m)\u001b[0m\u001b[1;33m\u001b[0m\u001b[1;33m\u001b[0m\u001b[0m\n\u001b[0m\u001b[0;32m      4\u001b[0m \u001b[0mplt\u001b[0m\u001b[1;33m.\u001b[0m\u001b[0mplot\u001b[0m\u001b[1;33m(\u001b[0m\u001b[0mhistory\u001b[0m\u001b[1;33m.\u001b[0m\u001b[0mhistory\u001b[0m\u001b[1;33m[\u001b[0m\u001b[1;34m'val_loss'\u001b[0m\u001b[1;33m]\u001b[0m\u001b[1;33m)\u001b[0m\u001b[1;33m\u001b[0m\u001b[1;33m\u001b[0m\u001b[0m\n\u001b[0;32m      5\u001b[0m \u001b[0mplt\u001b[0m\u001b[1;33m.\u001b[0m\u001b[0mtitle\u001b[0m\u001b[1;33m(\u001b[0m\u001b[1;34m'Model loss'\u001b[0m\u001b[1;33m)\u001b[0m\u001b[1;33m\u001b[0m\u001b[1;33m\u001b[0m\u001b[0m\n",
      "\u001b[1;31mNameError\u001b[0m: name 'history' is not defined"
     ]
    }
   ],
   "source": [
    "# Chart 1 - Model Loss\n",
    "#plt.subplot(331)\n",
    "plt.plot(history.history['loss'])\n",
    "plt.plot(history.history['val_loss'])\n",
    "plt.title('Model loss')\n",
    "plt.ylabel('Loss')\n",
    "plt.xlabel('Epoch')\n",
    "plt.legend(['Train', 'Val'], loc='upper right')\n",
    "plt.show()\n",
    "\n",
    "\n",
    "# Chart 2 - Model Accuracy\n",
    "#plt.subplot(332)\n",
    "plt.plot(history.history['acc'])\n",
    "plt.plot(history.history['val_acc'])\n",
    "plt.title('Model accuracy')\n",
    "plt.ylabel('Accuracy')\n",
    "plt.xlabel('Epoch')\n",
    "plt.legend(['Train', 'Val'], loc='lower right')\n",
    "plt.show()"
   ]
  },
  {
   "cell_type": "code",
   "execution_count": null,
   "metadata": {},
   "outputs": [],
   "source": [
    "# Test the model against new data\n",
    "test_loss, test_acc = model.evaluate(X_test, Y_test)\n",
    "print('Test accuracy:', test_acc)"
   ]
  },
  {
   "cell_type": "markdown",
   "metadata": {},
   "source": [
    "#### Visualize the predictions on the candlestick charts to see the patterns"
   ]
  },
  {
   "cell_type": "code",
   "execution_count": null,
   "metadata": {},
   "outputs": [],
   "source": [
    "# Filter out the low confidence predictions from the model by using the alpha distance variable. \n",
    "# If the prediction value is close to 0, that means the prediction is 0\n",
    "# If the predicted value is closer to 1, the model predicted the value 1. \n",
    "# If the prediction value is closer to its target, the confidence of the prediction is biger. \n",
    "# Less distance to target prediction value, better the confidence.\n",
    "cell_timer = MeasureTime()\n",
    "counter = 0\n",
    "won = 0\n",
    "lost = 0\n",
    "test = model.predict(X_test)\n",
    "alpha_distance = 0.35\n",
    "\n",
    "for a in test:\n",
    "    #print(a)\n",
    "    if a > (1-alpha_distance) or a < alpha_distance :\n",
    "        print(a)\n",
    "        if Y_test[counter] == 1:print('Correct prediction is Bullish')\n",
    "        if Y_test[counter] == 0:print('Correct prediction is Bearish')\n",
    "        if a > (1-alpha_distance):print('Model prediction is Bullish')\n",
    "        if a < alpha_distance:print('Model prediction is Bearish')\n",
    "\n",
    "        if (a > (1-alpha_distance) and Y_test[counter] == 1) or (a < alpha_distance and Y_test[counter] == 0):\n",
    "            won=won+1\n",
    "            print('WON')\n",
    "        else:\n",
    "            print('LOST')\n",
    "            lost=lost+1\n",
    "\n",
    "        graph_data_ohlc(X_test_raw[counter])\n",
    "\n",
    "    counter=counter+1\n",
    "print('Won: ' + str(won) + ' Lost: ' + str(lost))\n",
    "print('Success rate: ' + str(round((won*100)/(won+lost),2)) + '%')\n",
    "cell_timer.kill()"
   ]
  },
  {
   "cell_type": "markdown",
   "metadata": {},
   "source": [
    "#### Check the model features importance"
   ]
  },
  {
   "cell_type": "code",
   "execution_count": null,
   "metadata": {},
   "outputs": [],
   "source": [
    "# Chek which feature is the most important\n",
    "def get_feature_importance(model,X_train_dataset,feature_names):\n",
    "    pred_x = model.predict(X_train_dataset)\n",
    "\n",
    "    random_ind = np.random.choice(X_train.shape[0], 1000, replace=False)\n",
    "\n",
    "    data = X_train[random_ind[0:500]]\n",
    "    e = shap.DeepExplainer((model.layers[0].input, model.layers[-1].output),data)\n",
    "    test1 = X_train[random_ind[500:1000]]\n",
    "    shap_val = e.shap_values(test1)\n",
    "    shap_val = np.array(shap_val)\n",
    "    shap_val = np.reshape(shap_val,(int(shap_val.shape[1]),int(shap_val.shape[2]),int(shap_val.shape[3])))\n",
    "    shap_abs = np.absolute(shap_val)\n",
    "    sum_0 = np.sum(shap_abs,axis=0)\n",
    "    x_pos = [i for i, _ in enumerate(f_names)]\n",
    "\n",
    "    plt.figure(figsize=(10,6))\n",
    "\n",
    "    plt1 = plt.subplot(4,1,1)\n",
    "    plt1.barh(x_pos,sum_0[2])\n",
    "    plt1.set_yticks(x_pos)\n",
    "    plt1.set_yticklabels(feature_names)\n",
    "    plt1.set_title('features of last candle')\n",
    "\n",
    "    plt2 = plt.subplot(4,1,2,sharex=plt1)\n",
    "    plt2.barh(x_pos,sum_0[1])\n",
    "    plt2.set_yticks(x_pos)\n",
    "    plt2.set_yticklabels(feature_names)\n",
    "    plt2.set_title('features of last candle -1')\n",
    "\n",
    "    plt3 = plt.subplot(4,1,3,sharex=plt1)\n",
    "    plt3.barh(x_pos,sum_0[0])\n",
    "    plt3.set_yticks(x_pos)\n",
    "    plt3.set_yticklabels(feature_names)\n",
    "    plt3.set_title('features of last candle -2')\n",
    "\n",
    "    plt.tight_layout()\n",
    "    plt.show()\n",
    "\n",
    "cell_timer = MeasureTime()\n",
    "features_list=['candle type','wicks up', 'wicks down', 'body size']\n",
    "get_feature_importance(model,X_train,features_list)\n",
    "cell_timer.kill()\n"
   ]
  },
  {
   "cell_type": "markdown",
   "metadata": {},
   "source": [
    "## Apply the model to the Big dataset"
   ]
  },
  {
   "cell_type": "code",
   "execution_count": null,
   "metadata": {},
   "outputs": [],
   "source": [
    "# Download currency pairs historical dataset\n",
    "# EURUSD\n",
    "cell_timer = MeasureTime()\n",
    "EURUSD_dataset = pd.read_csv('Hour/EURUSD.csv')\n",
    "del EURUSD_dataset['Gmt time']\n",
    "del EURUSD_dataset['Volume']\n",
    "X,Y, X_raw = my_generator_candle_X_Y(EURUSD_dataset.values,3,MinMax=False)\n",
    "cell_timer.kill()\n",
    "\n",
    "#GBPUSD\n",
    "cell_timer = MeasureTime()\n",
    "GBPUSD_dataset = pd.read_csv('Hour/GBPUSD.csv')\n",
    "del GBPUSD_dataset['Gmt time']\n",
    "del GBPUSD_dataset['Volume']\n",
    "X2,Y2, X2_raw = my_generator_candle_X_Y(GBPUSD_dataset.values,3,MinMax=False)\n",
    "cell_timer.kill()\n",
    "\n"
   ]
  },
  {
   "cell_type": "markdown",
   "metadata": {},
   "source": [
    "#### The update function to calculate the potential accuracy of the model with alpha distance parameter\n",
    "Aplha distance = maximum accetable distance from predicted value to prediction target.\n",
    "\n",
    "For example if we want to predict 1 or 0 (1=Bullish , 0=Bearish) and our model will return 0.70, it means that distance to 1 is 0.3 and distance to 0 i 0.7. Smaller the distance = higher accuracy during the prediction"
   ]
  },
  {
   "cell_type": "code",
   "execution_count": null,
   "metadata": {},
   "outputs": [],
   "source": [
    "# Running features importance\n",
    "def evaluate_candle_model(model_passed,alpha_distance,X,Y,X_raw,print_charts=False):\n",
    "    counter = 0\n",
    "    won = 0\n",
    "    lost = 0\n",
    "    test = model_passed.predict(X)\n",
    "    for a in test:\n",
    "        if a > (1-alpha_distance) or a < alpha_distance :\n",
    "            if print_charts==True:\n",
    "                print(a)\n",
    "                if Y[counter] == 1:print('Correct prediction is Bullish')\n",
    "                if Y[counter] == 0:print('Correct prediction is Bearish')\n",
    "                if a > (1-alpha_distance):print('Model prediction is Bullish')\n",
    "                if a < alpha_distance:print('Model prediction is Bearish')\n",
    "            if (a > (1-alpha_distance) and Y[counter] == 1) or (a < alpha_distance and Y[counter] == 0):\n",
    "                won=won+1\n",
    "                if print_charts==True:print('WON')\n",
    "            else:\n",
    "                if print_charts==True:print('LOST')\n",
    "                lost=lost+1\n",
    "\n",
    "            if print_charts==True:graph_data_ohlc(X_raw[counter])\n",
    "\n",
    "        counter=counter+1\n",
    "    if won != 0:\n",
    "        print('Won: ' + str(won) + ' Lost: ' + str(lost))\n",
    "        print('Success rate: ' + str(round((won*100)/(won+lost),2)) + '%')\n",
    "    return [won+lost,won,lost]\n",
    "\n",
    "# Calculate trained model to new dataset that the model had no access to during the training\n",
    "cell_timer = MeasureTime()\n",
    "\n",
    "alpha_distance = 0.30\n",
    "\n",
    "total=0\n",
    "win=0\n",
    "loss=0\n",
    "\n",
    "print('EURUSD Prediction:')\n",
    "evaluation = evaluate_candle_model(model,alpha_distance,X,Y,X_raw,print_charts=False)\n",
    "total = total + evaluation[0]\n",
    "win = win + evaluation[1]\n",
    "loss = loss + evaluation[2]\n",
    "print('---------------------------------------------------')\n",
    "print('GBPUSD Prediction:')\n",
    "evaluation = evaluate_candle_model(model,alpha_distance,X2,Y2,X2_raw,print_charts=False)\n",
    "total = total + evaluation[0]\n",
    "win = win + evaluation[1]\n",
    "loss = loss + evaluation[2]\n",
    "print('---------------------------------------------------')\n",
    "print('PREDICTIONS WIN: ' + str(win))\n",
    "print('PREDICTIONS LOSS: ' + str(loss))\n",
    "print('PREDICTIONS ACCURACY: ' + str(round((win*100)/(win+loss),2)) + '%')\n",
    "print('PREDICTIONS PER MONTH: ' + str(round(total/192,0)))\n",
    "print('PREDICTIONS TEST PERIOD: ' + '16 YEARS (2013-2019)')\n",
    "cell_timer.kill()"
   ]
  },
  {
   "cell_type": "code",
   "execution_count": null,
   "metadata": {},
   "outputs": [],
   "source": [
    "# Checking Bullish and Bearish predictions result on new dataset\n",
    "cell_timer = MeasureTime()\n",
    "EURUSD_pred_check = model.predict(X)\n",
    "GBPUSD_pred_check = model.predict(X2)\n",
    "USDCAD_pred_check = model.predict(X3)\n",
    "NZDUSD_pred_check = model.predict(X4)\n",
    "USDJPY_pred_check = model.predict(X5)\n",
    "AUDUSD_pred_check = model.predict(X6)\n",
    "USDCHF_pred_check = model.predict(X7)\n",
    "cell_timer.kill()\n",
    "\n",
    "cell_timer = MeasureTime()\n",
    "all_currencies_predictions = np.concatenate([EURUSD_pred_check, GBPUSD_pred_check, USDCAD_pred_check,NZDUSD_pred_check,USDJPY_pred_check,AUDUSD_pred_check,USDCHF_pred_check], axis=0)\n",
    "cell_timer.kill()\n",
    "\n",
    "all_currencies_predictions.shape\n",
    "\n",
    "cell_timer = MeasureTime()\n",
    "alpha_distance_value = 0.3\n",
    "bullish_count=0\n",
    "bearish_count=0\n",
    "for pred in all_currencies_predictions:\n",
    "    if pred < alpha_distance_value: bearish_count=bearish_count+1\n",
    "    if pred > (1-alpha_distance_value): bullish_count=bullish_count+1\n",
    "print('Bullish predictions in total: ' + str(bullish_count))\n",
    "print('Bearish predictions in total: ' + str(bearish_count))\n",
    "print('Predictions in total: ' + str(bullish_count+bearish_count))\n",
    "cell_timer.kill()\n"
   ]
  },
  {
   "cell_type": "markdown",
   "metadata": {},
   "source": [
    "#### Multiple LSTM layers"
   ]
  },
  {
   "cell_type": "code",
   "execution_count": null,
   "metadata": {},
   "outputs": [],
   "source": [
    "# Getting the training data\n",
    "cell_timer = MeasureTime()\n",
    "merged_X = np.concatenate((X, X2), axis=0)\n",
    "cell_timer.kill()\n",
    "\n",
    "cell_timer = MeasureTime()\n",
    "merged_Y = np.concatenate((Y, Y2), axis=0)\n",
    "cell_timer.kill()\n",
    "\n",
    "cell_timer = MeasureTime()\n",
    "merged_X_rwa = np.concatenate((X_raw, X2_raw), axis=0)\n",
    "cell_timer.kill()\n",
    "\n",
    "merged_X.shape\n",
    "merged_Y.shape\n",
    "\n",
    "cell_timer = MeasureTime()\n",
    "X_train_merged, X_val_and_test, Y_train_merged, Y_val_and_test = train_test_split(merged_X, merged_Y, test_size=0.5)\n",
    "X_val_merged, X_test_merged, Y_val_merged, Y_test_merged = train_test_split(X_val_and_test, Y_val_and_test, test_size=0.5)\n",
    "\n",
    "X_train_raw_merged, X_val_and_test_raw= train_test_split(merged_X_rwa, test_size=0.5)\n",
    "X_val_raw_merged, X_test_raw_merged = train_test_split(X_val_and_test_raw, test_size=0.5)\n",
    "cell_timer.kill()\n"
   ]
  },
  {
   "cell_type": "markdown",
   "metadata": {},
   "source": [
    "#### The new model build from 6x LSTM layers with 12,24,24,24,12,6 neurons plus dropout\n",
    "Droput is basically a layer that each time data is passing through it, the layer drops some percentage of this data to avoid overfitting problem (allow model to learn longer without overfitting)."
   ]
  },
  {
   "cell_type": "code",
   "execution_count": null,
   "metadata": {},
   "outputs": [],
   "source": [
    "from keras import layers\n",
    "from keras.optimizers import RMSprop\n",
    "\n",
    "model = Sequential()\n",
    "\n",
    "model.add(layers.CuDNNLSTM(units = 12,return_sequences=True, input_shape = (None, X.shape[-1])))\n",
    "model.add(Dropout(0.3))\n",
    "model.add(layers.CuDNNLSTM(units = 24,return_sequences=True,))\n",
    "model.add(Dropout(0.3))\n",
    "model.add(layers.CuDNNLSTM(units = 24,return_sequences=True))\n",
    "model.add(Dropout(0.3))\n",
    "model.add(layers.CuDNNLSTM(units = 24,return_sequences=True))\n",
    "model.add(Dropout(0.2))\n",
    "model.add(layers.CuDNNLSTM(units = 12,return_sequences=True))\n",
    "model.add(Dropout(0.2))\n",
    "model.add(layers.CuDNNLSTM(units = 6))\n",
    "\n",
    "model.add(layers.Dense(units = 1,activation='sigmoid'))\n",
    "\n",
    "# Compile the model\n",
    "model.compile(optimizer='rmsprop', loss='binary_crossentropy', metrics=['acc'])\n",
    "model.summary()"
   ]
  },
  {
   "cell_type": "code",
   "execution_count": null,
   "metadata": {},
   "outputs": [],
   "source": [
    "# Training Process - epoch = 50 / size = 500\n",
    "cell_timer = MeasureTime()\n",
    "history = model.fit(X_train_merged, Y_train_merged,batch_size=500, epochs=50,validation_data=(X_val_merged, Y_val_merged))\n",
    "cell_timer.kill()"
   ]
  },
  {
   "cell_type": "code",
   "execution_count": null,
   "metadata": {},
   "outputs": [],
   "source": [
    "# Checking model loss/accuracy\n",
    "# Chart 1 - Model Loss\n",
    "#plt.subplot(331)\n",
    "plt.plot(history.history['loss'])\n",
    "plt.plot(history.history['val_loss'])\n",
    "plt.title('Model loss')\n",
    "plt.ylabel('Loss')\n",
    "plt.xlabel('Epoch')\n",
    "plt.legend(['Train', 'Val'], loc='upper right')\n",
    "plt.show()\n",
    "\n",
    "\n",
    "# Chart 2 - Model Accuracy\n",
    "#plt.subplot(332)\n",
    "plt.plot(history.history['acc'])\n",
    "plt.plot(history.history['val_acc'])\n",
    "plt.title('Model accuracy')\n",
    "plt.ylabel('Accuracy')\n",
    "plt.xlabel('Epoch')\n",
    "plt.legend(['Train', 'Val'], loc='lower right')\n",
    "plt.show()\n"
   ]
  },
  {
   "cell_type": "markdown",
   "metadata": {},
   "source": [
    "#### Evaluate the model"
   ]
  },
  {
   "cell_type": "code",
   "execution_count": null,
   "metadata": {},
   "outputs": [],
   "source": [
    "# Concatonate all the curencies we got left and evaluate model on them\n",
    "cell_timer = MeasureTime()\n",
    "merged_curr_test_X = np.concatenate([X3,X4,X5,X6,X7], axis=0)\n",
    "merged_curr_test_Y = np.concatenate([Y3,Y4,Y5,Y6,Y7], axis=0)\n",
    "merged_curr_test_X_raw = np.concatenate([X3_raw,X4_raw,X5_raw,X6_raw,X7_raw], axis=0)\n",
    "cell_timer.kill()\n",
    "\n",
    "# Evaluate\n",
    "cell_timer = MeasureTime()\n",
    "merged_evaluation = evaluate_candle_model(model,0.3,merged_curr_test_X,merged_curr_test_Y,merged_curr_test_X_raw,print_charts=False)\n",
    "cell_timer.kill()\n"
   ]
  },
  {
   "cell_type": "code",
   "execution_count": null,
   "metadata": {},
   "outputs": [],
   "source": [
    "# Count bullish and bearish trades\n",
    "cell_timer = MeasureTime()\n",
    "all_currencies_predictions_merged = model.predict(merged_curr_test_X)\n",
    "alpha_distance_value = 0.3\n",
    "bullish_count=0\n",
    "bearish_count=0\n",
    "for pred in all_currencies_predictions_merged:\n",
    "    if pred < alpha_distance_value: bearish_count=bearish_count+1\n",
    "    if pred > (1-alpha_distance_value): bullish_count=bullish_count+1\n",
    "print('Bullish predictions in total: ' + str(bullish_count))\n",
    "print('Bearish predictions in total: ' + str(bearish_count))\n",
    "print('Predictions in total: ' + str(bullish_count+bearish_count))\n",
    "cell_timer.kill()\n"
   ]
  },
  {
   "cell_type": "code",
   "execution_count": 2,
   "metadata": {},
   "outputs": [
    {
     "ename": "NameError",
     "evalue": "name 'MeasureTime' is not defined",
     "output_type": "error",
     "traceback": [
      "\u001b[1;31m---------------------------------------------------------------------------\u001b[0m",
      "\u001b[1;31mNameError\u001b[0m                                 Traceback (most recent call last)",
      "\u001b[1;32m<ipython-input-2-e39142117578>\u001b[0m in \u001b[0;36m<module>\u001b[1;34m\u001b[0m\n\u001b[0;32m     17\u001b[0m \u001b[1;33m\u001b[0m\u001b[0m\n\u001b[0;32m     18\u001b[0m \u001b[1;33m\u001b[0m\u001b[0m\n\u001b[1;32m---> 19\u001b[1;33m \u001b[0mell_timer\u001b[0m \u001b[1;33m=\u001b[0m \u001b[0mMeasureTime\u001b[0m\u001b[1;33m(\u001b[0m\u001b[1;33m)\u001b[0m\u001b[1;33m\u001b[0m\u001b[1;33m\u001b[0m\u001b[0m\n\u001b[0m\u001b[0;32m     20\u001b[0m \u001b[0mUSDCAD_pred_month\u001b[0m \u001b[1;33m=\u001b[0m \u001b[0mpredictions_group\u001b[0m\u001b[1;33m(\u001b[0m\u001b[0mmodel\u001b[0m\u001b[1;33m.\u001b[0m\u001b[0mpredict\u001b[0m\u001b[1;33m(\u001b[0m\u001b[0mX3\u001b[0m\u001b[1;33m)\u001b[0m\u001b[1;33m,\u001b[0m\u001b[1;36m2500\u001b[0m\u001b[1;33m,\u001b[0m\u001b[1;36m0.3\u001b[0m\u001b[1;33m)\u001b[0m\u001b[1;33m\u001b[0m\u001b[1;33m\u001b[0m\u001b[0m\n\u001b[0;32m     21\u001b[0m \u001b[0mNZDUSD_pred_month\u001b[0m \u001b[1;33m=\u001b[0m \u001b[0mpredictions_group\u001b[0m\u001b[1;33m(\u001b[0m\u001b[0mmodel\u001b[0m\u001b[1;33m.\u001b[0m\u001b[0mpredict\u001b[0m\u001b[1;33m(\u001b[0m\u001b[0mX4\u001b[0m\u001b[1;33m)\u001b[0m\u001b[1;33m,\u001b[0m\u001b[1;36m2500\u001b[0m\u001b[1;33m,\u001b[0m\u001b[1;36m0.3\u001b[0m\u001b[1;33m)\u001b[0m\u001b[1;33m\u001b[0m\u001b[1;33m\u001b[0m\u001b[0m\n",
      "\u001b[1;31mNameError\u001b[0m: name 'MeasureTime' is not defined"
     ]
    }
   ],
   "source": [
    "# Function to locate and count total predictions in period of time\n",
    "def predictions_group(Predictions,timeperiod,alpha_distance_value):\n",
    "    output = []\n",
    "    templist=[]\n",
    "    addval=0\n",
    "    counter=0\n",
    "    for pre in Predictions:\n",
    "        if counter % timeperiod == 0:\n",
    "            output.append(sum(templist.copy()))\n",
    "            templist=[]\n",
    "        if pre < alpha_distance_value: addval = 1\n",
    "        elif pre > (1-alpha_distance_value): addval = 1\n",
    "        else:\n",
    "            addval = 0\n",
    "        templist.append(addval)\n",
    "        counter=counter+1\n",
    "    return output\n",
    "\n",
    "# Pass funcion thru each variable\n",
    "cell_timer = MeasureTime()\n",
    "USDCAD_pred_month = predictions_group(model.predict(X3),2500,0.3)\n",
    "NZDUSD_pred_month = predictions_group(model.predict(X4),2500,0.3)\n",
    "USDJPY_pred_month = predictions_group(model.predict(X5),2500,0.3)\n",
    "AUDUSD_pred_month = predictions_group(model.predict(X6),2500,0.3)\n",
    "USDCHF_pred_month = predictions_group(model.predict(X7),2500,0.3)\n",
    "cell_timer.kill()\n",
    "\n",
    "# Plot the heatmap of prediction count\n",
    "import seaborn as sns\n",
    "heat_map_data = np.random.random((5, 40))\n",
    "a[0] = np.array(USDCAD_pred_month)\n",
    "a[1] = np.array(NZDUSD_pred_month)\n",
    "a[2] = np.array(USDJPY_pred_month[:40])\n",
    "a[3] = np.array(AUDUSD_pred_month)\n",
    "a[4] = np.array(USDCHF_pred_month[:40])\n",
    "plt.figure(figsize=(20,10))\n",
    "ax = sns.heatmap(a, linewidth=0.5)\n",
    "#plt.imshow(a, cmap='hot', interpolation='nearest')\n",
    "plt.title('Predictions per month')\n",
    "plt.show()\n"
   ]
  }
 ],
 "metadata": {
  "interpreter": {
   "hash": "b7d1f2948ceac33c47cc3118599163110709bfe8fc361e52a29a1b62bc95a3f6"
  },
  "kernelspec": {
   "display_name": "Python 3.7.10 64-bit ('dev': conda)",
   "name": "python3"
  },
  "language_info": {
   "codemirror_mode": {
    "name": "ipython",
    "version": 3
   },
   "file_extension": ".py",
   "mimetype": "text/x-python",
   "name": "python",
   "nbconvert_exporter": "python",
   "pygments_lexer": "ipython3",
   "version": "3.7.10"
  }
 },
 "nbformat": 4,
 "nbformat_minor": 4
}
