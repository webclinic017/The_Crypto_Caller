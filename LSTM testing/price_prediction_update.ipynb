{
  "cells": [
    {
      "cell_type": "code",
      "execution_count": 48,
      "metadata": {
        "id": "NeWVBhf1VxlH"
      },
      "outputs": [],
      "source": [
        "#%tensorflow_version 2.x\n",
        "import json\n",
        "import requests as requests\n",
        "from keras.models import Sequential\n",
        "from keras.layers import Activation, Dense, Dropout, LSTM\n",
        "import matplotlib.pyplot as plt\n",
        "import numpy as np\n",
        "import pandas as pd\n",
        "import seaborn as sns\n",
        "from sklearn.metrics import mean_absolute_error\n",
        "from pathlib import Path\n",
        "%matplotlib inline"
      ]
    },
    {
      "cell_type": "code",
      "execution_count": 49,
      "metadata": {
        "_cell_guid": "79c7e3d0-c299-4dcb-8224-4455121ee9b0",
        "_uuid": "d629ff2d2480ee46fbb7e2d37f6b5fab8052498a",
        "id": "6W__OM92pskF",
        "trusted": true
      },
      "outputs": [],
      "source": [
        "# endpoint = 'https://min-api.cryptocompare.com/data/histoday'\n",
        "# res = requests.get(endpoint + '?fsym=BTC&tsym=USD&limit=500')\n",
        "# hist = pd.DataFrame(json.loads(res.content)['Data'])\n",
        "# hist = hist.set_index('time')\n",
        "# hist.index = pd.to_datetime(hist.index, unit='s')\n",
        "# target_col = 'close'"
      ]
    },
    {
      "cell_type": "code",
      "execution_count": 50,
      "metadata": {
        "id": "IJ81oAj4sw6x"
      },
      "outputs": [],
      "source": [
        "# hist.drop([\"conversionType\", \"conversionSymbol\"], axis = 'columns', inplace = True)"
      ]
    },
    {
      "cell_type": "code",
      "execution_count": 51,
      "metadata": {
        "colab": {
          "base_uri": "https://localhost:8080/",
          "height": 235
        },
        "id": "QQ9tRh3fs6wX",
        "outputId": "5ad8641b-9d99-49c8-e6d4-a927d5a1d84e"
      },
      "outputs": [],
      "source": [
        "# hist.head(5)"
      ]
    },
    {
      "cell_type": "code",
      "execution_count": 52,
      "metadata": {},
      "outputs": [
        {
          "data": {
            "text/html": [
              "<div>\n",
              "<style scoped>\n",
              "    .dataframe tbody tr th:only-of-type {\n",
              "        vertical-align: middle;\n",
              "    }\n",
              "\n",
              "    .dataframe tbody tr th {\n",
              "        vertical-align: top;\n",
              "    }\n",
              "\n",
              "    .dataframe thead th {\n",
              "        text-align: right;\n",
              "    }\n",
              "</style>\n",
              "<table border=\"1\" class=\"dataframe\">\n",
              "  <thead>\n",
              "    <tr style=\"text-align: right;\">\n",
              "      <th></th>\n",
              "      <th>Open</th>\n",
              "      <th>Close</th>\n",
              "      <th>High</th>\n",
              "      <th>Low</th>\n",
              "      <th>Volume</th>\n",
              "      <th>entry</th>\n",
              "      <th>1h%</th>\n",
              "      <th>vol_pct_chg</th>\n",
              "      <th>sma7h</th>\n",
              "      <th>sma9h</th>\n",
              "      <th>sma20h</th>\n",
              "      <th>sma200d</th>\n",
              "      <th>bb_bbm</th>\n",
              "      <th>bb_bbh</th>\n",
              "      <th>bb_bbl</th>\n",
              "    </tr>\n",
              "    <tr>\n",
              "      <th>Date</th>\n",
              "      <th></th>\n",
              "      <th></th>\n",
              "      <th></th>\n",
              "      <th></th>\n",
              "      <th></th>\n",
              "      <th></th>\n",
              "      <th></th>\n",
              "      <th></th>\n",
              "      <th></th>\n",
              "      <th></th>\n",
              "      <th></th>\n",
              "      <th></th>\n",
              "      <th></th>\n",
              "      <th></th>\n",
              "      <th></th>\n",
              "    </tr>\n",
              "  </thead>\n",
              "  <tbody>\n",
              "    <tr>\n",
              "      <th>2017-01-02 03:00:00</th>\n",
              "      <td>1011.5</td>\n",
              "      <td>1013.0</td>\n",
              "      <td>1015.0</td>\n",
              "      <td>1009.0</td>\n",
              "      <td>737.045368</td>\n",
              "      <td>0</td>\n",
              "      <td>0.001483</td>\n",
              "      <td>0.707852</td>\n",
              "      <td>1005.025714</td>\n",
              "      <td>1004.300000</td>\n",
              "      <td>991.2765</td>\n",
              "      <td>991.276500</td>\n",
              "      <td>991.2765</td>\n",
              "      <td>1020.548664</td>\n",
              "      <td>962.004336</td>\n",
              "    </tr>\n",
              "    <tr>\n",
              "      <th>2017-01-02 04:00:00</th>\n",
              "      <td>1014.0</td>\n",
              "      <td>1015.0</td>\n",
              "      <td>1018.0</td>\n",
              "      <td>1010.5</td>\n",
              "      <td>423.309560</td>\n",
              "      <td>0</td>\n",
              "      <td>0.001974</td>\n",
              "      <td>-0.425667</td>\n",
              "      <td>1006.511429</td>\n",
              "      <td>1006.020000</td>\n",
              "      <td>993.7535</td>\n",
              "      <td>992.406190</td>\n",
              "      <td>993.7535</td>\n",
              "      <td>1022.241744</td>\n",
              "      <td>965.265256</td>\n",
              "    </tr>\n",
              "    <tr>\n",
              "      <th>2017-01-02 05:00:00</th>\n",
              "      <td>1014.1</td>\n",
              "      <td>1011.4</td>\n",
              "      <td>1016.8</td>\n",
              "      <td>1008.9</td>\n",
              "      <td>235.217866</td>\n",
              "      <td>0</td>\n",
              "      <td>-0.003547</td>\n",
              "      <td>-0.444336</td>\n",
              "      <td>1007.468571</td>\n",
              "      <td>1006.842222</td>\n",
              "      <td>996.0245</td>\n",
              "      <td>993.269545</td>\n",
              "      <td>996.0245</td>\n",
              "      <td>1022.462288</td>\n",
              "      <td>969.586712</td>\n",
              "    </tr>\n",
              "    <tr>\n",
              "      <th>2017-01-02 06:00:00</th>\n",
              "      <td>1012.0</td>\n",
              "      <td>1016.7</td>\n",
              "      <td>1016.9</td>\n",
              "      <td>1010.4</td>\n",
              "      <td>238.331585</td>\n",
              "      <td>0</td>\n",
              "      <td>0.005240</td>\n",
              "      <td>0.013238</td>\n",
              "      <td>1009.998571</td>\n",
              "      <td>1008.186667</td>\n",
              "      <td>998.0090</td>\n",
              "      <td>994.288261</td>\n",
              "      <td>998.0090</td>\n",
              "      <td>1024.398177</td>\n",
              "      <td>971.619823</td>\n",
              "    </tr>\n",
              "    <tr>\n",
              "      <th>2017-01-02 07:00:00</th>\n",
              "      <td>1016.6</td>\n",
              "      <td>1018.2</td>\n",
              "      <td>1018.9</td>\n",
              "      <td>1014.1</td>\n",
              "      <td>401.187665</td>\n",
              "      <td>0</td>\n",
              "      <td>0.001475</td>\n",
              "      <td>0.683317</td>\n",
              "      <td>1012.600000</td>\n",
              "      <td>1009.686667</td>\n",
              "      <td>1000.0110</td>\n",
              "      <td>995.284583</td>\n",
              "      <td>1000.0110</td>\n",
              "      <td>1026.147094</td>\n",
              "      <td>973.874906</td>\n",
              "    </tr>\n",
              "  </tbody>\n",
              "</table>\n",
              "</div>"
            ],
            "text/plain": [
              "                       Open   Close    High     Low      Volume  entry  \\\n",
              "Date                                                                     \n",
              "2017-01-02 03:00:00  1011.5  1013.0  1015.0  1009.0  737.045368      0   \n",
              "2017-01-02 04:00:00  1014.0  1015.0  1018.0  1010.5  423.309560      0   \n",
              "2017-01-02 05:00:00  1014.1  1011.4  1016.8  1008.9  235.217866      0   \n",
              "2017-01-02 06:00:00  1012.0  1016.7  1016.9  1010.4  238.331585      0   \n",
              "2017-01-02 07:00:00  1016.6  1018.2  1018.9  1014.1  401.187665      0   \n",
              "\n",
              "                          1h%  vol_pct_chg        sma7h        sma9h  \\\n",
              "Date                                                                   \n",
              "2017-01-02 03:00:00  0.001483     0.707852  1005.025714  1004.300000   \n",
              "2017-01-02 04:00:00  0.001974    -0.425667  1006.511429  1006.020000   \n",
              "2017-01-02 05:00:00 -0.003547    -0.444336  1007.468571  1006.842222   \n",
              "2017-01-02 06:00:00  0.005240     0.013238  1009.998571  1008.186667   \n",
              "2017-01-02 07:00:00  0.001475     0.683317  1012.600000  1009.686667   \n",
              "\n",
              "                        sma20h     sma200d     bb_bbm       bb_bbh      bb_bbl  \n",
              "Date                                                                            \n",
              "2017-01-02 03:00:00   991.2765  991.276500   991.2765  1020.548664  962.004336  \n",
              "2017-01-02 04:00:00   993.7535  992.406190   993.7535  1022.241744  965.265256  \n",
              "2017-01-02 05:00:00   996.0245  993.269545   996.0245  1022.462288  969.586712  \n",
              "2017-01-02 06:00:00   998.0090  994.288261   998.0090  1024.398177  971.619823  \n",
              "2017-01-02 07:00:00  1000.0110  995.284583  1000.0110  1026.147094  973.874906  "
            ]
          },
          "execution_count": 52,
          "metadata": {},
          "output_type": "execute_result"
        }
      ],
      "source": [
        "import pandas as pd \n",
        "hist = pd.read_csv(\n",
        "    'test.csv',\n",
        "    index_col='Date',\n",
        "    parse_dates=True, \n",
        ")\n",
        "\n",
        "hist.head()"
      ]
    },
    {
      "cell_type": "code",
      "execution_count": 53,
      "metadata": {},
      "outputs": [],
      "source": [
        "# hist = hist[-200:]\n",
        "# hist.tail()"
      ]
    },
    {
      "cell_type": "code",
      "execution_count": 68,
      "metadata": {},
      "outputs": [
        {
          "data": {
            "text/html": [
              "<div>\n",
              "<style scoped>\n",
              "    .dataframe tbody tr th:only-of-type {\n",
              "        vertical-align: middle;\n",
              "    }\n",
              "\n",
              "    .dataframe tbody tr th {\n",
              "        vertical-align: top;\n",
              "    }\n",
              "\n",
              "    .dataframe thead th {\n",
              "        text-align: right;\n",
              "    }\n",
              "</style>\n",
              "<table border=\"1\" class=\"dataframe\">\n",
              "  <thead>\n",
              "    <tr style=\"text-align: right;\">\n",
              "      <th></th>\n",
              "      <th>Open</th>\n",
              "      <th>Close</th>\n",
              "      <th>High</th>\n",
              "      <th>Low</th>\n",
              "      <th>Volume</th>\n",
              "      <th>entry</th>\n",
              "      <th>1h%</th>\n",
              "      <th>vol_pct_chg</th>\n",
              "      <th>sma7h</th>\n",
              "      <th>sma9h</th>\n",
              "      <th>sma20h</th>\n",
              "      <th>sma200d</th>\n",
              "      <th>bb_bbm</th>\n",
              "      <th>bb_bbh</th>\n",
              "      <th>bb_bbl</th>\n",
              "    </tr>\n",
              "    <tr>\n",
              "      <th>Date</th>\n",
              "      <th></th>\n",
              "      <th></th>\n",
              "      <th></th>\n",
              "      <th></th>\n",
              "      <th></th>\n",
              "      <th></th>\n",
              "      <th></th>\n",
              "      <th></th>\n",
              "      <th></th>\n",
              "      <th></th>\n",
              "      <th></th>\n",
              "      <th></th>\n",
              "      <th></th>\n",
              "      <th></th>\n",
              "      <th></th>\n",
              "    </tr>\n",
              "  </thead>\n",
              "  <tbody>\n",
              "    <tr>\n",
              "      <th>2017-01-02 03:00:00</th>\n",
              "      <td>1011.5</td>\n",
              "      <td>1013.0</td>\n",
              "      <td>1015.0</td>\n",
              "      <td>1009.0</td>\n",
              "      <td>737.045368</td>\n",
              "      <td>0</td>\n",
              "      <td>0.001483</td>\n",
              "      <td>0.707852</td>\n",
              "      <td>1005.025714</td>\n",
              "      <td>1004.300000</td>\n",
              "      <td>991.2765</td>\n",
              "      <td>991.276500</td>\n",
              "      <td>991.2765</td>\n",
              "      <td>1020.548664</td>\n",
              "      <td>962.004336</td>\n",
              "    </tr>\n",
              "    <tr>\n",
              "      <th>2017-01-02 04:00:00</th>\n",
              "      <td>1014.0</td>\n",
              "      <td>1015.0</td>\n",
              "      <td>1018.0</td>\n",
              "      <td>1010.5</td>\n",
              "      <td>423.309560</td>\n",
              "      <td>0</td>\n",
              "      <td>0.001974</td>\n",
              "      <td>-0.425667</td>\n",
              "      <td>1006.511429</td>\n",
              "      <td>1006.020000</td>\n",
              "      <td>993.7535</td>\n",
              "      <td>992.406190</td>\n",
              "      <td>993.7535</td>\n",
              "      <td>1022.241744</td>\n",
              "      <td>965.265256</td>\n",
              "    </tr>\n",
              "    <tr>\n",
              "      <th>2017-01-02 05:00:00</th>\n",
              "      <td>1014.1</td>\n",
              "      <td>1011.4</td>\n",
              "      <td>1016.8</td>\n",
              "      <td>1008.9</td>\n",
              "      <td>235.217866</td>\n",
              "      <td>0</td>\n",
              "      <td>-0.003547</td>\n",
              "      <td>-0.444336</td>\n",
              "      <td>1007.468571</td>\n",
              "      <td>1006.842222</td>\n",
              "      <td>996.0245</td>\n",
              "      <td>993.269545</td>\n",
              "      <td>996.0245</td>\n",
              "      <td>1022.462288</td>\n",
              "      <td>969.586712</td>\n",
              "    </tr>\n",
              "    <tr>\n",
              "      <th>2017-01-02 06:00:00</th>\n",
              "      <td>1012.0</td>\n",
              "      <td>1016.7</td>\n",
              "      <td>1016.9</td>\n",
              "      <td>1010.4</td>\n",
              "      <td>238.331585</td>\n",
              "      <td>0</td>\n",
              "      <td>0.005240</td>\n",
              "      <td>0.013238</td>\n",
              "      <td>1009.998571</td>\n",
              "      <td>1008.186667</td>\n",
              "      <td>998.0090</td>\n",
              "      <td>994.288261</td>\n",
              "      <td>998.0090</td>\n",
              "      <td>1024.398177</td>\n",
              "      <td>971.619823</td>\n",
              "    </tr>\n",
              "    <tr>\n",
              "      <th>2017-01-02 07:00:00</th>\n",
              "      <td>1016.6</td>\n",
              "      <td>1018.2</td>\n",
              "      <td>1018.9</td>\n",
              "      <td>1014.1</td>\n",
              "      <td>401.187665</td>\n",
              "      <td>0</td>\n",
              "      <td>0.001475</td>\n",
              "      <td>0.683317</td>\n",
              "      <td>1012.600000</td>\n",
              "      <td>1009.686667</td>\n",
              "      <td>1000.0110</td>\n",
              "      <td>995.284583</td>\n",
              "      <td>1000.0110</td>\n",
              "      <td>1026.147094</td>\n",
              "      <td>973.874906</td>\n",
              "    </tr>\n",
              "  </tbody>\n",
              "</table>\n",
              "</div>"
            ],
            "text/plain": [
              "                       Open   Close    High     Low      Volume  entry  \\\n",
              "Date                                                                     \n",
              "2017-01-02 03:00:00  1011.5  1013.0  1015.0  1009.0  737.045368      0   \n",
              "2017-01-02 04:00:00  1014.0  1015.0  1018.0  1010.5  423.309560      0   \n",
              "2017-01-02 05:00:00  1014.1  1011.4  1016.8  1008.9  235.217866      0   \n",
              "2017-01-02 06:00:00  1012.0  1016.7  1016.9  1010.4  238.331585      0   \n",
              "2017-01-02 07:00:00  1016.6  1018.2  1018.9  1014.1  401.187665      0   \n",
              "\n",
              "                          1h%  vol_pct_chg        sma7h        sma9h  \\\n",
              "Date                                                                   \n",
              "2017-01-02 03:00:00  0.001483     0.707852  1005.025714  1004.300000   \n",
              "2017-01-02 04:00:00  0.001974    -0.425667  1006.511429  1006.020000   \n",
              "2017-01-02 05:00:00 -0.003547    -0.444336  1007.468571  1006.842222   \n",
              "2017-01-02 06:00:00  0.005240     0.013238  1009.998571  1008.186667   \n",
              "2017-01-02 07:00:00  0.001475     0.683317  1012.600000  1009.686667   \n",
              "\n",
              "                        sma20h     sma200d     bb_bbm       bb_bbh      bb_bbl  \n",
              "Date                                                                            \n",
              "2017-01-02 03:00:00   991.2765  991.276500   991.2765  1020.548664  962.004336  \n",
              "2017-01-02 04:00:00   993.7535  992.406190   993.7535  1022.241744  965.265256  \n",
              "2017-01-02 05:00:00   996.0245  993.269545   996.0245  1022.462288  969.586712  \n",
              "2017-01-02 06:00:00   998.0090  994.288261   998.0090  1024.398177  971.619823  \n",
              "2017-01-02 07:00:00  1000.0110  995.284583  1000.0110  1026.147094  973.874906  "
            ]
          },
          "execution_count": 68,
          "metadata": {},
          "output_type": "execute_result"
        }
      ],
      "source": [
        "hist.dropna()\n",
        "hist.head()"
      ]
    },
    {
      "cell_type": "code",
      "execution_count": 74,
      "metadata": {},
      "outputs": [
        {
          "name": "stdout",
          "output_type": "stream",
          "text": [
            "Index(['Open', 'Close', 'High', 'Low', 'Volume', 'entry', '1h%', 'vol_pct_chg',\n",
            "       'sma7h', 'sma9h', 'sma20h', 'sma200d', 'bb_bbm', 'bb_bbh', 'bb_bbl'],\n",
            "      dtype='object')\n"
          ]
        }
      ],
      "source": [
        "print(hist.columns)\n"
      ]
    },
    {
      "cell_type": "code",
      "execution_count": 90,
      "metadata": {},
      "outputs": [
        {
          "data": {
            "text/html": [
              "<div>\n",
              "<style scoped>\n",
              "    .dataframe tbody tr th:only-of-type {\n",
              "        vertical-align: middle;\n",
              "    }\n",
              "\n",
              "    .dataframe tbody tr th {\n",
              "        vertical-align: top;\n",
              "    }\n",
              "\n",
              "    .dataframe thead th {\n",
              "        text-align: right;\n",
              "    }\n",
              "</style>\n",
              "<table border=\"1\" class=\"dataframe\">\n",
              "  <thead>\n",
              "    <tr style=\"text-align: right;\">\n",
              "      <th></th>\n",
              "      <th>Open</th>\n",
              "      <th>High</th>\n",
              "      <th>Low</th>\n",
              "      <th>Volume</th>\n",
              "      <th>Close</th>\n",
              "    </tr>\n",
              "    <tr>\n",
              "      <th>Date</th>\n",
              "      <th></th>\n",
              "      <th></th>\n",
              "      <th></th>\n",
              "      <th></th>\n",
              "      <th></th>\n",
              "    </tr>\n",
              "  </thead>\n",
              "  <tbody>\n",
              "    <tr>\n",
              "      <th>2017-01-02 03:00:00</th>\n",
              "      <td>1011.500000</td>\n",
              "      <td>1015.0</td>\n",
              "      <td>1009.0</td>\n",
              "      <td>737.045368</td>\n",
              "      <td>1013.000000</td>\n",
              "    </tr>\n",
              "    <tr>\n",
              "      <th>2017-01-02 04:00:00</th>\n",
              "      <td>1014.000000</td>\n",
              "      <td>1018.0</td>\n",
              "      <td>1010.5</td>\n",
              "      <td>423.309560</td>\n",
              "      <td>1015.000000</td>\n",
              "    </tr>\n",
              "    <tr>\n",
              "      <th>2017-01-02 05:00:00</th>\n",
              "      <td>1014.100000</td>\n",
              "      <td>1016.8</td>\n",
              "      <td>1008.9</td>\n",
              "      <td>235.217866</td>\n",
              "      <td>1011.400000</td>\n",
              "    </tr>\n",
              "    <tr>\n",
              "      <th>2017-01-02 06:00:00</th>\n",
              "      <td>1012.000000</td>\n",
              "      <td>1016.9</td>\n",
              "      <td>1010.4</td>\n",
              "      <td>238.331585</td>\n",
              "      <td>1016.700000</td>\n",
              "    </tr>\n",
              "    <tr>\n",
              "      <th>2017-01-02 07:00:00</th>\n",
              "      <td>1016.600000</td>\n",
              "      <td>1018.9</td>\n",
              "      <td>1014.1</td>\n",
              "      <td>401.187665</td>\n",
              "      <td>1018.200000</td>\n",
              "    </tr>\n",
              "    <tr>\n",
              "      <th>...</th>\n",
              "      <td>...</td>\n",
              "      <td>...</td>\n",
              "      <td>...</td>\n",
              "      <td>...</td>\n",
              "      <td>...</td>\n",
              "    </tr>\n",
              "    <tr>\n",
              "      <th>2021-11-17 13:00:00</th>\n",
              "      <td>60514.231682</td>\n",
              "      <td>60639.0</td>\n",
              "      <td>60207.0</td>\n",
              "      <td>476.771475</td>\n",
              "      <td>60207.000000</td>\n",
              "    </tr>\n",
              "    <tr>\n",
              "      <th>2021-11-17 14:00:00</th>\n",
              "      <td>60207.000000</td>\n",
              "      <td>60388.0</td>\n",
              "      <td>59724.0</td>\n",
              "      <td>824.163709</td>\n",
              "      <td>59724.666301</td>\n",
              "    </tr>\n",
              "    <tr>\n",
              "      <th>2021-11-17 15:00:00</th>\n",
              "      <td>59724.000000</td>\n",
              "      <td>59859.0</td>\n",
              "      <td>59483.0</td>\n",
              "      <td>500.389504</td>\n",
              "      <td>59708.630836</td>\n",
              "    </tr>\n",
              "    <tr>\n",
              "      <th>2021-11-17 16:00:00</th>\n",
              "      <td>59728.000000</td>\n",
              "      <td>60480.0</td>\n",
              "      <td>59491.0</td>\n",
              "      <td>398.163219</td>\n",
              "      <td>60418.000000</td>\n",
              "    </tr>\n",
              "    <tr>\n",
              "      <th>2021-11-17 17:00:00</th>\n",
              "      <td>60418.000000</td>\n",
              "      <td>60439.0</td>\n",
              "      <td>60031.0</td>\n",
              "      <td>109.235020</td>\n",
              "      <td>60069.000000</td>\n",
              "    </tr>\n",
              "  </tbody>\n",
              "</table>\n",
              "<p>42720 rows × 5 columns</p>\n",
              "</div>"
            ],
            "text/plain": [
              "                             Open     High      Low      Volume         Close\n",
              "Date                                                                         \n",
              "2017-01-02 03:00:00   1011.500000   1015.0   1009.0  737.045368   1013.000000\n",
              "2017-01-02 04:00:00   1014.000000   1018.0   1010.5  423.309560   1015.000000\n",
              "2017-01-02 05:00:00   1014.100000   1016.8   1008.9  235.217866   1011.400000\n",
              "2017-01-02 06:00:00   1012.000000   1016.9   1010.4  238.331585   1016.700000\n",
              "2017-01-02 07:00:00   1016.600000   1018.9   1014.1  401.187665   1018.200000\n",
              "...                           ...      ...      ...         ...           ...\n",
              "2021-11-17 13:00:00  60514.231682  60639.0  60207.0  476.771475  60207.000000\n",
              "2021-11-17 14:00:00  60207.000000  60388.0  59724.0  824.163709  59724.666301\n",
              "2021-11-17 15:00:00  59724.000000  59859.0  59483.0  500.389504  59708.630836\n",
              "2021-11-17 16:00:00  59728.000000  60480.0  59491.0  398.163219  60418.000000\n",
              "2021-11-17 17:00:00  60418.000000  60439.0  60031.0  109.235020  60069.000000\n",
              "\n",
              "[42720 rows x 5 columns]"
            ]
          },
          "execution_count": 90,
          "metadata": {},
          "output_type": "execute_result"
        }
      ],
      "source": [
        "#Had to modify the output because the indicators were creating a NAN output\n",
        "\n",
        "hist = hist[['vol_pct_chg', 'sma7h', 'sma9h', 'Close','entry']]\n",
        "target_col = 'entry'\n",
        "\n",
        "hist"
      ]
    },
    {
      "cell_type": "code",
      "execution_count": 91,
      "metadata": {},
      "outputs": [],
      "source": [
        "# target_col = 'Close'"
      ]
    },
    {
      "cell_type": "code",
      "execution_count": 92,
      "metadata": {},
      "outputs": [
        {
          "data": {
            "text/plain": [
              "'Close'"
            ]
          },
          "execution_count": 92,
          "metadata": {},
          "output_type": "execute_result"
        }
      ],
      "source": [
        "target_col"
      ]
    },
    {
      "cell_type": "code",
      "execution_count": 93,
      "metadata": {
        "id": "0Ykh8CHfpskJ",
        "trusted": true
      },
      "outputs": [],
      "source": [
        "def train_test_split(df, test_size=0.2):\n",
        "    split_row = len(df) - int(test_size * len(df))\n",
        "    train_data = df.iloc[:split_row]\n",
        "    test_data = df.iloc[split_row:]\n",
        "    return train_data, test_data"
      ]
    },
    {
      "cell_type": "code",
      "execution_count": 94,
      "metadata": {
        "id": "PWKGJlxIpskM",
        "trusted": true
      },
      "outputs": [],
      "source": [
        "train, test = train_test_split(hist, test_size=0.2)"
      ]
    },
    {
      "cell_type": "code",
      "execution_count": 95,
      "metadata": {
        "id": "jqfrJbQhpskP",
        "trusted": true
      },
      "outputs": [],
      "source": [
        "def line_plot(line1, line2, label1=None, label2=None, title='', lw=2):\n",
        "    fig, ax = plt.subplots(1, figsize=(13, 7))\n",
        "    ax.plot(line1, label=label1, linewidth=lw)\n",
        "    ax.plot(line2, label=label2, linewidth=lw)\n",
        "    ax.set_ylabel('price', fontsize=14)\n",
        "    ax.set_title(title, fontsize=16)\n",
        "    ax.legend(loc='best', fontsize=16)"
      ]
    },
    {
      "cell_type": "code",
      "execution_count": 96,
      "metadata": {
        "colab": {
          "base_uri": "https://localhost:8080/",
          "height": 428
        },
        "id": "9F_YTCCxpskS",
        "outputId": "b775e163-be1f-4ea4-869c-4beea7552607",
        "trusted": true
      },
      "outputs": [
        {
          "data": {
            "image/png": "[encoded data removed]",
            "text/plain": [
              "<Figure size 936x504 with 1 Axes>"
            ]
          },
          "metadata": {
            "needs_background": "light"
          },
          "output_type": "display_data"
        }
      ],
      "source": [
        "line_plot(train[target_col], test[target_col], 'training', 'test', title='')"
      ]
    },
    {
      "cell_type": "code",
      "execution_count": 97,
      "metadata": {
        "id": "iy-je3_bpskb",
        "trusted": true
      },
      "outputs": [],
      "source": [
        "def normalise_zero_base(df):\n",
        "    return df / df.iloc[0] - 1\n",
        "\n",
        "def normalise_min_max(df):\n",
        "    return (df - df.min()) / (data.max() - df.min())"
      ]
    },
    {
      "cell_type": "code",
      "execution_count": 98,
      "metadata": {
        "id": "zteL5amIpskh",
        "trusted": true
      },
      "outputs": [],
      "source": [
        "def extract_window_data(df, window_len=5, zero_base=True):\n",
        "    window_data = []\n",
        "    for idx in range(len(df) - window_len):\n",
        "        tmp = df[idx: (idx + window_len)].copy()\n",
        "        if zero_base:\n",
        "            tmp = normalise_zero_base(tmp)\n",
        "        window_data.append(tmp.values)\n",
        "    return np.array(window_data)"
      ]
    },
    {
      "cell_type": "code",
      "execution_count": 99,
      "metadata": {
        "id": "aTBbhnezpskk",
        "trusted": true
      },
      "outputs": [],
      "source": [
        "def prepare_data(df, target_col, window_len=10, zero_base=True, test_size=0.2):\n",
        "    train_data, test_data = train_test_split(df, test_size=test_size)\n",
        "    X_train = extract_window_data(train_data, window_len, zero_base)\n",
        "    X_test = extract_window_data(test_data, window_len, zero_base)\n",
        "    y_train = train_data[target_col][window_len:].values\n",
        "    y_test = test_data[target_col][window_len:].values\n",
        "    if zero_base:\n",
        "        y_train = y_train / train_data[target_col][:-window_len].values - 1\n",
        "        y_test = y_test / test_data[target_col][:-window_len].values - 1\n",
        "\n",
        "    return train_data, test_data, X_train, X_test, y_train, y_test"
      ]
    },
    {
      "cell_type": "code",
      "execution_count": 100,
      "metadata": {
        "id": "VjWtS2qJpskn",
        "trusted": true
      },
      "outputs": [],
      "source": [
        "from keras.models import Sequential\n",
        "def build_lstm_model(input_data, output_size, neurons=100, activ_func='linear',\n",
        "                     dropout=0.2, loss='mse', optimizer='adam'):\n",
        "    model = Sequential()\n",
        "    model.add(LSTM(neurons, input_shape=(input_data.shape[1], input_data.shape[2])))\n",
        "    model.add(Dropout(dropout))\n",
        "    model.add(Dense(units=output_size))\n",
        "    model.add(Activation(activ_func))\n",
        "\n",
        "    model.compile(loss=loss, optimizer=optimizer)\n",
        "    return model"
      ]
    },
    {
      "cell_type": "code",
      "execution_count": 101,
      "metadata": {
        "id": "aADcao3Qpskq",
        "trusted": true
      },
      "outputs": [],
      "source": [
        "import numpy as np\n",
        "np.random.seed(42)\n",
        "window_len = 5\n",
        "test_size = 0.2\n",
        "zero_base = True\n",
        "lstm_neurons = 100\n",
        "epochs = 20\n",
        "batch_size = 32\n",
        "loss = 'mse'\n",
        "dropout = 0.2\n",
        "optimizer = 'adam'"
      ]
    },
    {
      "cell_type": "code",
      "execution_count": 102,
      "metadata": {
        "id": "rAw5VBtwpskt",
        "trusted": true
      },
      "outputs": [],
      "source": [
        "train, test, X_train, X_test, y_train, y_test = prepare_data(\n",
        "    hist, target_col, window_len=window_len, zero_base=zero_base, test_size=test_size)"
      ]
    },
    {
      "cell_type": "code",
      "execution_count": 103,
      "metadata": {
        "colab": {
          "base_uri": "https://localhost:8080/"
        },
        "id": "E5T9OAwQpskw",
        "outputId": "7621c21d-98df-48fc-e995-4e390f3e8351",
        "trusted": true
      },
      "outputs": [
        {
          "name": "stdout",
          "output_type": "stream",
          "text": [
            "Epoch 1/20\n",
            "1068/1068 [==============================] - 5s 3ms/step - loss: 8.9967e-04 - val_loss: 2.5365e-04\n",
            "Epoch 2/20\n",
            "1068/1068 [==============================] - 3s 3ms/step - loss: 1.8836e-04 - val_loss: 1.0862e-04\n",
            "Epoch 3/20\n",
            "1068/1068 [==============================] - 3s 3ms/step - loss: 1.2352e-04 - val_loss: 1.6086e-04\n",
            "Epoch 4/20\n",
            "1068/1068 [==============================] - 3s 3ms/step - loss: 1.1109e-04 - val_loss: 1.0798e-04\n",
            "Epoch 5/20\n",
            "1068/1068 [==============================] - 3s 3ms/step - loss: 1.0494e-04 - val_loss: 9.4567e-05\n",
            "Epoch 6/20\n",
            "1068/1068 [==============================] - 3s 3ms/step - loss: 1.0405e-04 - val_loss: 9.8501e-05\n",
            "Epoch 7/20\n",
            "1068/1068 [==============================] - 3s 3ms/step - loss: 1.0111e-04 - val_loss: 9.7734e-05\n",
            "Epoch 8/20\n",
            "1068/1068 [==============================] - 3s 3ms/step - loss: 1.0070e-04 - val_loss: 1.0236e-04\n",
            "Epoch 9/20\n",
            "1068/1068 [==============================] - 3s 3ms/step - loss: 1.0093e-04 - val_loss: 1.0866e-04\n",
            "Epoch 10/20\n",
            "1068/1068 [==============================] - 3s 3ms/step - loss: 9.8707e-05 - val_loss: 1.0153e-04\n",
            "Epoch 11/20\n",
            "1068/1068 [==============================] - 3s 3ms/step - loss: 9.7674e-05 - val_loss: 1.0496e-04\n",
            "Epoch 12/20\n",
            "1068/1068 [==============================] - 3s 3ms/step - loss: 9.7829e-05 - val_loss: 9.2619e-05\n",
            "Epoch 13/20\n",
            "1068/1068 [==============================] - 3s 3ms/step - loss: 9.7679e-05 - val_loss: 9.1328e-05\n",
            "Epoch 14/20\n",
            "1068/1068 [==============================] - 3s 3ms/step - loss: 9.6985e-05 - val_loss: 9.8043e-05\n",
            "Epoch 15/20\n",
            "1068/1068 [==============================] - 3s 3ms/step - loss: 9.7813e-05 - val_loss: 9.7854e-05\n",
            "Epoch 16/20\n",
            "1068/1068 [==============================] - 3s 3ms/step - loss: 9.6836e-05 - val_loss: 9.0317e-05\n",
            "Epoch 17/20\n",
            "1068/1068 [==============================] - 3s 3ms/step - loss: 9.5329e-05 - val_loss: 9.2889e-05\n",
            "Epoch 18/20\n",
            "1068/1068 [==============================] - 3s 3ms/step - loss: 9.5625e-05 - val_loss: 1.0059e-04\n",
            "Epoch 19/20\n",
            "1068/1068 [==============================] - 3s 3ms/step - loss: 9.6692e-05 - val_loss: 9.7955e-05\n",
            "Epoch 20/20\n",
            "1068/1068 [==============================] - 3s 3ms/step - loss: 9.6641e-05 - val_loss: 9.1127e-05\n"
          ]
        }
      ],
      "source": [
        "model = build_lstm_model(\n",
        "    X_train, output_size=1, neurons=lstm_neurons, dropout=dropout, loss=loss,\n",
        "    optimizer=optimizer)\n",
        "history = model.fit(\n",
        "    X_train, y_train, validation_data=(X_test, y_test), epochs=epochs, batch_size=batch_size, verbose=1, shuffle=True)"
      ]
    },
    {
      "cell_type": "code",
      "execution_count": 104,
      "metadata": {
        "colab": {
          "base_uri": "https://localhost:8080/",
          "height": 295
        },
        "id": "qhMsatri0miT",
        "outputId": "7ab04030-c3bc-4858-d41a-e8fadac1236f"
      },
      "outputs": [
        {
          "data": {
            "image/png": "[encoded data removed]",
            "text/plain": [
              "<Figure size 432x288 with 1 Axes>"
            ]
          },
          "metadata": {
            "needs_background": "light"
          },
          "output_type": "display_data"
        }
      ],
      "source": [
        "import matplotlib.pyplot as plt\n",
        "plt.plot(history.history['loss'],'r',linewidth=2, label='Train loss')\n",
        "plt.plot(history.history['val_loss'], 'g',linewidth=2, label='Validation loss')\n",
        "plt.title('LSTM')\n",
        "plt.xlabel('Epochs')\n",
        "plt.ylabel('MSE')\n",
        "plt.show()"
      ]
    },
    {
      "cell_type": "code",
      "execution_count": 105,
      "metadata": {
        "colab": {
          "base_uri": "https://localhost:8080/"
        },
        "id": "mS6SPIGNpskz",
        "outputId": "0e3e1a6c-c53f-43ba-ff9b-7f9c2d5aa5fe",
        "trusted": true
      },
      "outputs": [
        {
          "data": {
            "text/plain": [
              "0.006478505779796967"
            ]
          },
          "execution_count": 105,
          "metadata": {},
          "output_type": "execute_result"
        }
      ],
      "source": [
        "targets = test[target_col][window_len:]\n",
        "preds = model.predict(X_test).squeeze()\n",
        "mean_absolute_error(preds, y_test)"
      ]
    },
    {
      "cell_type": "code",
      "execution_count": 106,
      "metadata": {
        "colab": {
          "base_uri": "https://localhost:8080/"
        },
        "id": "sbhTW5T6zVAU",
        "outputId": "4b6e6180-90cf-4227-add8-9c61a0efd7fb"
      },
      "outputs": [
        {
          "data": {
            "text/plain": [
              "9.112727769707783e-05"
            ]
          },
          "execution_count": 106,
          "metadata": {},
          "output_type": "execute_result"
        }
      ],
      "source": [
        "from sklearn.metrics import mean_squared_error\n",
        "MAE=mean_squared_error(preds, y_test)\n",
        "MAE\n"
      ]
    },
    {
      "cell_type": "code",
      "execution_count": 107,
      "metadata": {
        "colab": {
          "base_uri": "https://localhost:8080/"
        },
        "id": "jnFOCI9ezb8T",
        "outputId": "1c50a541-f9c1-422f-aaaf-7314dae06f78"
      },
      "outputs": [
        {
          "data": {
            "text/plain": [
              "0.778470425566637"
            ]
          },
          "execution_count": 107,
          "metadata": {},
          "output_type": "execute_result"
        }
      ],
      "source": [
        "from sklearn.metrics import r2_score\n",
        "R2=r2_score(y_test, preds)\n",
        "R2"
      ]
    },
    {
      "cell_type": "code",
      "execution_count": 108,
      "metadata": {
        "colab": {
          "base_uri": "https://localhost:8080/",
          "height": 428
        },
        "id": "4jU0wERepsk2",
        "outputId": "b09dca6a-d71e-4280-e271-68bd15ea2d2c",
        "trusted": true
      },
      "outputs": [
        {
          "data": {
            "image/png": "[encoded data removed]",
            "text/plain": [
              "<Figure size 936x504 with 1 Axes>"
            ]
          },
          "metadata": {
            "needs_background": "light"
          },
          "output_type": "display_data"
        }
      ],
      "source": [
        "preds = test[target_col].values[:-window_len] * (preds + 1)\n",
        "preds = pd.Series(index=targets.index, data=preds)\n",
        "line_plot(targets, preds, 'actual', 'prediction', lw=3)"
      ]
    }
  ],
  "metadata": {
    "colab": {
      "collapsed_sections": [],
      "name": "price_prediction.ipynb",
      "provenance": []
    },
    "interpreter": {
      "hash": "b7d1f2948ceac33c47cc3118599163110709bfe8fc361e52a29a1b62bc95a3f6"
    },
    "kernelspec": {
      "display_name": "Python 3.7.10 64-bit ('dev': conda)",
      "name": "python3"
    },
    "language_info": {
      "codemirror_mode": {
        "name": "ipython",
        "version": 3
      },
      "file_extension": ".py",
      "mimetype": "text/x-python",
      "name": "python",
      "nbconvert_exporter": "python",
      "pygments_lexer": "ipython3",
      "version": "3.7.10"
    }
  },
  "nbformat": 4,
  "nbformat_minor": 0
}
