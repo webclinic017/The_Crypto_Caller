{
  "cells": [
    {
      "cell_type": "code",
      "execution_count": 1,
      "metadata": {
        "id": "NeWVBhf1VxlH"
      },
      "outputs": [
        {
          "name": "stderr",
          "output_type": "stream",
          "text": [
            "UsageError: Line magic function `%tensorflow_version` not found.\n"
          ]
        }
      ],
      "source": [
        "%tensorflow_version 2.x\n",
        "import json\n",
        "import requests\n",
        "from keras.models import Sequential\n",
        "from keras.layers import Activation, Dense, Dropout, LSTM\n",
        "import matplotlib.pyplot as plt\n",
        "import numpy as np\n",
        "import pandas as pd\n",
        "import seaborn as sns\n",
        "from sklearn.metrics import mean_absolute_error\n",
        "from pathlib import Path\n",
        "%matplotlib inline"
      ]
    },
    {
      "cell_type": "code",
      "execution_count": null,
      "metadata": {
        "_cell_guid": "79c7e3d0-c299-4dcb-8224-4455121ee9b0",
        "_uuid": "d629ff2d2480ee46fbb7e2d37f6b5fab8052498a",
        "id": "6W__OM92pskF",
        "trusted": true
      },
      "outputs": [],
      "source": [
        "endpoint = 'https://min-api.cryptocompare.com/data/histoday'\n",
        "res = requests.get(endpoint + '?fsym=BTC&tsym=CAD&limit=500')\n",
        "hist = pd.DataFrame(json.loads(res.content)['Data'])\n",
        "hist = hist.set_index('time')\n",
        "hist.index = pd.to_datetime(hist.index, unit='s')\n",
        "target_col = 'close'"
      ]
    },
    {
      "cell_type": "code",
      "execution_count": null,
      "metadata": {
        "id": "IJ81oAj4sw6x"
      },
      "outputs": [],
      "source": [
        "hist.drop([\"conversionType\", \"conversionSymbol\"], axis = 'columns', inplace = True)"
      ]
    },
    {
      "cell_type": "code",
      "execution_count": null,
      "metadata": {
        "colab": {
          "base_uri": "https://localhost:8080/",
          "height": 235
        },
        "id": "QQ9tRh3fs6wX",
        "outputId": "5ad8641b-9d99-49c8-e6d4-a927d5a1d84e"
      },
      "outputs": [],
      "source": [
        "hist.head(5)"
      ]
    },
    {
      "cell_type": "code",
      "execution_count": 2,
      "metadata": {},
      "outputs": [
        {
          "data": {
            "text/html": [
              "<div>\n",
              "<style scoped>\n",
              "    .dataframe tbody tr th:only-of-type {\n",
              "        vertical-align: middle;\n",
              "    }\n",
              "\n",
              "    .dataframe tbody tr th {\n",
              "        vertical-align: top;\n",
              "    }\n",
              "\n",
              "    .dataframe thead th {\n",
              "        text-align: right;\n",
              "    }\n",
              "</style>\n",
              "<table border=\"1\" class=\"dataframe\">\n",
              "  <thead>\n",
              "    <tr style=\"text-align: right;\">\n",
              "      <th></th>\n",
              "      <th>Open</th>\n",
              "      <th>Close</th>\n",
              "      <th>High</th>\n",
              "      <th>Low</th>\n",
              "      <th>Volume</th>\n",
              "      <th>entry</th>\n",
              "      <th>1h%</th>\n",
              "      <th>vol_pct_chg</th>\n",
              "      <th>sma7h</th>\n",
              "      <th>sma9h</th>\n",
              "      <th>sma20h</th>\n",
              "      <th>sma200d</th>\n",
              "      <th>bb_bbm</th>\n",
              "      <th>bb_bbh</th>\n",
              "      <th>bb_bbl</th>\n",
              "    </tr>\n",
              "    <tr>\n",
              "      <th>Date</th>\n",
              "      <th></th>\n",
              "      <th></th>\n",
              "      <th></th>\n",
              "      <th></th>\n",
              "      <th></th>\n",
              "      <th></th>\n",
              "      <th></th>\n",
              "      <th></th>\n",
              "      <th></th>\n",
              "      <th></th>\n",
              "      <th></th>\n",
              "      <th></th>\n",
              "      <th></th>\n",
              "      <th></th>\n",
              "      <th></th>\n",
              "    </tr>\n",
              "  </thead>\n",
              "  <tbody>\n",
              "    <tr>\n",
              "      <th>2017-01-02 03:00:00</th>\n",
              "      <td>1011.5</td>\n",
              "      <td>1013.0</td>\n",
              "      <td>1015.0</td>\n",
              "      <td>1009.0</td>\n",
              "      <td>737.045368</td>\n",
              "      <td>0</td>\n",
              "      <td>0.001483</td>\n",
              "      <td>0.707852</td>\n",
              "      <td>1005.025714</td>\n",
              "      <td>1004.300000</td>\n",
              "      <td>991.2765</td>\n",
              "      <td>991.276500</td>\n",
              "      <td>991.2765</td>\n",
              "      <td>1020.548664</td>\n",
              "      <td>962.004336</td>\n",
              "    </tr>\n",
              "    <tr>\n",
              "      <th>2017-01-02 04:00:00</th>\n",
              "      <td>1014.0</td>\n",
              "      <td>1015.0</td>\n",
              "      <td>1018.0</td>\n",
              "      <td>1010.5</td>\n",
              "      <td>423.309560</td>\n",
              "      <td>0</td>\n",
              "      <td>0.001974</td>\n",
              "      <td>-0.425667</td>\n",
              "      <td>1006.511429</td>\n",
              "      <td>1006.020000</td>\n",
              "      <td>993.7535</td>\n",
              "      <td>992.406190</td>\n",
              "      <td>993.7535</td>\n",
              "      <td>1022.241744</td>\n",
              "      <td>965.265256</td>\n",
              "    </tr>\n",
              "    <tr>\n",
              "      <th>2017-01-02 05:00:00</th>\n",
              "      <td>1014.1</td>\n",
              "      <td>1011.4</td>\n",
              "      <td>1016.8</td>\n",
              "      <td>1008.9</td>\n",
              "      <td>235.217866</td>\n",
              "      <td>0</td>\n",
              "      <td>-0.003547</td>\n",
              "      <td>-0.444336</td>\n",
              "      <td>1007.468571</td>\n",
              "      <td>1006.842222</td>\n",
              "      <td>996.0245</td>\n",
              "      <td>993.269545</td>\n",
              "      <td>996.0245</td>\n",
              "      <td>1022.462288</td>\n",
              "      <td>969.586712</td>\n",
              "    </tr>\n",
              "    <tr>\n",
              "      <th>2017-01-02 06:00:00</th>\n",
              "      <td>1012.0</td>\n",
              "      <td>1016.7</td>\n",
              "      <td>1016.9</td>\n",
              "      <td>1010.4</td>\n",
              "      <td>238.331585</td>\n",
              "      <td>0</td>\n",
              "      <td>0.005240</td>\n",
              "      <td>0.013238</td>\n",
              "      <td>1009.998571</td>\n",
              "      <td>1008.186667</td>\n",
              "      <td>998.0090</td>\n",
              "      <td>994.288261</td>\n",
              "      <td>998.0090</td>\n",
              "      <td>1024.398177</td>\n",
              "      <td>971.619823</td>\n",
              "    </tr>\n",
              "    <tr>\n",
              "      <th>2017-01-02 07:00:00</th>\n",
              "      <td>1016.6</td>\n",
              "      <td>1018.2</td>\n",
              "      <td>1018.9</td>\n",
              "      <td>1014.1</td>\n",
              "      <td>401.187665</td>\n",
              "      <td>0</td>\n",
              "      <td>0.001475</td>\n",
              "      <td>0.683317</td>\n",
              "      <td>1012.600000</td>\n",
              "      <td>1009.686667</td>\n",
              "      <td>1000.0110</td>\n",
              "      <td>995.284583</td>\n",
              "      <td>1000.0110</td>\n",
              "      <td>1026.147094</td>\n",
              "      <td>973.874906</td>\n",
              "    </tr>\n",
              "  </tbody>\n",
              "</table>\n",
              "</div>"
            ],
            "text/plain": [
              "                       Open   Close    High     Low      Volume  entry  \\\n",
              "Date                                                                     \n",
              "2017-01-02 03:00:00  1011.5  1013.0  1015.0  1009.0  737.045368      0   \n",
              "2017-01-02 04:00:00  1014.0  1015.0  1018.0  1010.5  423.309560      0   \n",
              "2017-01-02 05:00:00  1014.1  1011.4  1016.8  1008.9  235.217866      0   \n",
              "2017-01-02 06:00:00  1012.0  1016.7  1016.9  1010.4  238.331585      0   \n",
              "2017-01-02 07:00:00  1016.6  1018.2  1018.9  1014.1  401.187665      0   \n",
              "\n",
              "                          1h%  vol_pct_chg        sma7h        sma9h  \\\n",
              "Date                                                                   \n",
              "2017-01-02 03:00:00  0.001483     0.707852  1005.025714  1004.300000   \n",
              "2017-01-02 04:00:00  0.001974    -0.425667  1006.511429  1006.020000   \n",
              "2017-01-02 05:00:00 -0.003547    -0.444336  1007.468571  1006.842222   \n",
              "2017-01-02 06:00:00  0.005240     0.013238  1009.998571  1008.186667   \n",
              "2017-01-02 07:00:00  0.001475     0.683317  1012.600000  1009.686667   \n",
              "\n",
              "                        sma20h     sma200d     bb_bbm       bb_bbh      bb_bbl  \n",
              "Date                                                                            \n",
              "2017-01-02 03:00:00   991.2765  991.276500   991.2765  1020.548664  962.004336  \n",
              "2017-01-02 04:00:00   993.7535  992.406190   993.7535  1022.241744  965.265256  \n",
              "2017-01-02 05:00:00   996.0245  993.269545   996.0245  1022.462288  969.586712  \n",
              "2017-01-02 06:00:00   998.0090  994.288261   998.0090  1024.398177  971.619823  \n",
              "2017-01-02 07:00:00  1000.0110  995.284583  1000.0110  1026.147094  973.874906  "
            ]
          },
          "execution_count": 2,
          "metadata": {},
          "output_type": "execute_result"
        }
      ],
      "source": [
        "import pandas as pd \n",
        "hist = pd.read_csv(\n",
        "    'test.csv',\n",
        "    index_col='Date',\n",
        "    parse_dates=True, \n",
        ")\n",
        "\n",
        "hist.head()"
      ]
    },
    {
      "cell_type": "code",
      "execution_count": 21,
      "metadata": {},
      "outputs": [
        {
          "data": {
            "text/html": [
              "<div>\n",
              "<style scoped>\n",
              "    .dataframe tbody tr th:only-of-type {\n",
              "        vertical-align: middle;\n",
              "    }\n",
              "\n",
              "    .dataframe tbody tr th {\n",
              "        vertical-align: top;\n",
              "    }\n",
              "\n",
              "    .dataframe thead th {\n",
              "        text-align: right;\n",
              "    }\n",
              "</style>\n",
              "<table border=\"1\" class=\"dataframe\">\n",
              "  <thead>\n",
              "    <tr style=\"text-align: right;\">\n",
              "      <th></th>\n",
              "      <th>Open</th>\n",
              "      <th>Close</th>\n",
              "      <th>High</th>\n",
              "      <th>Low</th>\n",
              "      <th>Volume</th>\n",
              "      <th>entry</th>\n",
              "      <th>1h%</th>\n",
              "      <th>vol_pct_chg</th>\n",
              "      <th>sma7h</th>\n",
              "      <th>sma9h</th>\n",
              "      <th>sma20h</th>\n",
              "      <th>sma200d</th>\n",
              "      <th>bb_bbm</th>\n",
              "      <th>bb_bbh</th>\n",
              "      <th>bb_bbl</th>\n",
              "    </tr>\n",
              "    <tr>\n",
              "      <th>Date</th>\n",
              "      <th></th>\n",
              "      <th></th>\n",
              "      <th></th>\n",
              "      <th></th>\n",
              "      <th></th>\n",
              "      <th></th>\n",
              "      <th></th>\n",
              "      <th></th>\n",
              "      <th></th>\n",
              "      <th></th>\n",
              "      <th></th>\n",
              "      <th></th>\n",
              "      <th></th>\n",
              "      <th></th>\n",
              "      <th></th>\n",
              "    </tr>\n",
              "  </thead>\n",
              "  <tbody>\n",
              "    <tr>\n",
              "      <th>2021-11-17 13:00:00</th>\n",
              "      <td>60514.231682</td>\n",
              "      <td>60207.000000</td>\n",
              "      <td>60639.0</td>\n",
              "      <td>60207.0</td>\n",
              "      <td>476.771475</td>\n",
              "      <td>0</td>\n",
              "      <td>-0.005077</td>\n",
              "      <td>0.422752</td>\n",
              "      <td>60046.752999</td>\n",
              "      <td>59953.696777</td>\n",
              "      <td>59872.711649</td>\n",
              "      <td>45962.100038</td>\n",
              "      <td>59872.711649</td>\n",
              "      <td>60895.619230</td>\n",
              "      <td>58849.804067</td>\n",
              "    </tr>\n",
              "    <tr>\n",
              "      <th>2021-11-17 14:00:00</th>\n",
              "      <td>60207.000000</td>\n",
              "      <td>59724.666301</td>\n",
              "      <td>60388.0</td>\n",
              "      <td>59724.0</td>\n",
              "      <td>824.163709</td>\n",
              "      <td>0</td>\n",
              "      <td>-0.008011</td>\n",
              "      <td>0.728635</td>\n",
              "      <td>60047.562470</td>\n",
              "      <td>59965.437477</td>\n",
              "      <td>59863.354399</td>\n",
              "      <td>45962.582677</td>\n",
              "      <td>59863.354399</td>\n",
              "      <td>60888.082370</td>\n",
              "      <td>58838.626427</td>\n",
              "    </tr>\n",
              "    <tr>\n",
              "      <th>2021-11-17 15:00:00</th>\n",
              "      <td>59724.000000</td>\n",
              "      <td>59708.630836</td>\n",
              "      <td>59859.0</td>\n",
              "      <td>59483.0</td>\n",
              "      <td>500.389504</td>\n",
              "      <td>0</td>\n",
              "      <td>-0.000268</td>\n",
              "      <td>-0.392852</td>\n",
              "      <td>60060.509733</td>\n",
              "      <td>59973.396459</td>\n",
              "      <td>59837.312487</td>\n",
              "      <td>45963.079267</td>\n",
              "      <td>59837.312487</td>\n",
              "      <td>60849.900546</td>\n",
              "      <td>58824.724428</td>\n",
              "    </tr>\n",
              "    <tr>\n",
              "      <th>2021-11-17 16:00:00</th>\n",
              "      <td>59728.000000</td>\n",
              "      <td>60418.000000</td>\n",
              "      <td>60480.0</td>\n",
              "      <td>59491.0</td>\n",
              "      <td>398.163219</td>\n",
              "      <td>0</td>\n",
              "      <td>0.011881</td>\n",
              "      <td>-0.204293</td>\n",
              "      <td>60270.509733</td>\n",
              "      <td>60051.063126</td>\n",
              "      <td>59872.362487</td>\n",
              "      <td>45963.630517</td>\n",
              "      <td>59872.362487</td>\n",
              "      <td>60913.979089</td>\n",
              "      <td>58830.745885</td>\n",
              "    </tr>\n",
              "    <tr>\n",
              "      <th>2021-11-17 17:00:00</th>\n",
              "      <td>60418.000000</td>\n",
              "      <td>60069.000000</td>\n",
              "      <td>60439.0</td>\n",
              "      <td>60031.0</td>\n",
              "      <td>109.235020</td>\n",
              "      <td>0</td>\n",
              "      <td>-0.005776</td>\n",
              "      <td>-0.725653</td>\n",
              "      <td>60205.366876</td>\n",
              "      <td>60101.174237</td>\n",
              "      <td>59854.290011</td>\n",
              "      <td>45964.121463</td>\n",
              "      <td>59854.290011</td>\n",
              "      <td>60868.735535</td>\n",
              "      <td>58839.844486</td>\n",
              "    </tr>\n",
              "  </tbody>\n",
              "</table>\n",
              "</div>"
            ],
            "text/plain": [
              "                             Open         Close     High      Low      Volume  \\\n",
              "Date                                                                            \n",
              "2021-11-17 13:00:00  60514.231682  60207.000000  60639.0  60207.0  476.771475   \n",
              "2021-11-17 14:00:00  60207.000000  59724.666301  60388.0  59724.0  824.163709   \n",
              "2021-11-17 15:00:00  59724.000000  59708.630836  59859.0  59483.0  500.389504   \n",
              "2021-11-17 16:00:00  59728.000000  60418.000000  60480.0  59491.0  398.163219   \n",
              "2021-11-17 17:00:00  60418.000000  60069.000000  60439.0  60031.0  109.235020   \n",
              "\n",
              "                     entry       1h%  vol_pct_chg         sma7h         sma9h  \\\n",
              "Date                                                                            \n",
              "2021-11-17 13:00:00      0 -0.005077     0.422752  60046.752999  59953.696777   \n",
              "2021-11-17 14:00:00      0 -0.008011     0.728635  60047.562470  59965.437477   \n",
              "2021-11-17 15:00:00      0 -0.000268    -0.392852  60060.509733  59973.396459   \n",
              "2021-11-17 16:00:00      0  0.011881    -0.204293  60270.509733  60051.063126   \n",
              "2021-11-17 17:00:00      0 -0.005776    -0.725653  60205.366876  60101.174237   \n",
              "\n",
              "                           sma20h       sma200d        bb_bbm        bb_bbh  \\\n",
              "Date                                                                          \n",
              "2021-11-17 13:00:00  59872.711649  45962.100038  59872.711649  60895.619230   \n",
              "2021-11-17 14:00:00  59863.354399  45962.582677  59863.354399  60888.082370   \n",
              "2021-11-17 15:00:00  59837.312487  45963.079267  59837.312487  60849.900546   \n",
              "2021-11-17 16:00:00  59872.362487  45963.630517  59872.362487  60913.979089   \n",
              "2021-11-17 17:00:00  59854.290011  45964.121463  59854.290011  60868.735535   \n",
              "\n",
              "                           bb_bbl  \n",
              "Date                               \n",
              "2021-11-17 13:00:00  58849.804067  \n",
              "2021-11-17 14:00:00  58838.626427  \n",
              "2021-11-17 15:00:00  58824.724428  \n",
              "2021-11-17 16:00:00  58830.745885  \n",
              "2021-11-17 17:00:00  58839.844486  "
            ]
          },
          "execution_count": 21,
          "metadata": {},
          "output_type": "execute_result"
        }
      ],
      "source": [
        "hist = hist[-200:]\n",
        "hist.tail()"
      ]
    },
    {
      "cell_type": "code",
      "execution_count": 22,
      "metadata": {},
      "outputs": [
        {
          "data": {
            "text/html": [
              "<div>\n",
              "<style scoped>\n",
              "    .dataframe tbody tr th:only-of-type {\n",
              "        vertical-align: middle;\n",
              "    }\n",
              "\n",
              "    .dataframe tbody tr th {\n",
              "        vertical-align: top;\n",
              "    }\n",
              "\n",
              "    .dataframe thead th {\n",
              "        text-align: right;\n",
              "    }\n",
              "</style>\n",
              "<table border=\"1\" class=\"dataframe\">\n",
              "  <thead>\n",
              "    <tr style=\"text-align: right;\">\n",
              "      <th></th>\n",
              "      <th>Open</th>\n",
              "      <th>Close</th>\n",
              "      <th>High</th>\n",
              "      <th>Low</th>\n",
              "      <th>Volume</th>\n",
              "      <th>entry</th>\n",
              "      <th>1h%</th>\n",
              "      <th>vol_pct_chg</th>\n",
              "      <th>sma7h</th>\n",
              "      <th>sma9h</th>\n",
              "      <th>sma20h</th>\n",
              "      <th>sma200d</th>\n",
              "      <th>bb_bbm</th>\n",
              "      <th>bb_bbh</th>\n",
              "      <th>bb_bbl</th>\n",
              "    </tr>\n",
              "    <tr>\n",
              "      <th>Date</th>\n",
              "      <th></th>\n",
              "      <th></th>\n",
              "      <th></th>\n",
              "      <th></th>\n",
              "      <th></th>\n",
              "      <th></th>\n",
              "      <th></th>\n",
              "      <th></th>\n",
              "      <th></th>\n",
              "      <th></th>\n",
              "      <th></th>\n",
              "      <th></th>\n",
              "      <th></th>\n",
              "      <th></th>\n",
              "      <th></th>\n",
              "    </tr>\n",
              "  </thead>\n",
              "  <tbody>\n",
              "    <tr>\n",
              "      <th>2021-11-09 10:00:00</th>\n",
              "      <td>68177.00000</td>\n",
              "      <td>67827.0</td>\n",
              "      <td>68192.00000</td>\n",
              "      <td>67826.000000</td>\n",
              "      <td>217.555509</td>\n",
              "      <td>0</td>\n",
              "      <td>-0.005134</td>\n",
              "      <td>0.262491</td>\n",
              "      <td>68045.286743</td>\n",
              "      <td>68037.334133</td>\n",
              "      <td>67194.131161</td>\n",
              "      <td>45508.193727</td>\n",
              "      <td>67194.131161</td>\n",
              "      <td>69042.618698</td>\n",
              "      <td>65345.643623</td>\n",
              "    </tr>\n",
              "    <tr>\n",
              "      <th>2021-11-09 11:00:00</th>\n",
              "      <td>67826.00000</td>\n",
              "      <td>67582.0</td>\n",
              "      <td>67882.00000</td>\n",
              "      <td>67351.000000</td>\n",
              "      <td>269.784588</td>\n",
              "      <td>0</td>\n",
              "      <td>-0.003612</td>\n",
              "      <td>0.240072</td>\n",
              "      <td>67948.858172</td>\n",
              "      <td>68035.111911</td>\n",
              "      <td>67252.431161</td>\n",
              "      <td>45512.043935</td>\n",
              "      <td>67252.431161</td>\n",
              "      <td>69072.404084</td>\n",
              "      <td>65432.458237</td>\n",
              "    </tr>\n",
              "    <tr>\n",
              "      <th>2021-11-09 12:00:00</th>\n",
              "      <td>67582.00000</td>\n",
              "      <td>67529.0</td>\n",
              "      <td>67686.00000</td>\n",
              "      <td>67262.000000</td>\n",
              "      <td>221.758440</td>\n",
              "      <td>0</td>\n",
              "      <td>-0.000784</td>\n",
              "      <td>-0.178017</td>\n",
              "      <td>67865.428571</td>\n",
              "      <td>67936.445245</td>\n",
              "      <td>67330.981161</td>\n",
              "      <td>45516.102685</td>\n",
              "      <td>67330.981161</td>\n",
              "      <td>69053.714074</td>\n",
              "      <td>65608.248247</td>\n",
              "    </tr>\n",
              "    <tr>\n",
              "      <th>2021-11-09 13:00:00</th>\n",
              "      <td>67529.00000</td>\n",
              "      <td>67993.0</td>\n",
              "      <td>67993.00000</td>\n",
              "      <td>67499.881325</td>\n",
              "      <td>315.473906</td>\n",
              "      <td>0</td>\n",
              "      <td>0.006871</td>\n",
              "      <td>0.422602</td>\n",
              "      <td>67861.714286</td>\n",
              "      <td>67907.111911</td>\n",
              "      <td>67430.681161</td>\n",
              "      <td>45520.091852</td>\n",
              "      <td>67430.681161</td>\n",
              "      <td>69061.897687</td>\n",
              "      <td>65799.464634</td>\n",
              "    </tr>\n",
              "    <tr>\n",
              "      <th>2021-11-09 14:00:00</th>\n",
              "      <td>67992.85904</td>\n",
              "      <td>67401.0</td>\n",
              "      <td>67992.85904</td>\n",
              "      <td>67143.000000</td>\n",
              "      <td>532.618598</td>\n",
              "      <td>0</td>\n",
              "      <td>-0.008707</td>\n",
              "      <td>0.688313</td>\n",
              "      <td>67796.571429</td>\n",
              "      <td>67828.000000</td>\n",
              "      <td>67503.639188</td>\n",
              "      <td>45524.077477</td>\n",
              "      <td>67503.639188</td>\n",
              "      <td>68985.672296</td>\n",
              "      <td>66021.606079</td>\n",
              "    </tr>\n",
              "  </tbody>\n",
              "</table>\n",
              "</div>"
            ],
            "text/plain": [
              "                            Open    Close         High           Low  \\\n",
              "Date                                                                   \n",
              "2021-11-09 10:00:00  68177.00000  67827.0  68192.00000  67826.000000   \n",
              "2021-11-09 11:00:00  67826.00000  67582.0  67882.00000  67351.000000   \n",
              "2021-11-09 12:00:00  67582.00000  67529.0  67686.00000  67262.000000   \n",
              "2021-11-09 13:00:00  67529.00000  67993.0  67993.00000  67499.881325   \n",
              "2021-11-09 14:00:00  67992.85904  67401.0  67992.85904  67143.000000   \n",
              "\n",
              "                         Volume  entry       1h%  vol_pct_chg         sma7h  \\\n",
              "Date                                                                          \n",
              "2021-11-09 10:00:00  217.555509      0 -0.005134     0.262491  68045.286743   \n",
              "2021-11-09 11:00:00  269.784588      0 -0.003612     0.240072  67948.858172   \n",
              "2021-11-09 12:00:00  221.758440      0 -0.000784    -0.178017  67865.428571   \n",
              "2021-11-09 13:00:00  315.473906      0  0.006871     0.422602  67861.714286   \n",
              "2021-11-09 14:00:00  532.618598      0 -0.008707     0.688313  67796.571429   \n",
              "\n",
              "                            sma9h        sma20h       sma200d        bb_bbm  \\\n",
              "Date                                                                          \n",
              "2021-11-09 10:00:00  68037.334133  67194.131161  45508.193727  67194.131161   \n",
              "2021-11-09 11:00:00  68035.111911  67252.431161  45512.043935  67252.431161   \n",
              "2021-11-09 12:00:00  67936.445245  67330.981161  45516.102685  67330.981161   \n",
              "2021-11-09 13:00:00  67907.111911  67430.681161  45520.091852  67430.681161   \n",
              "2021-11-09 14:00:00  67828.000000  67503.639188  45524.077477  67503.639188   \n",
              "\n",
              "                           bb_bbh        bb_bbl  \n",
              "Date                                             \n",
              "2021-11-09 10:00:00  69042.618698  65345.643623  \n",
              "2021-11-09 11:00:00  69072.404084  65432.458237  \n",
              "2021-11-09 12:00:00  69053.714074  65608.248247  \n",
              "2021-11-09 13:00:00  69061.897687  65799.464634  \n",
              "2021-11-09 14:00:00  68985.672296  66021.606079  "
            ]
          },
          "execution_count": 22,
          "metadata": {},
          "output_type": "execute_result"
        }
      ],
      "source": [
        "hist.head()"
      ]
    },
    {
      "cell_type": "code",
      "execution_count": 23,
      "metadata": {},
      "outputs": [],
      "source": [
        "target_col = hist['Close']"
      ]
    },
    {
      "cell_type": "code",
      "execution_count": 24,
      "metadata": {},
      "outputs": [
        {
          "data": {
            "text/plain": [
              "Date\n",
              "2021-11-09 10:00:00    67827.000000\n",
              "2021-11-09 11:00:00    67582.000000\n",
              "2021-11-09 12:00:00    67529.000000\n",
              "2021-11-09 13:00:00    67993.000000\n",
              "2021-11-09 14:00:00    67401.000000\n",
              "                           ...     \n",
              "2021-11-17 13:00:00    60207.000000\n",
              "2021-11-17 14:00:00    59724.666301\n",
              "2021-11-17 15:00:00    59708.630836\n",
              "2021-11-17 16:00:00    60418.000000\n",
              "2021-11-17 17:00:00    60069.000000\n",
              "Name: Close, Length: 200, dtype: float64"
            ]
          },
          "execution_count": 24,
          "metadata": {},
          "output_type": "execute_result"
        }
      ],
      "source": [
        "target_col"
      ]
    },
    {
      "cell_type": "code",
      "execution_count": 25,
      "metadata": {
        "id": "0Ykh8CHfpskJ",
        "trusted": true
      },
      "outputs": [],
      "source": [
        "def train_test_split(df, test_size=0.2):\n",
        "    split_row = len(df) - int(test_size * len(df))\n",
        "    train_data = df.iloc[:split_row]\n",
        "    test_data = df.iloc[split_row:]\n",
        "    return train_data, test_data"
      ]
    },
    {
      "cell_type": "code",
      "execution_count": 26,
      "metadata": {
        "id": "PWKGJlxIpskM",
        "trusted": true
      },
      "outputs": [],
      "source": [
        "train, test = train_test_split(hist, test_size=0.2)"
      ]
    },
    {
      "cell_type": "code",
      "execution_count": 27,
      "metadata": {
        "id": "jqfrJbQhpskP",
        "trusted": true
      },
      "outputs": [],
      "source": [
        "def line_plot(line1, line2, label1=None, label2=None, title='', lw=2):\n",
        "    fig, ax = plt.subplots(1, figsize=(13, 7))\n",
        "    ax.plot(line1, label=label1, linewidth=lw)\n",
        "    ax.plot(line2, label=label2, linewidth=lw)\n",
        "    ax.set_ylabel('price [CAD]', fontsize=14)\n",
        "    ax.set_title(title, fontsize=16)\n",
        "    ax.legend(loc='best', fontsize=16);"
      ]
    },
    {
      "cell_type": "code",
      "execution_count": 28,
      "metadata": {
        "colab": {
          "base_uri": "https://localhost:8080/",
          "height": 428
        },
        "id": "9F_YTCCxpskS",
        "outputId": "b775e163-be1f-4ea4-869c-4beea7552607",
        "trusted": true
      },
      "outputs": [
        {
          "ename": "KeyError",
          "evalue": "\"None of [Float64Index([       67827.0,        67582.0,        67529.0,        67993.0,\\n                     67401.0,        66836.0,        66708.0, 66813.08492452,\\n                     66550.0,        66826.0,\\n              ...\\n                     59618.0,        58948.0,        60525.0, 60796.03931092,\\n               60514.2316817,        60207.0, 59724.66630076, 59708.63083629,\\n                     60418.0,        60069.0],\\n             dtype='float64', length=200)] are in the [columns]\"",
          "output_type": "error",
          "traceback": [
            "\u001b[1;31m---------------------------------------------------------------------------\u001b[0m",
            "\u001b[1;31mKeyError\u001b[0m                                  Traceback (most recent call last)",
            "\u001b[1;32m<ipython-input-28-3c32d783a208>\u001b[0m in \u001b[0;36m<module>\u001b[1;34m\u001b[0m\n\u001b[1;32m----> 1\u001b[1;33m \u001b[0mline_plot\u001b[0m\u001b[1;33m(\u001b[0m\u001b[0mtrain\u001b[0m\u001b[1;33m[\u001b[0m\u001b[0mtarget_col\u001b[0m\u001b[1;33m]\u001b[0m\u001b[1;33m,\u001b[0m \u001b[0mtest\u001b[0m\u001b[1;33m[\u001b[0m\u001b[0mtarget_col\u001b[0m\u001b[1;33m]\u001b[0m\u001b[1;33m,\u001b[0m \u001b[1;34m'training'\u001b[0m\u001b[1;33m,\u001b[0m \u001b[1;34m'test'\u001b[0m\u001b[1;33m,\u001b[0m \u001b[0mtitle\u001b[0m\u001b[1;33m=\u001b[0m\u001b[1;34m''\u001b[0m\u001b[1;33m)\u001b[0m\u001b[1;33m\u001b[0m\u001b[1;33m\u001b[0m\u001b[0m\n\u001b[0m",
            "\u001b[1;32mC:\\Anaconda3\\envs\\dev\\lib\\site-packages\\pandas\\core\\frame.py\u001b[0m in \u001b[0;36m__getitem__\u001b[1;34m(self, key)\u001b[0m\n\u001b[0;32m   3028\u001b[0m             \u001b[1;32mif\u001b[0m \u001b[0mis_iterator\u001b[0m\u001b[1;33m(\u001b[0m\u001b[0mkey\u001b[0m\u001b[1;33m)\u001b[0m\u001b[1;33m:\u001b[0m\u001b[1;33m\u001b[0m\u001b[1;33m\u001b[0m\u001b[0m\n\u001b[0;32m   3029\u001b[0m                 \u001b[0mkey\u001b[0m \u001b[1;33m=\u001b[0m \u001b[0mlist\u001b[0m\u001b[1;33m(\u001b[0m\u001b[0mkey\u001b[0m\u001b[1;33m)\u001b[0m\u001b[1;33m\u001b[0m\u001b[1;33m\u001b[0m\u001b[0m\n\u001b[1;32m-> 3030\u001b[1;33m             \u001b[0mindexer\u001b[0m \u001b[1;33m=\u001b[0m \u001b[0mself\u001b[0m\u001b[1;33m.\u001b[0m\u001b[0mloc\u001b[0m\u001b[1;33m.\u001b[0m\u001b[0m_get_listlike_indexer\u001b[0m\u001b[1;33m(\u001b[0m\u001b[0mkey\u001b[0m\u001b[1;33m,\u001b[0m \u001b[0maxis\u001b[0m\u001b[1;33m=\u001b[0m\u001b[1;36m1\u001b[0m\u001b[1;33m,\u001b[0m \u001b[0mraise_missing\u001b[0m\u001b[1;33m=\u001b[0m\u001b[1;32mTrue\u001b[0m\u001b[1;33m)\u001b[0m\u001b[1;33m[\u001b[0m\u001b[1;36m1\u001b[0m\u001b[1;33m]\u001b[0m\u001b[1;33m\u001b[0m\u001b[1;33m\u001b[0m\u001b[0m\n\u001b[0m\u001b[0;32m   3031\u001b[0m \u001b[1;33m\u001b[0m\u001b[0m\n\u001b[0;32m   3032\u001b[0m         \u001b[1;31m# take() does not accept boolean indexers\u001b[0m\u001b[1;33m\u001b[0m\u001b[1;33m\u001b[0m\u001b[1;33m\u001b[0m\u001b[0m\n",
            "\u001b[1;32mC:\\Anaconda3\\envs\\dev\\lib\\site-packages\\pandas\\core\\indexing.py\u001b[0m in \u001b[0;36m_get_listlike_indexer\u001b[1;34m(self, key, axis, raise_missing)\u001b[0m\n\u001b[0;32m   1264\u001b[0m             \u001b[0mkeyarr\u001b[0m\u001b[1;33m,\u001b[0m \u001b[0mindexer\u001b[0m\u001b[1;33m,\u001b[0m \u001b[0mnew_indexer\u001b[0m \u001b[1;33m=\u001b[0m \u001b[0max\u001b[0m\u001b[1;33m.\u001b[0m\u001b[0m_reindex_non_unique\u001b[0m\u001b[1;33m(\u001b[0m\u001b[0mkeyarr\u001b[0m\u001b[1;33m)\u001b[0m\u001b[1;33m\u001b[0m\u001b[1;33m\u001b[0m\u001b[0m\n\u001b[0;32m   1265\u001b[0m \u001b[1;33m\u001b[0m\u001b[0m\n\u001b[1;32m-> 1266\u001b[1;33m         \u001b[0mself\u001b[0m\u001b[1;33m.\u001b[0m\u001b[0m_validate_read_indexer\u001b[0m\u001b[1;33m(\u001b[0m\u001b[0mkeyarr\u001b[0m\u001b[1;33m,\u001b[0m \u001b[0mindexer\u001b[0m\u001b[1;33m,\u001b[0m \u001b[0maxis\u001b[0m\u001b[1;33m,\u001b[0m \u001b[0mraise_missing\u001b[0m\u001b[1;33m=\u001b[0m\u001b[0mraise_missing\u001b[0m\u001b[1;33m)\u001b[0m\u001b[1;33m\u001b[0m\u001b[1;33m\u001b[0m\u001b[0m\n\u001b[0m\u001b[0;32m   1267\u001b[0m         \u001b[1;32mreturn\u001b[0m \u001b[0mkeyarr\u001b[0m\u001b[1;33m,\u001b[0m \u001b[0mindexer\u001b[0m\u001b[1;33m\u001b[0m\u001b[1;33m\u001b[0m\u001b[0m\n\u001b[0;32m   1268\u001b[0m \u001b[1;33m\u001b[0m\u001b[0m\n",
            "\u001b[1;32mC:\\Anaconda3\\envs\\dev\\lib\\site-packages\\pandas\\core\\indexing.py\u001b[0m in \u001b[0;36m_validate_read_indexer\u001b[1;34m(self, key, indexer, axis, raise_missing)\u001b[0m\n\u001b[0;32m   1306\u001b[0m             \u001b[1;32mif\u001b[0m \u001b[0mmissing\u001b[0m \u001b[1;33m==\u001b[0m \u001b[0mlen\u001b[0m\u001b[1;33m(\u001b[0m\u001b[0mindexer\u001b[0m\u001b[1;33m)\u001b[0m\u001b[1;33m:\u001b[0m\u001b[1;33m\u001b[0m\u001b[1;33m\u001b[0m\u001b[0m\n\u001b[0;32m   1307\u001b[0m                 \u001b[0maxis_name\u001b[0m \u001b[1;33m=\u001b[0m \u001b[0mself\u001b[0m\u001b[1;33m.\u001b[0m\u001b[0mobj\u001b[0m\u001b[1;33m.\u001b[0m\u001b[0m_get_axis_name\u001b[0m\u001b[1;33m(\u001b[0m\u001b[0maxis\u001b[0m\u001b[1;33m)\u001b[0m\u001b[1;33m\u001b[0m\u001b[1;33m\u001b[0m\u001b[0m\n\u001b[1;32m-> 1308\u001b[1;33m                 \u001b[1;32mraise\u001b[0m \u001b[0mKeyError\u001b[0m\u001b[1;33m(\u001b[0m\u001b[1;34mf\"None of [{key}] are in the [{axis_name}]\"\u001b[0m\u001b[1;33m)\u001b[0m\u001b[1;33m\u001b[0m\u001b[1;33m\u001b[0m\u001b[0m\n\u001b[0m\u001b[0;32m   1309\u001b[0m \u001b[1;33m\u001b[0m\u001b[0m\n\u001b[0;32m   1310\u001b[0m             \u001b[0max\u001b[0m \u001b[1;33m=\u001b[0m \u001b[0mself\u001b[0m\u001b[1;33m.\u001b[0m\u001b[0mobj\u001b[0m\u001b[1;33m.\u001b[0m\u001b[0m_get_axis\u001b[0m\u001b[1;33m(\u001b[0m\u001b[0maxis\u001b[0m\u001b[1;33m)\u001b[0m\u001b[1;33m\u001b[0m\u001b[1;33m\u001b[0m\u001b[0m\n",
            "\u001b[1;31mKeyError\u001b[0m: \"None of [Float64Index([       67827.0,        67582.0,        67529.0,        67993.0,\\n                     67401.0,        66836.0,        66708.0, 66813.08492452,\\n                     66550.0,        66826.0,\\n              ...\\n                     59618.0,        58948.0,        60525.0, 60796.03931092,\\n               60514.2316817,        60207.0, 59724.66630076, 59708.63083629,\\n                     60418.0,        60069.0],\\n             dtype='float64', length=200)] are in the [columns]\""
          ]
        }
      ],
      "source": [
        "line_plot(train[target_col], test[target_col], 'training', 'test', title='')"
      ]
    },
    {
      "cell_type": "code",
      "execution_count": 29,
      "metadata": {
        "id": "iy-je3_bpskb",
        "trusted": true
      },
      "outputs": [],
      "source": [
        "def normalise_zero_base(df):\n",
        "    return df / df.iloc[0] - 1\n",
        "\n",
        "def normalise_min_max(df):\n",
        "    return (df - df.min()) / (data.max() - df.min())"
      ]
    },
    {
      "cell_type": "code",
      "execution_count": 30,
      "metadata": {
        "id": "zteL5amIpskh",
        "trusted": true
      },
      "outputs": [],
      "source": [
        "def extract_window_data(df, window_len=5, zero_base=True):\n",
        "    window_data = []\n",
        "    for idx in range(len(df) - window_len):\n",
        "        tmp = df[idx: (idx + window_len)].copy()\n",
        "        if zero_base:\n",
        "            tmp = normalise_zero_base(tmp)\n",
        "        window_data.append(tmp.values)\n",
        "    return np.array(window_data)"
      ]
    },
    {
      "cell_type": "code",
      "execution_count": 31,
      "metadata": {
        "id": "aTBbhnezpskk",
        "trusted": true
      },
      "outputs": [],
      "source": [
        "def prepare_data(df, target_col, window_len=10, zero_base=True, test_size=0.2):\n",
        "    train_data, test_data = train_test_split(df, test_size=test_size)\n",
        "    X_train = extract_window_data(train_data, window_len, zero_base)\n",
        "    X_test = extract_window_data(test_data, window_len, zero_base)\n",
        "    y_train = train_data[target_col][window_len:].values\n",
        "    y_test = test_data[target_col][window_len:].values\n",
        "    if zero_base:\n",
        "        y_train = y_train / train_data[target_col][:-window_len].values - 1\n",
        "        y_test = y_test / test_data[target_col][:-window_len].values - 1\n",
        "\n",
        "    return train_data, test_data, X_train, X_test, y_train, y_test"
      ]
    },
    {
      "cell_type": "code",
      "execution_count": 32,
      "metadata": {
        "id": "VjWtS2qJpskn",
        "trusted": true
      },
      "outputs": [],
      "source": [
        "def build_lstm_model(input_data, output_size, neurons=100, activ_func='linear',\n",
        "                     dropout=0.2, loss='mse', optimizer='adam'):\n",
        "    model = Sequential()\n",
        "    model.add(LSTM(neurons, input_shape=(input_data.shape[1], input_data.shape[2])))\n",
        "    model.add(Dropout(dropout))\n",
        "    model.add(Dense(units=output_size))\n",
        "    model.add(Activation(activ_func))\n",
        "\n",
        "    model.compile(loss=loss, optimizer=optimizer)\n",
        "    return model"
      ]
    },
    {
      "cell_type": "code",
      "execution_count": 33,
      "metadata": {
        "id": "aADcao3Qpskq",
        "trusted": true
      },
      "outputs": [],
      "source": [
        "import numpy as np\n",
        "np.random.seed(42)\n",
        "window_len = 5\n",
        "test_size = 0.2\n",
        "zero_base = True\n",
        "lstm_neurons = 10\n",
        "epochs = 20\n",
        "batch_size = 32\n",
        "loss = 'mse'\n",
        "dropout = 0.2\n",
        "optimizer = 'adam'"
      ]
    },
    {
      "cell_type": "code",
      "execution_count": 34,
      "metadata": {
        "id": "rAw5VBtwpskt",
        "trusted": true
      },
      "outputs": [
        {
          "ename": "KeyError",
          "evalue": "\"None of [Float64Index([       67827.0,        67582.0,        67529.0,        67993.0,\\n                     67401.0,        66836.0,        66708.0, 66813.08492452,\\n                     66550.0,        66826.0,\\n              ...\\n                     59618.0,        58948.0,        60525.0, 60796.03931092,\\n               60514.2316817,        60207.0, 59724.66630076, 59708.63083629,\\n                     60418.0,        60069.0],\\n             dtype='float64', length=200)] are in the [columns]\"",
          "output_type": "error",
          "traceback": [
            "\u001b[1;31m---------------------------------------------------------------------------\u001b[0m",
            "\u001b[1;31mKeyError\u001b[0m                                  Traceback (most recent call last)",
            "\u001b[1;32m<ipython-input-34-caefc63ae9db>\u001b[0m in \u001b[0;36m<module>\u001b[1;34m\u001b[0m\n\u001b[0;32m      1\u001b[0m train, test, X_train, X_test, y_train, y_test = prepare_data(\n\u001b[1;32m----> 2\u001b[1;33m     hist, target_col, window_len=window_len, zero_base=zero_base, test_size=test_size)\n\u001b[0m",
            "\u001b[1;32m<ipython-input-31-d66ff46dd32a>\u001b[0m in \u001b[0;36mprepare_data\u001b[1;34m(df, target_col, window_len, zero_base, test_size)\u001b[0m\n\u001b[0;32m      3\u001b[0m     \u001b[0mX_train\u001b[0m \u001b[1;33m=\u001b[0m \u001b[0mextract_window_data\u001b[0m\u001b[1;33m(\u001b[0m\u001b[0mtrain_data\u001b[0m\u001b[1;33m,\u001b[0m \u001b[0mwindow_len\u001b[0m\u001b[1;33m,\u001b[0m \u001b[0mzero_base\u001b[0m\u001b[1;33m)\u001b[0m\u001b[1;33m\u001b[0m\u001b[1;33m\u001b[0m\u001b[0m\n\u001b[0;32m      4\u001b[0m     \u001b[0mX_test\u001b[0m \u001b[1;33m=\u001b[0m \u001b[0mextract_window_data\u001b[0m\u001b[1;33m(\u001b[0m\u001b[0mtest_data\u001b[0m\u001b[1;33m,\u001b[0m \u001b[0mwindow_len\u001b[0m\u001b[1;33m,\u001b[0m \u001b[0mzero_base\u001b[0m\u001b[1;33m)\u001b[0m\u001b[1;33m\u001b[0m\u001b[1;33m\u001b[0m\u001b[0m\n\u001b[1;32m----> 5\u001b[1;33m     \u001b[0my_train\u001b[0m \u001b[1;33m=\u001b[0m \u001b[0mtrain_data\u001b[0m\u001b[1;33m[\u001b[0m\u001b[0mtarget_col\u001b[0m\u001b[1;33m]\u001b[0m\u001b[1;33m[\u001b[0m\u001b[0mwindow_len\u001b[0m\u001b[1;33m:\u001b[0m\u001b[1;33m]\u001b[0m\u001b[1;33m.\u001b[0m\u001b[0mvalues\u001b[0m\u001b[1;33m\u001b[0m\u001b[1;33m\u001b[0m\u001b[0m\n\u001b[0m\u001b[0;32m      6\u001b[0m     \u001b[0my_test\u001b[0m \u001b[1;33m=\u001b[0m \u001b[0mtest_data\u001b[0m\u001b[1;33m[\u001b[0m\u001b[0mtarget_col\u001b[0m\u001b[1;33m]\u001b[0m\u001b[1;33m[\u001b[0m\u001b[0mwindow_len\u001b[0m\u001b[1;33m:\u001b[0m\u001b[1;33m]\u001b[0m\u001b[1;33m.\u001b[0m\u001b[0mvalues\u001b[0m\u001b[1;33m\u001b[0m\u001b[1;33m\u001b[0m\u001b[0m\n\u001b[0;32m      7\u001b[0m     \u001b[1;32mif\u001b[0m \u001b[0mzero_base\u001b[0m\u001b[1;33m:\u001b[0m\u001b[1;33m\u001b[0m\u001b[1;33m\u001b[0m\u001b[0m\n",
            "\u001b[1;32mC:\\Anaconda3\\envs\\dev\\lib\\site-packages\\pandas\\core\\frame.py\u001b[0m in \u001b[0;36m__getitem__\u001b[1;34m(self, key)\u001b[0m\n\u001b[0;32m   3028\u001b[0m             \u001b[1;32mif\u001b[0m \u001b[0mis_iterator\u001b[0m\u001b[1;33m(\u001b[0m\u001b[0mkey\u001b[0m\u001b[1;33m)\u001b[0m\u001b[1;33m:\u001b[0m\u001b[1;33m\u001b[0m\u001b[1;33m\u001b[0m\u001b[0m\n\u001b[0;32m   3029\u001b[0m                 \u001b[0mkey\u001b[0m \u001b[1;33m=\u001b[0m \u001b[0mlist\u001b[0m\u001b[1;33m(\u001b[0m\u001b[0mkey\u001b[0m\u001b[1;33m)\u001b[0m\u001b[1;33m\u001b[0m\u001b[1;33m\u001b[0m\u001b[0m\n\u001b[1;32m-> 3030\u001b[1;33m             \u001b[0mindexer\u001b[0m \u001b[1;33m=\u001b[0m \u001b[0mself\u001b[0m\u001b[1;33m.\u001b[0m\u001b[0mloc\u001b[0m\u001b[1;33m.\u001b[0m\u001b[0m_get_listlike_indexer\u001b[0m\u001b[1;33m(\u001b[0m\u001b[0mkey\u001b[0m\u001b[1;33m,\u001b[0m \u001b[0maxis\u001b[0m\u001b[1;33m=\u001b[0m\u001b[1;36m1\u001b[0m\u001b[1;33m,\u001b[0m \u001b[0mraise_missing\u001b[0m\u001b[1;33m=\u001b[0m\u001b[1;32mTrue\u001b[0m\u001b[1;33m)\u001b[0m\u001b[1;33m[\u001b[0m\u001b[1;36m1\u001b[0m\u001b[1;33m]\u001b[0m\u001b[1;33m\u001b[0m\u001b[1;33m\u001b[0m\u001b[0m\n\u001b[0m\u001b[0;32m   3031\u001b[0m \u001b[1;33m\u001b[0m\u001b[0m\n\u001b[0;32m   3032\u001b[0m         \u001b[1;31m# take() does not accept boolean indexers\u001b[0m\u001b[1;33m\u001b[0m\u001b[1;33m\u001b[0m\u001b[1;33m\u001b[0m\u001b[0m\n",
            "\u001b[1;32mC:\\Anaconda3\\envs\\dev\\lib\\site-packages\\pandas\\core\\indexing.py\u001b[0m in \u001b[0;36m_get_listlike_indexer\u001b[1;34m(self, key, axis, raise_missing)\u001b[0m\n\u001b[0;32m   1264\u001b[0m             \u001b[0mkeyarr\u001b[0m\u001b[1;33m,\u001b[0m \u001b[0mindexer\u001b[0m\u001b[1;33m,\u001b[0m \u001b[0mnew_indexer\u001b[0m \u001b[1;33m=\u001b[0m \u001b[0max\u001b[0m\u001b[1;33m.\u001b[0m\u001b[0m_reindex_non_unique\u001b[0m\u001b[1;33m(\u001b[0m\u001b[0mkeyarr\u001b[0m\u001b[1;33m)\u001b[0m\u001b[1;33m\u001b[0m\u001b[1;33m\u001b[0m\u001b[0m\n\u001b[0;32m   1265\u001b[0m \u001b[1;33m\u001b[0m\u001b[0m\n\u001b[1;32m-> 1266\u001b[1;33m         \u001b[0mself\u001b[0m\u001b[1;33m.\u001b[0m\u001b[0m_validate_read_indexer\u001b[0m\u001b[1;33m(\u001b[0m\u001b[0mkeyarr\u001b[0m\u001b[1;33m,\u001b[0m \u001b[0mindexer\u001b[0m\u001b[1;33m,\u001b[0m \u001b[0maxis\u001b[0m\u001b[1;33m,\u001b[0m \u001b[0mraise_missing\u001b[0m\u001b[1;33m=\u001b[0m\u001b[0mraise_missing\u001b[0m\u001b[1;33m)\u001b[0m\u001b[1;33m\u001b[0m\u001b[1;33m\u001b[0m\u001b[0m\n\u001b[0m\u001b[0;32m   1267\u001b[0m         \u001b[1;32mreturn\u001b[0m \u001b[0mkeyarr\u001b[0m\u001b[1;33m,\u001b[0m \u001b[0mindexer\u001b[0m\u001b[1;33m\u001b[0m\u001b[1;33m\u001b[0m\u001b[0m\n\u001b[0;32m   1268\u001b[0m \u001b[1;33m\u001b[0m\u001b[0m\n",
            "\u001b[1;32mC:\\Anaconda3\\envs\\dev\\lib\\site-packages\\pandas\\core\\indexing.py\u001b[0m in \u001b[0;36m_validate_read_indexer\u001b[1;34m(self, key, indexer, axis, raise_missing)\u001b[0m\n\u001b[0;32m   1306\u001b[0m             \u001b[1;32mif\u001b[0m \u001b[0mmissing\u001b[0m \u001b[1;33m==\u001b[0m \u001b[0mlen\u001b[0m\u001b[1;33m(\u001b[0m\u001b[0mindexer\u001b[0m\u001b[1;33m)\u001b[0m\u001b[1;33m:\u001b[0m\u001b[1;33m\u001b[0m\u001b[1;33m\u001b[0m\u001b[0m\n\u001b[0;32m   1307\u001b[0m                 \u001b[0maxis_name\u001b[0m \u001b[1;33m=\u001b[0m \u001b[0mself\u001b[0m\u001b[1;33m.\u001b[0m\u001b[0mobj\u001b[0m\u001b[1;33m.\u001b[0m\u001b[0m_get_axis_name\u001b[0m\u001b[1;33m(\u001b[0m\u001b[0maxis\u001b[0m\u001b[1;33m)\u001b[0m\u001b[1;33m\u001b[0m\u001b[1;33m\u001b[0m\u001b[0m\n\u001b[1;32m-> 1308\u001b[1;33m                 \u001b[1;32mraise\u001b[0m \u001b[0mKeyError\u001b[0m\u001b[1;33m(\u001b[0m\u001b[1;34mf\"None of [{key}] are in the [{axis_name}]\"\u001b[0m\u001b[1;33m)\u001b[0m\u001b[1;33m\u001b[0m\u001b[1;33m\u001b[0m\u001b[0m\n\u001b[0m\u001b[0;32m   1309\u001b[0m \u001b[1;33m\u001b[0m\u001b[0m\n\u001b[0;32m   1310\u001b[0m             \u001b[0max\u001b[0m \u001b[1;33m=\u001b[0m \u001b[0mself\u001b[0m\u001b[1;33m.\u001b[0m\u001b[0mobj\u001b[0m\u001b[1;33m.\u001b[0m\u001b[0m_get_axis\u001b[0m\u001b[1;33m(\u001b[0m\u001b[0maxis\u001b[0m\u001b[1;33m)\u001b[0m\u001b[1;33m\u001b[0m\u001b[1;33m\u001b[0m\u001b[0m\n",
            "\u001b[1;31mKeyError\u001b[0m: \"None of [Float64Index([       67827.0,        67582.0,        67529.0,        67993.0,\\n                     67401.0,        66836.0,        66708.0, 66813.08492452,\\n                     66550.0,        66826.0,\\n              ...\\n                     59618.0,        58948.0,        60525.0, 60796.03931092,\\n               60514.2316817,        60207.0, 59724.66630076, 59708.63083629,\\n                     60418.0,        60069.0],\\n             dtype='float64', length=200)] are in the [columns]\""
          ]
        }
      ],
      "source": [
        "train, test, X_train, X_test, y_train, y_test = prepare_data(\n",
        "    hist, target_col, window_len=window_len, zero_base=zero_base, test_size=test_size)"
      ]
    },
    {
      "cell_type": "code",
      "execution_count": null,
      "metadata": {
        "colab": {
          "base_uri": "https://localhost:8080/"
        },
        "id": "E5T9OAwQpskw",
        "outputId": "7621c21d-98df-48fc-e995-4e390f3e8351",
        "trusted": true
      },
      "outputs": [],
      "source": [
        "model = build_lstm_model(\n",
        "    X_train, output_size=1, neurons=lstm_neurons, dropout=dropout, loss=loss,\n",
        "    optimizer=optimizer)\n",
        "history = model.fit(\n",
        "    X_train, y_train, validation_data=(X_test, y_test), epochs=epochs, batch_size=batch_size, verbose=1, shuffle=True)"
      ]
    },
    {
      "cell_type": "code",
      "execution_count": null,
      "metadata": {
        "colab": {
          "base_uri": "https://localhost:8080/",
          "height": 295
        },
        "id": "qhMsatri0miT",
        "outputId": "7ab04030-c3bc-4858-d41a-e8fadac1236f"
      },
      "outputs": [],
      "source": [
        "import matplotlib.pyplot as plt\n",
        "plt.plot(history.history['loss'],'r',linewidth=2, label='Train loss')\n",
        "plt.plot(history.history['val_loss'], 'g',linewidth=2, label='Validation loss')\n",
        "plt.title('LSTM')\n",
        "plt.xlabel('Epochs')\n",
        "plt.ylabel('MSE')\n",
        "plt.show()"
      ]
    },
    {
      "cell_type": "code",
      "execution_count": null,
      "metadata": {
        "colab": {
          "base_uri": "https://localhost:8080/"
        },
        "id": "mS6SPIGNpskz",
        "outputId": "0e3e1a6c-c53f-43ba-ff9b-7f9c2d5aa5fe",
        "trusted": true
      },
      "outputs": [],
      "source": [
        "targets = test[target_col][window_len:]\n",
        "preds = model.predict(X_test).squeeze()\n",
        "mean_absolute_error(preds, y_test)"
      ]
    },
    {
      "cell_type": "code",
      "execution_count": null,
      "metadata": {
        "colab": {
          "base_uri": "https://localhost:8080/"
        },
        "id": "sbhTW5T6zVAU",
        "outputId": "4b6e6180-90cf-4227-add8-9c61a0efd7fb"
      },
      "outputs": [],
      "source": [
        "from sklearn.metrics import mean_squared_error\n",
        "MAE=mean_squared_error(preds, y_test)\n",
        "MAE\n"
      ]
    },
    {
      "cell_type": "code",
      "execution_count": null,
      "metadata": {
        "colab": {
          "base_uri": "https://localhost:8080/"
        },
        "id": "jnFOCI9ezb8T",
        "outputId": "1c50a541-f9c1-422f-aaaf-7314dae06f78"
      },
      "outputs": [],
      "source": [
        "from sklearn.metrics import r2_score\n",
        "R2=r2_score(y_test, preds)\n",
        "R2"
      ]
    },
    {
      "cell_type": "code",
      "execution_count": null,
      "metadata": {
        "colab": {
          "base_uri": "https://localhost:8080/",
          "height": 428
        },
        "id": "4jU0wERepsk2",
        "outputId": "b09dca6a-d71e-4280-e271-68bd15ea2d2c",
        "trusted": true
      },
      "outputs": [],
      "source": [
        "preds = test[target_col].values[:-window_len] * (preds + 1)\n",
        "preds = pd.Series(index=targets.index, data=preds)\n",
        "line_plot(targets, preds, 'actual', 'prediction', lw=3)"
      ]
    }
  ],
  "metadata": {
    "colab": {
      "collapsed_sections": [],
      "name": "price_prediction.ipynb",
      "provenance": []
    },
    "interpreter": {
      "hash": "b7d1f2948ceac33c47cc3118599163110709bfe8fc361e52a29a1b62bc95a3f6"
    },
    "kernelspec": {
      "display_name": "Python 3.7.10 64-bit ('dev': conda)",
      "name": "python3"
    },
    "language_info": {
      "codemirror_mode": {
        "name": "ipython",
        "version": 3
      },
      "file_extension": ".py",
      "mimetype": "text/x-python",
      "name": "python",
      "nbconvert_exporter": "python",
      "pygments_lexer": "ipython3",
      "version": "3.7.10"
    }
  },
  "nbformat": 4,
  "nbformat_minor": 0
}
