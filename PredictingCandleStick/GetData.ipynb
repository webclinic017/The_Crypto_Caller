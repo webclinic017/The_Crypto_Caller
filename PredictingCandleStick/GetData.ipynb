{
 "cells": [
  {
   "cell_type": "code",
   "execution_count": null,
   "metadata": {},
   "outputs": [],
   "source": [
    "import re\n",
    "import sys\n",
    "import csv\n",
    "import time\n",
    "import random\n",
    "import requests\n",
    "from datetime import date\n",
    "from bs4 import BeautifulSoup\n",
    "\n",
    "end_date = str(date.today()).replace(\"-\",\"\")\n",
    "base_url = \"https://coinmarketcap.com/currencies/{0}/historical-data/?start=20130428&end=\"+end_date\n",
    "\n",
    "currency_name_list = [\"bitcoin\", \"ethereum\", \"ripple\", \"bitcoin-cash\", \"nem\", \"litecoin\", \"dash\", \"ethereum-classic\", \"iota\", \"neo\", \"stratis\", \"monero\", \"waves\", \"bitconnect\", \"omisego\", \"qtum\", \"numeraire\"]\n",
    "\n",
    "\n",
    "def get_data(currency_name):\n",
    "    print(\"Currency : \", currency_name)\n",
    "    url = base_url.format(currency_name)\n",
    "    html_response = requests.get(url).text.encode('utf-8')\n",
    "    soup = BeautifulSoup(html_response, 'html.parser')\n",
    "    table = soup.find_all('table')[0]\n",
    "    elements = table.find_all(\"tr\")\n",
    "    with open(\"./{0}_price.csv\".format(currency_name.replace(\"-\",\"_\")),\"w\") as ofile:\n",
    "        writer = csv.writer(ofile)\n",
    "        for element in elements:\n",
    "            writer.writerow( element.get_text().strip().split(\"\\n\") )\n",
    "    time.sleep(1)\n",
    "\n",
    "if __name__ == \"__main__\":\n",
    "    for currency_name in currency_name_list:\n",
    "        get_data(currency_name)\n",
    "        pass"
   ]
  }
 ],
 "metadata": {
  "interpreter": {
   "hash": "b7d1f2948ceac33c47cc3118599163110709bfe8fc361e52a29a1b62bc95a3f6"
  },
  "kernelspec": {
   "display_name": "Python 3.7.10 64-bit ('dev': conda)",
   "name": "python3"
  },
  "language_info": {
   "name": "python",
   "version": "3.7.10"
  },
  "orig_nbformat": 4
 },
 "nbformat": 4,
 "nbformat_minor": 2
}
