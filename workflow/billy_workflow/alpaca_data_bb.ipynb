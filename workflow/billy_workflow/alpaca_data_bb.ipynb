{
 "cells": [
  {
   "cell_type": "code",
   "execution_count": null,
   "metadata": {},
   "outputs": [],
   "source": [
    "import config, requests, json\n",
    "from pathlib import Path\n",
    "import pandas as pd\n",
    "from datetime import datetime, date\n",
    "import alpaca_trade_api as tradeapi\n",
    "import os\n",
    "import requests\n",
    "from dotenv import load_dotenv"
   ]
  },
  {
   "cell_type": "code",
   "execution_count": null,
   "metadata": {},
   "outputs": [],
   "source": [
    "# create a webscraper to dump a list of cryptos from coinbase into a csv file\n",
    "holdings = pd.read_csv(Path(\"datasets/crypto_df.csv\"))\n",
    "holdings = holdings['symbol']\n",
    "symbols = []\n",
    "for symbol in holdings:\n",
    "    symbols.append(symbol)\n",
    "print(symbols)"
   ]
  },
  {
   "cell_type": "code",
   "execution_count": null,
   "metadata": {},
   "outputs": [],
   "source": [
    "today = date.today()\n",
    "\n",
    "def sub_years(years):\n",
    "    today = date.today()\n",
    "    try:\n",
    "        return today.replace(month = today.month - years)\n",
    "    except ValueError:\n",
    "        return today + (date(today.month + years, 1, 1) - date(today.month, 1, 1))\n",
    "\n",
    "start = sub_years(1).strftime('%Y-%m-%dT%H:%M:%SZ')\n",
    "\n",
    "end = datetime.utcnow()\n",
    "end = end.isoformat(\"T\") + \"Z\"\n",
    "\n",
    "print(start)\n",
    "print(end)"
   ]
  },
  {
   "cell_type": "code",
   "execution_count": null,
   "metadata": {},
   "outputs": [],
   "source": [
    "# load_dotenv()\n",
    "# alpaca_api_key = os.getenv(\"ALPACA_API_KEY\")\n",
    "# alpaca_secret_key = os.getenv(\"ALPACA_SECRET_KEY\")\n",
    "# alpaca_api_base_url = os.getenv(\"ALPACA_API_BASE_URL\")\n",
    "alpaca = tradeapi.REST(\n",
    "    config.API_KEY,\n",
    "    config.SECRET_KEY,\n",
    "    api_version=\"v2\"\n",
    ")\n",
    "# print(f\"Alpaca Key type: {type(alpaca_api_key)}\")\n",
    "# print(f\"Alpaca Secret Key type: {type(alpaca_secret_key)}\")"
   ]
  },
  {
   "cell_type": "code",
   "execution_count": null,
   "metadata": {},
   "outputs": [],
   "source": [
    "BTC = 'BTCUSD'\n",
    "ETH = 'ETHUSD'\n",
    "day_bars_url = '{}/{}/bars?exchanges=ERSX&start={}&end={}&limit=1000&timeframe=1Day'.format(config.BARS_URL, BTC, start, end)\n",
    "r = requests.get(day_bars_url, headers=config.HEADERS)\n",
    "print(json.dumps(r.json(), indent=4))"
   ]
  },
  {
   "cell_type": "code",
   "execution_count": null,
   "metadata": {},
   "outputs": [],
   "source": [
    "r.json()['bars'][0]"
   ]
  },
  {
   "cell_type": "code",
   "execution_count": null,
   "metadata": {},
   "outputs": [],
   "source": [
    "list = []\n",
    "for info in r.json()['bars']:\n",
    "    list.append(pd.Series(info))\n",
    "test_df = pd.DataFrame(data=list)\n",
    "test_df"
   ]
  },
  {
   "cell_type": "code",
   "execution_count": null,
   "metadata": {},
   "outputs": [],
   "source": [
    "test_df.rename(columns={'t':'date', 'x':'exchange', 'o':'open', 'h':'high', 'l':'low', 'c':'close', 'v':'volume', 'n':'number_of_trades', 'vw':'volume_weighted_average_price'})\n"
   ]
  },
  {
   "cell_type": "code",
   "execution_count": null,
   "metadata": {},
   "outputs": [],
   "source": [
    "stocks = ['BTCUSD', 'ETHUSD']\n",
    "\n",
    "for stock in stocks:\n",
    "\n",
    "    day_bars_url = '{}/{}/bars?exchanges=ERSX&start={}&end={}&limit=1000&timeframe=1Day'.format(config.BARS_URL, stock, start, end)\n",
    "\n",
    "    r = requests.get(day_bars_url, headers=config.HEADERS)\n",
    "\n",
    "    list = []\n",
    "    for info in r.json()['bars']:\n",
    "        list.append(pd.Series(info))\n",
    "\n",
    "    test_df = pd.DataFrame(data=list)\n",
    "    test_df = test_df.rename(columns={'t':'date', 'x':'exchange', 'o':'open', 'h':'high', 'l':'low', 'c':'close', 'v':'volume', 'n':'number_of_trades', 'vw':'volume_weighted_average_price'})\n",
    "    test_df.to_csv('datasets/ohlc_{}.csv'.format(stock))"
   ]
  },
  {
   "cell_type": "code",
   "execution_count": null,
   "metadata": {},
   "outputs": [],
   "source": []
  }
 ],
 "metadata": {
  "interpreter": {
   "hash": "0bc772866a3affdc5803be489598f529b0192fa171585f2d09392617c9a5b224"
  },
  "kernelspec": {
   "display_name": "Python 3.7.10 64-bit ('dev': conda)",
   "language": "python",
   "name": "python3"
  },
  "language_info": {
   "codemirror_mode": {
    "name": "ipython",
    "version": 3
   },
   "file_extension": ".py",
   "mimetype": "text/x-python",
   "name": "python",
   "nbconvert_exporter": "python",
   "pygments_lexer": "ipython3",
   "version": "3.7.10"
  },
  "orig_nbformat": 4
 },
 "nbformat": 4,
 "nbformat_minor": 2
}
