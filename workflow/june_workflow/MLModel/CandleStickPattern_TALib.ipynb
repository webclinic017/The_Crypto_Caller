{
 "cells": [
  {
   "cell_type": "code",
   "execution_count": 1,
   "metadata": {},
   "outputs": [
    {
     "ename": "ModuleNotFoundError",
     "evalue": "No module named 'talib'",
     "output_type": "error",
     "traceback": [
      "\u001b[1;31m---------------------------------------------------------------------------\u001b[0m",
      "\u001b[1;31mModuleNotFoundError\u001b[0m                       Traceback (most recent call last)",
      "\u001b[1;32m<ipython-input-1-76e97ee46ae2>\u001b[0m in \u001b[0;36m<module>\u001b[1;34m\u001b[0m\n\u001b[0;32m      2\u001b[0m \u001b[1;32mimport\u001b[0m \u001b[0mrequests\u001b[0m\u001b[1;33m\u001b[0m\u001b[1;33m\u001b[0m\u001b[0m\n\u001b[0;32m      3\u001b[0m \u001b[1;32mimport\u001b[0m \u001b[0mpandas\u001b[0m \u001b[1;32mas\u001b[0m \u001b[0mpd\u001b[0m\u001b[1;33m\u001b[0m\u001b[1;33m\u001b[0m\u001b[0m\n\u001b[1;32m----> 4\u001b[1;33m \u001b[1;32mimport\u001b[0m \u001b[0mtalib\u001b[0m\u001b[1;33m\u001b[0m\u001b[1;33m\u001b[0m\u001b[0m\n\u001b[0m\u001b[0;32m      5\u001b[0m \u001b[1;32mimport\u001b[0m \u001b[0mrequests\u001b[0m\u001b[1;33m\u001b[0m\u001b[1;33m\u001b[0m\u001b[0m\n\u001b[0;32m      6\u001b[0m \u001b[1;33m\u001b[0m\u001b[0m\n",
      "\u001b[1;31mModuleNotFoundError\u001b[0m: No module named 'talib'"
     ]
    }
   ],
   "source": [
    "# Import the required libraries and dependencies\n",
    "import requests\n",
    "import pandas as pd\n",
    "import talib\n",
    "import requests\n",
    "\n",
    "from pathlib import Path\n",
    "from matplotlib import pyplot as plt\n",
    "from mplfinance.original_flavor import candlestick_ohlc"
   ]
  },
  {
   "cell_type": "markdown",
   "metadata": {},
   "source": [
    "#### Download BTC data and create BTC dataframe."
   ]
  },
  {
   "cell_type": "code",
   "execution_count": 2,
   "metadata": {},
   "outputs": [
    {
     "ename": "NameError",
     "evalue": "name 'Path' is not defined",
     "output_type": "error",
     "traceback": [
      "\u001b[1;31m---------------------------------------------------------------------------\u001b[0m",
      "\u001b[1;31mNameError\u001b[0m                                 Traceback (most recent call last)",
      "\u001b[1;32m<ipython-input-2-d2536db79e12>\u001b[0m in \u001b[0;36m<module>\u001b[1;34m\u001b[0m\n\u001b[0;32m      1\u001b[0m \u001b[1;31m# Load the data into a Pandas DataFrame\u001b[0m\u001b[1;33m\u001b[0m\u001b[1;33m\u001b[0m\u001b[1;33m\u001b[0m\u001b[0m\n\u001b[0;32m      2\u001b[0m df = pd.read_csv(\n\u001b[1;32m----> 3\u001b[1;33m     \u001b[0mPath\u001b[0m\u001b[1;33m(\u001b[0m\u001b[1;34m'../Resources/BTCUSD_1h.csv'\u001b[0m\u001b[1;33m)\u001b[0m\u001b[1;33m,\u001b[0m\u001b[1;33m\u001b[0m\u001b[1;33m\u001b[0m\u001b[0m\n\u001b[0m\u001b[0;32m      4\u001b[0m     index_col=\"Date\")\n\u001b[0;32m      5\u001b[0m \u001b[0mdf\u001b[0m\u001b[1;33m.\u001b[0m\u001b[0mtail\u001b[0m\u001b[1;33m(\u001b[0m\u001b[1;33m)\u001b[0m\u001b[1;33m\u001b[0m\u001b[1;33m\u001b[0m\u001b[0m\n",
      "\u001b[1;31mNameError\u001b[0m: name 'Path' is not defined"
     ]
    }
   ],
   "source": [
    "# Load the data into a Pandas DataFrame\n",
    "df = pd.read_csv(\n",
    "    Path('../Resources/BTCUSD_1h.csv'),\n",
    "    index_col=\"Date\")\n",
    "df.tail()"
   ]
  },
  {
   "cell_type": "markdown",
   "metadata": {},
   "source": [
    "# Identify Candlesticks Pattern\n",
    "Source Code: https://github.com/CanerIrfanoglu/medium/blob/master/candle_stick_recognition/identify_candlestick.py"
   ]
  },
  {
   "cell_type": "code",
   "execution_count": 3,
   "metadata": {},
   "outputs": [],
   "source": [
    "def recognize_candlestick(df):\n",
    "    \"\"\"\n",
    "    Recognizes candlestick patterns and appends 2 additional columns to df;\n",
    "    1st - Best Performance candlestick pattern matched by www.thepatternsite.com\n",
    "    2nd - # of matched patterns\n",
    "    \"\"\"\n",
    "\n",
    "    op = df['open'].astype(float)\n",
    "    hi = df['high'].astype(float)\n",
    "    lo = df['low'].astype(float)\n",
    "    cl = df['close'].astype(float)\n",
    "\n",
    "    candle_names = talib.get_function_groups()['Pattern Recognition']\n",
    "\n",
    "    # patterns not found in the patternsite.com\n",
    "    exclude_items = ('CDLCOUNTERATTACK',\n",
    "                     'CDLLONGLINE',\n",
    "                     'CDLSHORTLINE',\n",
    "                     'CDLSTALLEDPATTERN',\n",
    "                     'CDLKICKINGBYLENGTH')\n",
    "\n",
    "    candle_names = [candle for candle in candle_names if candle not in exclude_items]\n",
    "\n",
    "\n",
    "    # create columns for each candle\n",
    "    for candle in candle_names:\n",
    "        # below is same as;\n",
    "        # df[\"CDL3LINESTRIKE\"] = talib.CDL3LINESTRIKE(op, hi, lo, cl)\n",
    "        df[candle] = getattr(talib, candle)(op, hi, lo, cl)\n",
    "\n",
    "\n",
    "    df['candlestick_pattern'] = np.nan\n",
    "    df['candlestick_match_count'] = np.nan\n",
    "    for index, row in df.iterrows():\n",
    "\n",
    "        # no pattern found\n",
    "        if len(row[candle_names]) - sum(row[candle_names] == 0) == 0:\n",
    "            df.loc[index,'candlestick_pattern'] = \"NO_PATTERN\"\n",
    "            df.loc[index, 'candlestick_match_count'] = 0\n",
    "        # single pattern found\n",
    "        elif len(row[candle_names]) - sum(row[candle_names] == 0) == 1:\n",
    "            # bull pattern 100 or 200\n",
    "            if any(row[candle_names].values > 0):\n",
    "                pattern = list(compress(row[candle_names].keys(), row[candle_names].values != 0))[0] + '_Bull'\n",
    "                df.loc[index, 'candlestick_pattern'] = pattern\n",
    "                df.loc[index, 'candlestick_match_count'] = 1\n",
    "            # bear pattern -100 or -200\n",
    "            else:\n",
    "                pattern = list(compress(row[candle_names].keys(), row[candle_names].values != 0))[0] + '_Bear'\n",
    "                df.loc[index, 'candlestick_pattern'] = pattern\n",
    "                df.loc[index, 'candlestick_match_count'] = 1\n",
    "        # multiple patterns matched -- select best performance\n",
    "        else:\n",
    "            # filter out pattern names from bool list of values\n",
    "            patterns = list(compress(row[candle_names].keys(), row[candle_names].values != 0))\n",
    "            container = []\n",
    "            for pattern in patterns:\n",
    "                if row[pattern] > 0:\n",
    "                    container.append(pattern + '_Bull')\n",
    "                else:\n",
    "                    container.append(pattern + '_Bear')\n",
    "            rank_list = [candle_rankings[p] for p in container]\n",
    "            if len(rank_list) == len(container):\n",
    "                rank_index_best = rank_list.index(min(rank_list))\n",
    "                df.loc[index, 'candlestick_pattern'] = container[rank_index_best]\n",
    "                df.loc[index, 'candlestick_match_count'] = len(container)\n",
    "    # clean up candle columns\n",
    "    cols_to_drop = candle_names + list(exclude_items)\n",
    "    df.drop(cols_to_drop, axis = 1, inplace = True)\n",
    "\n",
    "    return df"
   ]
  },
  {
   "cell_type": "code",
   "execution_count": null,
   "metadata": {},
   "outputs": [],
   "source": [
    "df"
   ]
  }
 ],
 "metadata": {
  "interpreter": {
   "hash": "b7d1f2948ceac33c47cc3118599163110709bfe8fc361e52a29a1b62bc95a3f6"
  },
  "kernelspec": {
   "display_name": "Python 3.7.10 64-bit ('dev': conda)",
   "name": "python3"
  },
  "language_info": {
   "codemirror_mode": {
    "name": "ipython",
    "version": 3
   },
   "file_extension": ".py",
   "mimetype": "text/x-python",
   "name": "python",
   "nbconvert_exporter": "python",
   "pygments_lexer": "ipython3",
   "version": "3.7.10"
  }
 },
 "nbformat": 4,
 "nbformat_minor": 4
}
