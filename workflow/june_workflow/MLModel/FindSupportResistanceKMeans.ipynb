{
 "cells": [
  {
   "cell_type": "code",
   "execution_count": 1,
   "metadata": {},
   "outputs": [
    {
     "name": "stderr",
     "output_type": "stream",
     "text": [
      "C:\\Anaconda3\\envs\\dev\\lib\\site-packages\\mpl_finance.py:22: DeprecationWarning: \n",
      "\n",
      "  =================================================================\n",
      "\n",
      "   WARNING: `mpl_finance` is deprecated:\n",
      "\n",
      "    Please use `mplfinance` instead (no hyphen, no underscore).\n",
      "\n",
      "    To install: `pip install --upgrade mplfinance` \n",
      "\n",
      "   For more information, see: https://pypi.org/project/mplfinance/\n",
      "\n",
      "  =================================================================\n",
      "\n",
      "  category=DeprecationWarning)\n"
     ]
    }
   ],
   "source": [
    "import datetime\n",
    "import pytz\n",
    "from sklearn.cluster import KMeans\n",
    "from matplotlib import pyplot as plt\n",
    "import matplotlib.ticker as mpticker\n",
    "import pandas as pd\n",
    "import numpy as np\n",
    "\n",
    "from pathlib import Path\n",
    "from mpl_finance import candlestick_ohlc"
   ]
  },
  {
   "cell_type": "markdown",
   "metadata": {},
   "source": [
    "#### Download Cryptocurrency trading data"
   ]
  },
  {
   "cell_type": "code",
   "execution_count": 19,
   "metadata": {},
   "outputs": [
    {
     "data": {
      "text/html": [
       "<div>\n",
       "<style scoped>\n",
       "    .dataframe tbody tr th:only-of-type {\n",
       "        vertical-align: middle;\n",
       "    }\n",
       "\n",
       "    .dataframe tbody tr th {\n",
       "        vertical-align: top;\n",
       "    }\n",
       "\n",
       "    .dataframe thead th {\n",
       "        text-align: right;\n",
       "    }\n",
       "</style>\n",
       "<table border=\"1\" class=\"dataframe\">\n",
       "  <thead>\n",
       "    <tr style=\"text-align: right;\">\n",
       "      <th></th>\n",
       "      <th>Open</th>\n",
       "      <th>Close</th>\n",
       "      <th>High</th>\n",
       "      <th>Low</th>\n",
       "      <th>Volume</th>\n",
       "    </tr>\n",
       "    <tr>\n",
       "      <th>Date</th>\n",
       "      <th></th>\n",
       "      <th></th>\n",
       "      <th></th>\n",
       "      <th></th>\n",
       "      <th></th>\n",
       "    </tr>\n",
       "  </thead>\n",
       "  <tbody>\n",
       "    <tr>\n",
       "      <th>2021-11-09 18:00:00</th>\n",
       "      <td>66801.000000</td>\n",
       "      <td>66550.000000</td>\n",
       "      <td>67242.0</td>\n",
       "      <td>66550.0</td>\n",
       "      <td>137.539762</td>\n",
       "    </tr>\n",
       "    <tr>\n",
       "      <th>2021-11-09 19:00:00</th>\n",
       "      <td>66551.000000</td>\n",
       "      <td>66826.000000</td>\n",
       "      <td>66829.0</td>\n",
       "      <td>66375.0</td>\n",
       "      <td>78.715044</td>\n",
       "    </tr>\n",
       "    <tr>\n",
       "      <th>2021-11-09 20:00:00</th>\n",
       "      <td>66825.000000</td>\n",
       "      <td>67352.000000</td>\n",
       "      <td>67352.0</td>\n",
       "      <td>66671.0</td>\n",
       "      <td>163.103837</td>\n",
       "    </tr>\n",
       "    <tr>\n",
       "      <th>2021-11-09 21:00:00</th>\n",
       "      <td>67352.000000</td>\n",
       "      <td>67715.000000</td>\n",
       "      <td>67760.0</td>\n",
       "      <td>67264.0</td>\n",
       "      <td>242.156344</td>\n",
       "    </tr>\n",
       "    <tr>\n",
       "      <th>2021-11-09 22:00:00</th>\n",
       "      <td>67732.000000</td>\n",
       "      <td>67291.000000</td>\n",
       "      <td>67732.0</td>\n",
       "      <td>66992.0</td>\n",
       "      <td>240.080447</td>\n",
       "    </tr>\n",
       "    <tr>\n",
       "      <th>...</th>\n",
       "      <td>...</td>\n",
       "      <td>...</td>\n",
       "      <td>...</td>\n",
       "      <td>...</td>\n",
       "      <td>...</td>\n",
       "    </tr>\n",
       "    <tr>\n",
       "      <th>2021-11-17 21:00:00</th>\n",
       "      <td>60437.000000</td>\n",
       "      <td>60118.000000</td>\n",
       "      <td>60437.0</td>\n",
       "      <td>59792.0</td>\n",
       "      <td>120.589089</td>\n",
       "    </tr>\n",
       "    <tr>\n",
       "      <th>2021-11-17 22:00:00</th>\n",
       "      <td>60118.298382</td>\n",
       "      <td>59991.000000</td>\n",
       "      <td>60153.0</td>\n",
       "      <td>59690.0</td>\n",
       "      <td>124.865523</td>\n",
       "    </tr>\n",
       "    <tr>\n",
       "      <th>2021-11-17 23:00:00</th>\n",
       "      <td>59992.626684</td>\n",
       "      <td>60352.815959</td>\n",
       "      <td>60514.0</td>\n",
       "      <td>59811.0</td>\n",
       "      <td>87.033227</td>\n",
       "    </tr>\n",
       "    <tr>\n",
       "      <th>2021-11-18 00:00:00</th>\n",
       "      <td>60354.567779</td>\n",
       "      <td>60533.664288</td>\n",
       "      <td>60734.0</td>\n",
       "      <td>60135.0</td>\n",
       "      <td>127.657644</td>\n",
       "    </tr>\n",
       "    <tr>\n",
       "      <th>2021-11-18 01:00:00</th>\n",
       "      <td>60533.664288</td>\n",
       "      <td>60662.000000</td>\n",
       "      <td>60945.0</td>\n",
       "      <td>60111.0</td>\n",
       "      <td>155.868609</td>\n",
       "    </tr>\n",
       "  </tbody>\n",
       "</table>\n",
       "<p>200 rows × 5 columns</p>\n",
       "</div>"
      ],
      "text/plain": [
       "                             Open         Close     High      Low      Volume\n",
       "Date                                                                         \n",
       "2021-11-09 18:00:00  66801.000000  66550.000000  67242.0  66550.0  137.539762\n",
       "2021-11-09 19:00:00  66551.000000  66826.000000  66829.0  66375.0   78.715044\n",
       "2021-11-09 20:00:00  66825.000000  67352.000000  67352.0  66671.0  163.103837\n",
       "2021-11-09 21:00:00  67352.000000  67715.000000  67760.0  67264.0  242.156344\n",
       "2021-11-09 22:00:00  67732.000000  67291.000000  67732.0  66992.0  240.080447\n",
       "...                           ...           ...      ...      ...         ...\n",
       "2021-11-17 21:00:00  60437.000000  60118.000000  60437.0  59792.0  120.589089\n",
       "2021-11-17 22:00:00  60118.298382  59991.000000  60153.0  59690.0  124.865523\n",
       "2021-11-17 23:00:00  59992.626684  60352.815959  60514.0  59811.0   87.033227\n",
       "2021-11-18 00:00:00  60354.567779  60533.664288  60734.0  60135.0  127.657644\n",
       "2021-11-18 01:00:00  60533.664288  60662.000000  60945.0  60111.0  155.868609\n",
       "\n",
       "[200 rows x 5 columns]"
      ]
     },
     "execution_count": 19,
     "metadata": {},
     "output_type": "execute_result"
    }
   ],
   "source": [
    "# Load the data into a Pandas DataFrame\n",
    "df = pd.read_csv(\n",
    "    Path('../Resources/BTCUSD_1h.csv'),\n",
    "    index_col=\"Date\")\n",
    "\n",
    "df = df.iloc[-200:]\n",
    "df"
   ]
  },
  {
   "cell_type": "markdown",
   "metadata": {},
   "source": [
    "#### Find the optimal K using the Knee plot"
   ]
  },
  {
   "cell_type": "code",
   "execution_count": 21,
   "metadata": {},
   "outputs": [
    {
     "name": "stderr",
     "output_type": "stream",
     "text": [
      "C:\\Anaconda3\\envs\\dev\\lib\\site-packages\\sklearn\\cluster\\_kmeans.py:882: UserWarning: KMeans is known to have a memory leak on Windows with MKL, when there are less chunks than available threads. You can avoid it by setting the environment variable OMP_NUM_THREADS=1.\n",
      "  f\"KMeans is known to have a memory leak on Windows \"\n"
     ]
    },
    {
     "data": {
      "image/png": "[encoded data removed]",
      "text/plain": [
       "<Figure size 432x432 with 1 Axes>"
      ]
     },
     "metadata": {
      "needs_background": "light"
     },
     "output_type": "display_data"
    }
   ],
   "source": [
    "from kneed import KneeLocator\n",
    "\n",
    "# Turn data in to Numpy array format\n",
    "X = np.array(df['Close'])\n",
    "\n",
    "sum_of_sq_distances = []\n",
    "K = range(1,10)\n",
    "for k in K:\n",
    "    km = KMeans(n_clusters=k)\n",
    "    km = km.fit(X.reshape(-1,1))\n",
    "    sum_of_sq_distances.append(km.inertia_)\n",
    "kn = KneeLocator(K, sum_of_sq_distances,S=1.0, curve=\"convex\", direction=\"decreasing\")\n",
    "kn.plot_knee()"
   ]
  },
  {
   "cell_type": "code",
   "execution_count": 22,
   "metadata": {},
   "outputs": [
    {
     "data": {
      "text/plain": [
       "3"
      ]
     },
     "execution_count": 22,
     "metadata": {},
     "output_type": "execute_result"
    }
   ],
   "source": [
    "# Check the value of K using kn.knee\n",
    "kn.knee"
   ]
  },
  {
   "cell_type": "code",
   "execution_count": 23,
   "metadata": {},
   "outputs": [
    {
     "data": {
      "text/plain": [
       "[[65476.0, 62507.0], [62083.0, 58948.0], [68601.0, 65557.0]]"
      ]
     },
     "execution_count": 23,
     "metadata": {},
     "output_type": "execute_result"
    }
   ],
   "source": [
    "# Fit the model\n",
    "kmeans = KMeans(n_clusters= kn.knee).fit(X.reshape(-1,1))\n",
    "c = kmeans.predict(X.reshape(-1,1))\n",
    "min_and_max = []\n",
    "for i in range(kn.knee):\n",
    "    min_and_max.append([-np.inf,np.inf])\n",
    "for i in range(len(X)):\n",
    "    cluster = c[i]\n",
    "    if X[i] > min_and_max[cluster][0]:\n",
    "        min_and_max[cluster][0] = X[i]\n",
    "    if X[i] < min_and_max[cluster][1]:\n",
    "        min_and_max[cluster][1] = X[i]\n",
    "\n",
    "# Check the min and max values of clusters\n",
    "min_and_max"
   ]
  }
 ],
 "metadata": {
  "interpreter": {
   "hash": "b7d1f2948ceac33c47cc3118599163110709bfe8fc361e52a29a1b62bc95a3f6"
  },
  "kernelspec": {
   "display_name": "Python 3.7.10 64-bit ('dev': conda)",
   "name": "python3"
  },
  "language_info": {
   "codemirror_mode": {
    "name": "ipython",
    "version": 3
   },
   "file_extension": ".py",
   "mimetype": "text/x-python",
   "name": "python",
   "nbconvert_exporter": "python",
   "pygments_lexer": "ipython3",
   "version": "3.7.10"
  },
  "orig_nbformat": 4
 },
 "nbformat": 4,
 "nbformat_minor": 2
}
