{
 "cells": [
  {
   "cell_type": "code",
   "execution_count": 2,
   "metadata": {},
   "outputs": [],
   "source": [
    "# Import the library\n",
    "import bitfinex\n",
    "import datetime\n",
    "import time\n",
    "import pandas as pd\n",
    "from pathlib import Path"
   ]
  },
  {
   "cell_type": "markdown",
   "metadata": {},
   "source": [
    "#### Step 1 - Define Query parameters: Ticker, Start / End Date"
   ]
  },
  {
   "cell_type": "code",
   "execution_count": 3,
   "metadata": {},
   "outputs": [],
   "source": [
    "# Define query parameters\n",
    "\n",
    "# Create list of currency pair of interest\n",
    "pair = ['BTCUSD', 'ETHUSD'] \n",
    "\n",
    "# Define timeframe of data to pull\n",
    "TIMEFRAME = '1h'#,'4h','1h','15m','1m'\n",
    "TIMEFRAME_S = 3600 # seconds in TIMEFRAME\n",
    "\n",
    "# Define the start date\n",
    "t_start = datetime.datetime(2017, 1, 1, 0, 0)\n",
    "t_start = time.mktime(t_start.timetuple()) * 1000\n",
    "\n",
    "# Define the end date\n",
    "t_stop = datetime.datetime.now()\n",
    "t_stop = time.mktime(t_stop.timetuple()) * 1000"
   ]
  },
  {
   "cell_type": "markdown",
   "metadata": {},
   "source": [
    "#### Step 2 - Create api instance from Bitfinex library, and fetch data for longer time intervals, current limit for Bitfinex API is 60 calls per minute"
   ]
  },
  {
   "cell_type": "code",
   "execution_count": 4,
   "metadata": {},
   "outputs": [
    {
     "name": "stdout",
     "output_type": "stream",
     "text": [
      "No keys, only access to public API functions\n"
     ]
    },
    {
     "ename": "AttributeError",
     "evalue": "'list' object has no attribute 'upper'",
     "output_type": "error",
     "traceback": [
      "\u001b[1;31m---------------------------------------------------------------------------\u001b[0m",
      "\u001b[1;31mAttributeError\u001b[0m                            Traceback (most recent call last)",
      "\u001b[1;32m<ipython-input-4-fb6b2eaf03f8>\u001b[0m in \u001b[0;36m<module>\u001b[1;34m\u001b[0m\n\u001b[0;32m     22\u001b[0m     \u001b[1;32mreturn\u001b[0m \u001b[0mdata\u001b[0m\u001b[1;33m\u001b[0m\u001b[1;33m\u001b[0m\u001b[0m\n\u001b[0;32m     23\u001b[0m \u001b[1;33m\u001b[0m\u001b[0m\n\u001b[1;32m---> 24\u001b[1;33m \u001b[0mresult\u001b[0m \u001b[1;33m=\u001b[0m \u001b[0mfetch_data\u001b[0m\u001b[1;33m(\u001b[0m\u001b[0mt_start\u001b[0m\u001b[1;33m,\u001b[0m \u001b[0mt_stop\u001b[0m\u001b[1;33m,\u001b[0m \u001b[0mpair\u001b[0m\u001b[1;33m,\u001b[0m \u001b[0mTIMEFRAME\u001b[0m\u001b[1;33m,\u001b[0m \u001b[0mTIMEFRAME_S\u001b[0m\u001b[1;33m)\u001b[0m\u001b[1;33m\u001b[0m\u001b[1;33m\u001b[0m\u001b[0m\n\u001b[0m",
      "\u001b[1;32m<ipython-input-4-fb6b2eaf03f8>\u001b[0m in \u001b[0;36mfetch_data\u001b[1;34m(start, stop, symbol, interval, TIMEFRAME_S)\u001b[0m\n\u001b[0;32m     15\u001b[0m \u001b[1;33m\u001b[0m\u001b[0m\n\u001b[0;32m     16\u001b[0m         \u001b[0mend\u001b[0m \u001b[1;33m=\u001b[0m \u001b[0mstart\u001b[0m \u001b[1;33m+\u001b[0m \u001b[0mstep\u001b[0m\u001b[1;33m\u001b[0m\u001b[1;33m\u001b[0m\u001b[0m\n\u001b[1;32m---> 17\u001b[1;33m         \u001b[0mdata\u001b[0m \u001b[1;33m+=\u001b[0m \u001b[0mapi_v2\u001b[0m\u001b[1;33m.\u001b[0m\u001b[0mcandles\u001b[0m\u001b[1;33m(\u001b[0m\u001b[0msymbol\u001b[0m\u001b[1;33m=\u001b[0m\u001b[0msymbol\u001b[0m\u001b[1;33m,\u001b[0m \u001b[0minterval\u001b[0m\u001b[1;33m=\u001b[0m\u001b[0minterval\u001b[0m\u001b[1;33m,\u001b[0m \u001b[0mlimit\u001b[0m\u001b[1;33m=\u001b[0m\u001b[0mlimit\u001b[0m\u001b[1;33m,\u001b[0m \u001b[0mstart\u001b[0m\u001b[1;33m=\u001b[0m\u001b[0mstart\u001b[0m\u001b[1;33m,\u001b[0m \u001b[0mend\u001b[0m\u001b[1;33m=\u001b[0m\u001b[0mend\u001b[0m\u001b[1;33m)\u001b[0m\u001b[1;33m\u001b[0m\u001b[1;33m\u001b[0m\u001b[0m\n\u001b[0m\u001b[0;32m     18\u001b[0m         \u001b[0mprint\u001b[0m\u001b[1;33m(\u001b[0m\u001b[0mpd\u001b[0m\u001b[1;33m.\u001b[0m\u001b[0mto_datetime\u001b[0m\u001b[1;33m(\u001b[0m\u001b[0mstart\u001b[0m\u001b[1;33m,\u001b[0m \u001b[0munit\u001b[0m\u001b[1;33m=\u001b[0m\u001b[1;34m'ms'\u001b[0m\u001b[1;33m)\u001b[0m\u001b[1;33m,\u001b[0m \u001b[0mpd\u001b[0m\u001b[1;33m.\u001b[0m\u001b[0mto_datetime\u001b[0m\u001b[1;33m(\u001b[0m\u001b[0mend\u001b[0m\u001b[1;33m,\u001b[0m \u001b[0munit\u001b[0m\u001b[1;33m=\u001b[0m\u001b[1;34m'ms'\u001b[0m\u001b[1;33m)\u001b[0m\u001b[1;33m,\u001b[0m \u001b[1;34m\"steps left:\"\u001b[0m\u001b[1;33m,\u001b[0m \u001b[0mtotal_steps\u001b[0m\u001b[1;33m)\u001b[0m\u001b[1;33m\u001b[0m\u001b[1;33m\u001b[0m\u001b[0m\n\u001b[0;32m     19\u001b[0m         \u001b[0mstart\u001b[0m \u001b[1;33m=\u001b[0m \u001b[0mstart\u001b[0m \u001b[1;33m+\u001b[0m \u001b[0mstep\u001b[0m\u001b[1;33m\u001b[0m\u001b[1;33m\u001b[0m\u001b[0m\n",
      "\u001b[1;32mC:\\Anaconda3\\envs\\dev\\lib\\site-packages\\bitfinex\\bitfinex_v2.py\u001b[0m in \u001b[0;36mcandles\u001b[1;34m(symbol, interval, limit, start, end, sort)\u001b[0m\n\u001b[0;32m     79\u001b[0m     \u001b[1;32mdef\u001b[0m \u001b[0mcandles\u001b[0m\u001b[1;33m(\u001b[0m\u001b[0msymbol\u001b[0m\u001b[1;33m=\u001b[0m\u001b[1;34m'btcusd'\u001b[0m\u001b[1;33m,\u001b[0m \u001b[0minterval\u001b[0m\u001b[1;33m=\u001b[0m\u001b[1;34m'1m'\u001b[0m\u001b[1;33m,\u001b[0m \u001b[0mlimit\u001b[0m\u001b[1;33m=\u001b[0m\u001b[1;36m1000\u001b[0m\u001b[1;33m,\u001b[0m \u001b[0mstart\u001b[0m\u001b[1;33m=\u001b[0m\u001b[1;32mNone\u001b[0m\u001b[1;33m,\u001b[0m \u001b[0mend\u001b[0m\u001b[1;33m=\u001b[0m\u001b[1;32mNone\u001b[0m\u001b[1;33m,\u001b[0m \u001b[0msort\u001b[0m\u001b[1;33m=\u001b[0m\u001b[1;33m-\u001b[0m\u001b[1;36m1\u001b[0m\u001b[1;33m)\u001b[0m\u001b[1;33m:\u001b[0m\u001b[1;33m\u001b[0m\u001b[1;33m\u001b[0m\u001b[0m\n\u001b[0;32m     80\u001b[0m         return requests.get('https://api.bitfinex.com/v2/candles/trade:{}:t{}/hist?limit={}&start={}&end={}&sort=-1'.\n\u001b[1;32m---> 81\u001b[1;33m                             format(interval, symbol.upper(), limit, start, end, sort)).json()\n\u001b[0m\u001b[0;32m     82\u001b[0m \u001b[1;33m\u001b[0m\u001b[0m\n\u001b[0;32m     83\u001b[0m     \u001b[1;31m# REST calculation endpoints\u001b[0m\u001b[1;33m\u001b[0m\u001b[1;33m\u001b[0m\u001b[1;33m\u001b[0m\u001b[0m\n",
      "\u001b[1;31mAttributeError\u001b[0m: 'list' object has no attribute 'upper'"
     ]
    }
   ],
   "source": [
    "# Fetch data\n",
    "def fetch_data(start, stop, symbol, interval, TIMEFRAME_S):\n",
    "    limit = 1000    # We want the maximum of 1000 data points\n",
    "    \n",
    "    # Create api instance\n",
    "    api_v2 = bitfinex.bitfinex_v2.api_v2()\n",
    "    hour = TIMEFRAME_S * 1000\n",
    "    step = hour * limit\n",
    "    data = []\n",
    "\n",
    "    total_steps = (stop-start)/hour\n",
    "    while total_steps > 0:\n",
    "        if total_steps < limit: # recalculating ending steps\n",
    "            step = total_steps * hour\n",
    "\n",
    "        end = start + step\n",
    "        data += api_v2.candles(symbol=symbol, interval=interval, limit=limit, start=start, end=end)\n",
    "        print(pd.to_datetime(start, unit='ms'), pd.to_datetime(end, unit='ms'), \"steps left:\", total_steps)\n",
    "        start = start + step\n",
    "        total_steps -= limit\n",
    "        time.sleep(1.5)\n",
    "    return data\n",
    "\n",
    "result = fetch_data(t_start, t_stop, pair, TIMEFRAME, TIMEFRAME_S)"
   ]
  },
  {
   "cell_type": "markdown",
   "metadata": {},
   "source": [
    "#### Create dataframe and save to csv file"
   ]
  },
  {
   "cell_type": "code",
   "execution_count": 7,
   "metadata": {},
   "outputs": [
    {
     "name": "stdout",
     "output_type": "stream",
     "text": [
      "No keys, only access to public API functions\n",
      "2017-01-01 06:00:00 2017-02-11 22:00:00 steps left: 42763.52972222222\n",
      "2017-02-11 22:00:00 2017-03-25 14:00:00 steps left: 41763.52972222222\n",
      "2017-03-25 14:00:00 2017-05-06 06:00:00 steps left: 40763.52972222222\n",
      "2017-05-06 06:00:00 2017-06-16 22:00:00 steps left: 39763.52972222222\n",
      "2017-06-16 22:00:00 2017-07-28 14:00:00 steps left: 38763.52972222222\n",
      "2017-07-28 14:00:00 2017-09-08 06:00:00 steps left: 37763.52972222222\n",
      "2017-09-08 06:00:00 2017-10-19 22:00:00 steps left: 36763.52972222222\n",
      "2017-10-19 22:00:00 2017-11-30 14:00:00 steps left: 35763.52972222222\n",
      "2017-11-30 14:00:00 2018-01-11 06:00:00 steps left: 34763.52972222222\n",
      "2018-01-11 06:00:00 2018-02-21 22:00:00 steps left: 33763.52972222222\n",
      "2018-02-21 22:00:00 2018-04-04 14:00:00 steps left: 32763.52972222222\n",
      "2018-04-04 14:00:00 2018-05-16 06:00:00 steps left: 31763.52972222222\n",
      "2018-05-16 06:00:00 2018-06-26 22:00:00 steps left: 30763.52972222222\n",
      "2018-06-26 22:00:00 2018-08-07 14:00:00 steps left: 29763.52972222222\n",
      "2018-08-07 14:00:00 2018-09-18 06:00:00 steps left: 28763.52972222222\n",
      "2018-09-18 06:00:00 2018-10-29 22:00:00 steps left: 27763.52972222222\n",
      "2018-10-29 22:00:00 2018-12-10 14:00:00 steps left: 26763.52972222222\n",
      "2018-12-10 14:00:00 2019-01-21 06:00:00 steps left: 25763.52972222222\n",
      "2019-01-21 06:00:00 2019-03-03 22:00:00 steps left: 24763.52972222222\n",
      "2019-03-03 22:00:00 2019-04-14 14:00:00 steps left: 23763.52972222222\n",
      "2019-04-14 14:00:00 2019-05-26 06:00:00 steps left: 22763.52972222222\n",
      "2019-05-26 06:00:00 2019-07-06 22:00:00 steps left: 21763.52972222222\n",
      "2019-07-06 22:00:00 2019-08-17 14:00:00 steps left: 20763.52972222222\n",
      "2019-08-17 14:00:00 2019-09-28 06:00:00 steps left: 19763.52972222222\n",
      "2019-09-28 06:00:00 2019-11-08 22:00:00 steps left: 18763.52972222222\n",
      "2019-11-08 22:00:00 2019-12-20 14:00:00 steps left: 17763.52972222222\n",
      "2019-12-20 14:00:00 2020-01-31 06:00:00 steps left: 16763.52972222222\n",
      "2020-01-31 06:00:00 2020-03-12 22:00:00 steps left: 15763.529722222222\n",
      "2020-03-12 22:00:00 2020-04-23 14:00:00 steps left: 14763.529722222222\n",
      "2020-04-23 14:00:00 2020-06-04 06:00:00 steps left: 13763.529722222222\n",
      "2020-06-04 06:00:00 2020-07-15 22:00:00 steps left: 12763.529722222222\n",
      "2020-07-15 22:00:00 2020-08-26 14:00:00 steps left: 11763.529722222222\n",
      "2020-08-26 14:00:00 2020-10-07 06:00:00 steps left: 10763.529722222222\n",
      "2020-10-07 06:00:00 2020-11-17 22:00:00 steps left: 9763.529722222222\n",
      "2020-11-17 22:00:00 2020-12-29 14:00:00 steps left: 8763.529722222222\n",
      "2020-12-29 14:00:00 2021-02-09 06:00:00 steps left: 7763.529722222222\n",
      "2021-02-09 06:00:00 2021-03-22 22:00:00 steps left: 6763.529722222222\n",
      "2021-03-22 22:00:00 2021-05-03 14:00:00 steps left: 5763.529722222222\n",
      "2021-05-03 14:00:00 2021-06-14 06:00:00 steps left: 4763.529722222222\n",
      "2021-06-14 06:00:00 2021-07-25 22:00:00 steps left: 3763.5297222222216\n",
      "2021-07-25 22:00:00 2021-09-05 14:00:00 steps left: 2763.5297222222216\n",
      "2021-09-05 14:00:00 2021-10-17 06:00:00 steps left: 1763.5297222222216\n",
      "2021-10-17 06:00:00 2021-11-18 01:31:47 steps left: 763.5297222222216\n",
      "No keys, only access to public API functions\n",
      "2017-01-01 06:00:00 2017-02-11 22:00:00 steps left: 42763.52972222222\n",
      "2017-02-11 22:00:00 2017-03-25 14:00:00 steps left: 41763.52972222222\n",
      "2017-03-25 14:00:00 2017-05-06 06:00:00 steps left: 40763.52972222222\n",
      "2017-05-06 06:00:00 2017-06-16 22:00:00 steps left: 39763.52972222222\n",
      "2017-06-16 22:00:00 2017-07-28 14:00:00 steps left: 38763.52972222222\n",
      "2017-07-28 14:00:00 2017-09-08 06:00:00 steps left: 37763.52972222222\n",
      "2017-09-08 06:00:00 2017-10-19 22:00:00 steps left: 36763.52972222222\n",
      "2017-10-19 22:00:00 2017-11-30 14:00:00 steps left: 35763.52972222222\n",
      "2017-11-30 14:00:00 2018-01-11 06:00:00 steps left: 34763.52972222222\n",
      "2018-01-11 06:00:00 2018-02-21 22:00:00 steps left: 33763.52972222222\n",
      "2018-02-21 22:00:00 2018-04-04 14:00:00 steps left: 32763.52972222222\n",
      "2018-04-04 14:00:00 2018-05-16 06:00:00 steps left: 31763.52972222222\n",
      "2018-05-16 06:00:00 2018-06-26 22:00:00 steps left: 30763.52972222222\n",
      "2018-06-26 22:00:00 2018-08-07 14:00:00 steps left: 29763.52972222222\n",
      "2018-08-07 14:00:00 2018-09-18 06:00:00 steps left: 28763.52972222222\n",
      "2018-09-18 06:00:00 2018-10-29 22:00:00 steps left: 27763.52972222222\n",
      "2018-10-29 22:00:00 2018-12-10 14:00:00 steps left: 26763.52972222222\n",
      "2018-12-10 14:00:00 2019-01-21 06:00:00 steps left: 25763.52972222222\n",
      "2019-01-21 06:00:00 2019-03-03 22:00:00 steps left: 24763.52972222222\n",
      "2019-03-03 22:00:00 2019-04-14 14:00:00 steps left: 23763.52972222222\n",
      "2019-04-14 14:00:00 2019-05-26 06:00:00 steps left: 22763.52972222222\n",
      "2019-05-26 06:00:00 2019-07-06 22:00:00 steps left: 21763.52972222222\n",
      "2019-07-06 22:00:00 2019-08-17 14:00:00 steps left: 20763.52972222222\n",
      "2019-08-17 14:00:00 2019-09-28 06:00:00 steps left: 19763.52972222222\n",
      "2019-09-28 06:00:00 2019-11-08 22:00:00 steps left: 18763.52972222222\n",
      "2019-11-08 22:00:00 2019-12-20 14:00:00 steps left: 17763.52972222222\n",
      "2019-12-20 14:00:00 2020-01-31 06:00:00 steps left: 16763.52972222222\n",
      "2020-01-31 06:00:00 2020-03-12 22:00:00 steps left: 15763.529722222222\n",
      "2020-03-12 22:00:00 2020-04-23 14:00:00 steps left: 14763.529722222222\n",
      "2020-04-23 14:00:00 2020-06-04 06:00:00 steps left: 13763.529722222222\n",
      "2020-06-04 06:00:00 2020-07-15 22:00:00 steps left: 12763.529722222222\n",
      "2020-07-15 22:00:00 2020-08-26 14:00:00 steps left: 11763.529722222222\n",
      "2020-08-26 14:00:00 2020-10-07 06:00:00 steps left: 10763.529722222222\n",
      "2020-10-07 06:00:00 2020-11-17 22:00:00 steps left: 9763.529722222222\n",
      "2020-11-17 22:00:00 2020-12-29 14:00:00 steps left: 8763.529722222222\n",
      "2020-12-29 14:00:00 2021-02-09 06:00:00 steps left: 7763.529722222222\n",
      "2021-02-09 06:00:00 2021-03-22 22:00:00 steps left: 6763.529722222222\n",
      "2021-03-22 22:00:00 2021-05-03 14:00:00 steps left: 5763.529722222222\n",
      "2021-05-03 14:00:00 2021-06-14 06:00:00 steps left: 4763.529722222222\n",
      "2021-06-14 06:00:00 2021-07-25 22:00:00 steps left: 3763.5297222222216\n",
      "2021-07-25 22:00:00 2021-09-05 14:00:00 steps left: 2763.5297222222216\n",
      "2021-09-05 14:00:00 2021-10-17 06:00:00 steps left: 1763.5297222222216\n",
      "2021-10-17 06:00:00 2021-11-18 01:31:47 steps left: 763.5297222222216\n"
     ]
    }
   ],
   "source": [
    "pair = ['BTCUSD', 'ETHUSD']\n",
    "\n",
    "for symbol in pair:\n",
    "    result = fetch_data(t_start, t_stop, symbol, TIMEFRAME, TIMEFRAME_S)\n",
    "\n",
    "    # Define columns name\n",
    "    names = ['Date', 'Open', 'Close', 'High', 'Low', 'Volume']\n",
    "\n",
    "    # Create dataframe\n",
    "    df = pd.DataFrame(result, columns=names)\n",
    "    df.drop_duplicates(inplace=True)\n",
    "    df['Date'] = pd.to_datetime(df['Date'], unit='ms')\n",
    "    df.set_index('Date', inplace=True)\n",
    "    df.sort_index(inplace=True)\n",
    "\n",
    "    # Save dataframe to csv file\n",
    "    df.to_csv(\"{}_{}.csv\".format(symbol, TIMEFRAME))\n",
    "\n"
   ]
  },
  {
   "cell_type": "code",
   "execution_count": 4,
   "metadata": {},
   "outputs": [],
   "source": [
    "# Define columns name\n",
    "names = ['Date', 'Open', 'Close', 'High', 'Low', 'Volume']\n",
    "\n",
    "# Create dataframe\n",
    "df = pd.DataFrame(result, columns=names)\n",
    "df.drop_duplicates(inplace=True)\n",
    "df['Date'] = pd.to_datetime(df['Date'], unit='ms')\n",
    "df.set_index('Date', inplace=True)\n",
    "df.sort_index(inplace=True)\n",
    "\n",
    "# Save dataframe to csv file\n",
    "df.to_csv(\"{}_{}.csv\".format(pairs, TIMEFRAME))"
   ]
  }
 ],
 "metadata": {
  "interpreter": {
   "hash": "b7d1f2948ceac33c47cc3118599163110709bfe8fc361e52a29a1b62bc95a3f6"
  },
  "kernelspec": {
   "display_name": "Python 3.7.10 64-bit ('dev': conda)",
   "name": "python3"
  },
  "language_info": {
   "codemirror_mode": {
    "name": "ipython",
    "version": 3
   },
   "file_extension": ".py",
   "mimetype": "text/x-python",
   "name": "python",
   "nbconvert_exporter": "python",
   "pygments_lexer": "ipython3",
   "version": "3.7.10"
  },
  "orig_nbformat": 4
 },
 "nbformat": 4,
 "nbformat_minor": 2
}
