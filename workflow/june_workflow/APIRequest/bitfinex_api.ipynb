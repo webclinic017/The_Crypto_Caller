{
 "cells": [
  {
   "cell_type": "code",
   "execution_count": 1,
   "metadata": {},
   "outputs": [],
   "source": [
    "# Import the library\n",
    "import bitfinex\n",
    "import datetime\n",
    "import time\n",
    "import pandas as pd\n",
    "from pathlib import Path"
   ]
  },
  {
   "cell_type": "markdown",
   "metadata": {},
   "source": [
    "#### Step 1 - Define Query parameters: Ticker, Start / End Date"
   ]
  },
  {
   "cell_type": "code",
   "execution_count": 2,
   "metadata": {},
   "outputs": [],
   "source": [
    "# Define query parameters\n",
    "\n",
    "# Create list of currency pair of interest\n",
    "pair = 'BTCUSD' \n",
    "\n",
    "# Define timeframe of data to pull\n",
    "TIMEFRAME = '1h'#,'4h','1h','15m','1m'\n",
    "TIMEFRAME_S = 3600 # seconds in TIMEFRAME\n",
    "\n",
    "# Define the start date\n",
    "t_start = datetime.datetime(2017, 1, 1, 0, 0)\n",
    "t_start = time.mktime(t_start.timetuple()) * 1000\n",
    "\n",
    "# Define the end date\n",
    "t_stop = datetime.datetime.now()\n",
    "t_stop = time.mktime(t_stop.timetuple()) * 1000"
   ]
  },
  {
   "cell_type": "markdown",
   "metadata": {},
   "source": [
    "#### Step 2 - Create api instance from Bitfinex library, and fetch data for longer time intervals, current limit for Bitfinex API is 60 calls per minute"
   ]
  },
  {
   "cell_type": "code",
   "execution_count": 3,
   "metadata": {},
   "outputs": [
    {
     "name": "stdout",
     "output_type": "stream",
     "text": [
      "No keys, only access to public API functions\n",
      "2017-01-01 06:00:00 2017-02-11 22:00:00 steps left: 42755.67805555555\n",
      "2017-02-11 22:00:00 2017-03-25 14:00:00 steps left: 41755.67805555555\n",
      "2017-03-25 14:00:00 2017-05-06 06:00:00 steps left: 40755.67805555555\n",
      "2017-05-06 06:00:00 2017-06-16 22:00:00 steps left: 39755.67805555555\n",
      "2017-06-16 22:00:00 2017-07-28 14:00:00 steps left: 38755.67805555555\n",
      "2017-07-28 14:00:00 2017-09-08 06:00:00 steps left: 37755.67805555555\n",
      "2017-09-08 06:00:00 2017-10-19 22:00:00 steps left: 36755.67805555555\n",
      "2017-10-19 22:00:00 2017-11-30 14:00:00 steps left: 35755.67805555555\n",
      "2017-11-30 14:00:00 2018-01-11 06:00:00 steps left: 34755.67805555555\n",
      "2018-01-11 06:00:00 2018-02-21 22:00:00 steps left: 33755.67805555555\n",
      "2018-02-21 22:00:00 2018-04-04 14:00:00 steps left: 32755.678055555552\n",
      "2018-04-04 14:00:00 2018-05-16 06:00:00 steps left: 31755.678055555552\n",
      "2018-05-16 06:00:00 2018-06-26 22:00:00 steps left: 30755.678055555552\n",
      "2018-06-26 22:00:00 2018-08-07 14:00:00 steps left: 29755.678055555552\n",
      "2018-08-07 14:00:00 2018-09-18 06:00:00 steps left: 28755.678055555552\n",
      "2018-09-18 06:00:00 2018-10-29 22:00:00 steps left: 27755.678055555552\n",
      "2018-10-29 22:00:00 2018-12-10 14:00:00 steps left: 26755.678055555552\n",
      "2018-12-10 14:00:00 2019-01-21 06:00:00 steps left: 25755.678055555552\n",
      "2019-01-21 06:00:00 2019-03-03 22:00:00 steps left: 24755.678055555552\n",
      "2019-03-03 22:00:00 2019-04-14 14:00:00 steps left: 23755.678055555552\n",
      "2019-04-14 14:00:00 2019-05-26 06:00:00 steps left: 22755.678055555552\n",
      "2019-05-26 06:00:00 2019-07-06 22:00:00 steps left: 21755.678055555552\n",
      "2019-07-06 22:00:00 2019-08-17 14:00:00 steps left: 20755.678055555552\n",
      "2019-08-17 14:00:00 2019-09-28 06:00:00 steps left: 19755.678055555552\n",
      "2019-09-28 06:00:00 2019-11-08 22:00:00 steps left: 18755.678055555552\n",
      "2019-11-08 22:00:00 2019-12-20 14:00:00 steps left: 17755.678055555552\n",
      "2019-12-20 14:00:00 2020-01-31 06:00:00 steps left: 16755.678055555552\n",
      "2020-01-31 06:00:00 2020-03-12 22:00:00 steps left: 15755.678055555552\n",
      "2020-03-12 22:00:00 2020-04-23 14:00:00 steps left: 14755.678055555552\n",
      "2020-04-23 14:00:00 2020-06-04 06:00:00 steps left: 13755.678055555552\n",
      "2020-06-04 06:00:00 2020-07-15 22:00:00 steps left: 12755.678055555552\n",
      "2020-07-15 22:00:00 2020-08-26 14:00:00 steps left: 11755.678055555552\n",
      "2020-08-26 14:00:00 2020-10-07 06:00:00 steps left: 10755.678055555552\n",
      "2020-10-07 06:00:00 2020-11-17 22:00:00 steps left: 9755.678055555552\n",
      "2020-11-17 22:00:00 2020-12-29 14:00:00 steps left: 8755.678055555552\n",
      "2020-12-29 14:00:00 2021-02-09 06:00:00 steps left: 7755.678055555552\n",
      "2021-02-09 06:00:00 2021-03-22 22:00:00 steps left: 6755.678055555552\n",
      "2021-03-22 22:00:00 2021-05-03 14:00:00 steps left: 5755.678055555552\n",
      "2021-05-03 14:00:00 2021-06-14 06:00:00 steps left: 4755.678055555552\n",
      "2021-06-14 06:00:00 2021-07-25 22:00:00 steps left: 3755.6780555555524\n",
      "2021-07-25 22:00:00 2021-09-05 14:00:00 steps left: 2755.6780555555524\n",
      "2021-09-05 14:00:00 2021-10-17 06:00:00 steps left: 1755.6780555555524\n",
      "2021-10-17 06:00:00 2021-11-17 17:40:41 steps left: 755.6780555555524\n"
     ]
    }
   ],
   "source": [
    "# Fetch data\n",
    "def fetch_data(start, stop, symbol, interval, TIMEFRAME_S):\n",
    "    limit = 1000    # We want the maximum of 1000 data points\n",
    "    \n",
    "    # Create api instance\n",
    "    api_v2 = bitfinex.bitfinex_v2.api_v2()\n",
    "    hour = TIMEFRAME_S * 1000\n",
    "    step = hour * limit\n",
    "    data = []\n",
    "\n",
    "    total_steps = (stop-start)/hour\n",
    "    while total_steps > 0:\n",
    "        if total_steps < limit: # recalculating ending steps\n",
    "            step = total_steps * hour\n",
    "\n",
    "        end = start + step\n",
    "        data += api_v2.candles(symbol=symbol, interval=interval, limit=limit, start=start, end=end)\n",
    "        print(pd.to_datetime(start, unit='ms'), pd.to_datetime(end, unit='ms'), \"steps left:\", total_steps)\n",
    "        start = start + step\n",
    "        total_steps -= limit\n",
    "        time.sleep(1.5)\n",
    "    return data\n",
    "\n",
    "result = fetch_data(t_start, t_stop, pair, TIMEFRAME, TIMEFRAME_S)"
   ]
  },
  {
   "cell_type": "markdown",
   "metadata": {},
   "source": [
    "#### Create dataframe and save to csv file"
   ]
  },
  {
   "cell_type": "code",
   "execution_count": 4,
   "metadata": {},
   "outputs": [],
   "source": [
    "# Define columns name\n",
    "names = ['Date', 'Open', 'Close', 'High', 'Low', 'Volume']\n",
    "\n",
    "# Create dataframe\n",
    "df = pd.DataFrame(result, columns=names)\n",
    "df.drop_duplicates(inplace=True)\n",
    "df['Date'] = pd.to_datetime(df['Date'], unit='ms')\n",
    "df.set_index('Date', inplace=True)\n",
    "df.sort_index(inplace=True)\n",
    "\n",
    "# Save dataframe to csv file\n",
    "df.to_csv(f\"{pair}_{TIMEFRAME}.csv\")"
   ]
  }
 ],
 "metadata": {
  "interpreter": {
   "hash": "b7d1f2948ceac33c47cc3118599163110709bfe8fc361e52a29a1b62bc95a3f6"
  },
  "kernelspec": {
   "display_name": "Python 3.7.10 64-bit ('dev': conda)",
   "name": "python3"
  },
  "language_info": {
   "codemirror_mode": {
    "name": "ipython",
    "version": 3
   },
   "file_extension": ".py",
   "mimetype": "text/x-python",
   "name": "python",
   "nbconvert_exporter": "python",
   "pygments_lexer": "ipython3",
   "version": "3.7.10"
  },
  "orig_nbformat": 4
 },
 "nbformat": 4,
 "nbformat_minor": 2
}
