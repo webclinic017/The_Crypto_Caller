{
 "cells": [
  {
   "cell_type": "code",
   "execution_count": 2,
   "metadata": {},
   "outputs": [],
   "source": [
    "#Import and utilizing the coinmarketcap info\n",
    "\n",
    "from dotenv import load_dotenv\n",
    "load_dotenv()\n",
    "\n",
    "import coinmarketcapapi\n",
    "cmc = coinmarketcapapi.CoinMarketCapAPI('cmc_API')"
   ]
  },
  {
   "cell_type": "code",
   "execution_count": 3,
   "metadata": {},
   "outputs": [],
   "source": [
    "#Mapping the information from CoinMarketCap using their APi Information\n",
    "\n",
    "data_id_map = cmc.cryptocurrency_map()"
   ]
  },
  {
   "cell_type": "code",
   "execution_count": 4,
   "metadata": {},
   "outputs": [
    {
     "name": "stdout",
     "output_type": "stream",
     "text": [
      "                         name\n",
      "symbol                       \n",
      "BTC                   Bitcoin\n",
      "LTC                  Litecoin\n",
      "NMC                  Namecoin\n",
      "TRC                 Terracoin\n",
      "PPC                  Peercoin\n",
      "...                       ...\n",
      "BOB               Baby o Baby\n",
      "FLOKIFM             FLOKIFOMO\n",
      "CKG          Crystal Kingdoms\n",
      "UFLOKI   Universal Floki Coin\n",
      "BBOXER              BabyBoxer\n",
      "\n",
      "[7463 rows x 1 columns]\n"
     ]
    }
   ],
   "source": [
    "## Scraping the information from CoinMarketcap specifically to pull Symbol and Name\n",
    "import pandas as pd\n",
    "pd = pd.DataFrame(data_id_map.data, columns =['name','symbol'])\n",
    "pd.set_index('symbol',inplace=True)\n",
    "print(pd)\n"
   ]
  },
  {
   "cell_type": "code",
   "execution_count": 5,
   "metadata": {},
   "outputs": [],
   "source": [
    "# Print to CSV\n",
    "pd.to_csv('CryptoList.csv')"
   ]
  }
 ],
 "metadata": {
  "interpreter": {
   "hash": "52131790a8f53977581f04282f154ab32d8be0cf6d886476fa1f7e53b206c71b"
  },
  "kernelspec": {
   "display_name": "Python 3.7.10 64-bit ('dev': conda)",
   "language": "python",
   "name": "python3"
  },
  "language_info": {
   "codemirror_mode": {
    "name": "ipython",
    "version": 3
   },
   "file_extension": ".py",
   "mimetype": "text/x-python",
   "name": "python",
   "nbconvert_exporter": "python",
   "pygments_lexer": "ipython3",
   "version": "3.7.10"
  },
  "orig_nbformat": 4
 },
 "nbformat": 4,
 "nbformat_minor": 2
}
